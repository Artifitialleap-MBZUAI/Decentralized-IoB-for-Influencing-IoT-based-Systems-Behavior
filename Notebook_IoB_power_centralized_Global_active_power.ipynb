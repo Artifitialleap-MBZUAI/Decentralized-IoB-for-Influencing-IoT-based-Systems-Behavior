{
  "nbformat": 4,
  "nbformat_minor": 0,
  "metadata": {
    "colab": {
      "name": "Notebook IoB power centralized Global_active_power",
      "provenance": [],
      "collapsed_sections": []
    },
    "kernelspec": {
      "name": "python3",
      "display_name": "Python 3"
    },
    "language_info": {
      "name": "python"
    }
  },
  "cells": [
    {
      "cell_type": "code",
      "metadata": {
        "id": "P_XTqUkvuDHQ"
      },
      "source": [
        "import pandas as pd"
      ],
      "execution_count": null,
      "outputs": []
    },
    {
      "cell_type": "code",
      "metadata": {
        "id": "khPEXXrdvh-Y"
      },
      "source": [
        "df = pd.read_csv('/content/drive/MyDrive/IoB power consumption/household_power_consumption.txt', sep=';', \n",
        "                 parse_dates={'dt' : ['Date', 'Time']}, infer_datetime_format=True, \n",
        "                 low_memory=False, na_values=['nan','?'], index_col='dt')"
      ],
      "execution_count": null,
      "outputs": []
    },
    {
      "cell_type": "code",
      "metadata": {
        "colab": {
          "base_uri": "https://localhost:8080/",
          "height": 236
        },
        "id": "viXl24v4vmNG",
        "outputId": "64fe982a-0ffe-4b74-a97e-1a74a7930b9e"
      },
      "source": [
        "df.head()"
      ],
      "execution_count": null,
      "outputs": [
        {
          "output_type": "execute_result",
          "data": {
            "text/html": [
              "<div>\n",
              "<style scoped>\n",
              "    .dataframe tbody tr th:only-of-type {\n",
              "        vertical-align: middle;\n",
              "    }\n",
              "\n",
              "    .dataframe tbody tr th {\n",
              "        vertical-align: top;\n",
              "    }\n",
              "\n",
              "    .dataframe thead th {\n",
              "        text-align: right;\n",
              "    }\n",
              "</style>\n",
              "<table border=\"1\" class=\"dataframe\">\n",
              "  <thead>\n",
              "    <tr style=\"text-align: right;\">\n",
              "      <th></th>\n",
              "      <th>Global_active_power</th>\n",
              "      <th>Global_reactive_power</th>\n",
              "      <th>Voltage</th>\n",
              "      <th>Global_intensity</th>\n",
              "      <th>Sub_metering_1</th>\n",
              "      <th>Sub_metering_2</th>\n",
              "      <th>Sub_metering_3</th>\n",
              "    </tr>\n",
              "    <tr>\n",
              "      <th>dt</th>\n",
              "      <th></th>\n",
              "      <th></th>\n",
              "      <th></th>\n",
              "      <th></th>\n",
              "      <th></th>\n",
              "      <th></th>\n",
              "      <th></th>\n",
              "    </tr>\n",
              "  </thead>\n",
              "  <tbody>\n",
              "    <tr>\n",
              "      <th>2006-12-16 17:24:00</th>\n",
              "      <td>4.216</td>\n",
              "      <td>0.418</td>\n",
              "      <td>234.84</td>\n",
              "      <td>18.4</td>\n",
              "      <td>0.0</td>\n",
              "      <td>1.0</td>\n",
              "      <td>17.0</td>\n",
              "    </tr>\n",
              "    <tr>\n",
              "      <th>2006-12-16 17:25:00</th>\n",
              "      <td>5.360</td>\n",
              "      <td>0.436</td>\n",
              "      <td>233.63</td>\n",
              "      <td>23.0</td>\n",
              "      <td>0.0</td>\n",
              "      <td>1.0</td>\n",
              "      <td>16.0</td>\n",
              "    </tr>\n",
              "    <tr>\n",
              "      <th>2006-12-16 17:26:00</th>\n",
              "      <td>5.374</td>\n",
              "      <td>0.498</td>\n",
              "      <td>233.29</td>\n",
              "      <td>23.0</td>\n",
              "      <td>0.0</td>\n",
              "      <td>2.0</td>\n",
              "      <td>17.0</td>\n",
              "    </tr>\n",
              "    <tr>\n",
              "      <th>2006-12-16 17:27:00</th>\n",
              "      <td>5.388</td>\n",
              "      <td>0.502</td>\n",
              "      <td>233.74</td>\n",
              "      <td>23.0</td>\n",
              "      <td>0.0</td>\n",
              "      <td>1.0</td>\n",
              "      <td>17.0</td>\n",
              "    </tr>\n",
              "    <tr>\n",
              "      <th>2006-12-16 17:28:00</th>\n",
              "      <td>3.666</td>\n",
              "      <td>0.528</td>\n",
              "      <td>235.68</td>\n",
              "      <td>15.8</td>\n",
              "      <td>0.0</td>\n",
              "      <td>1.0</td>\n",
              "      <td>17.0</td>\n",
              "    </tr>\n",
              "  </tbody>\n",
              "</table>\n",
              "</div>"
            ],
            "text/plain": [
              "                     Global_active_power  ...  Sub_metering_3\n",
              "dt                                        ...                \n",
              "2006-12-16 17:24:00                4.216  ...            17.0\n",
              "2006-12-16 17:25:00                5.360  ...            16.0\n",
              "2006-12-16 17:26:00                5.374  ...            17.0\n",
              "2006-12-16 17:27:00                5.388  ...            17.0\n",
              "2006-12-16 17:28:00                3.666  ...            17.0\n",
              "\n",
              "[5 rows x 7 columns]"
            ]
          },
          "metadata": {},
          "execution_count": 4
        }
      ]
    },
    {
      "cell_type": "code",
      "metadata": {
        "colab": {
          "base_uri": "https://localhost:8080/"
        },
        "id": "-ZWLTPSHunm3",
        "outputId": "261579cf-7df7-42ee-8cac-be4dba2907d6"
      },
      "source": [
        "df.count()"
      ],
      "execution_count": null,
      "outputs": [
        {
          "output_type": "execute_result",
          "data": {
            "text/plain": [
              "Global_active_power      2049280\n",
              "Global_reactive_power    2049280\n",
              "Voltage                  2049280\n",
              "Global_intensity         2049280\n",
              "Sub_metering_1           2049280\n",
              "Sub_metering_2           2049280\n",
              "Sub_metering_3           2049280\n",
              "dtype: int64"
            ]
          },
          "metadata": {},
          "execution_count": 5
        }
      ]
    },
    {
      "cell_type": "code",
      "metadata": {
        "id": "0JFkQXVrvv-1"
      },
      "source": [
        "values = df.values.astype('float32')\n",
        "df['sub_metering_4'] = (values[:,0] * 1000 / 60) - (values[:,4] + values[:,5] + values[:,6])\n",
        "df['ds']=df.index\n",
        "df[\"day_name\"]= df['ds'].dt.day_name()\n",
        "#del df.ds"
      ],
      "execution_count": null,
      "outputs": []
    },
    {
      "cell_type": "code",
      "metadata": {
        "id": "Y-iHwC5kHIpH"
      },
      "source": [
        "df.drop(['ds'], axis=1, inplace=True)"
      ],
      "execution_count": null,
      "outputs": []
    },
    {
      "cell_type": "code",
      "metadata": {
        "colab": {
          "base_uri": "https://localhost:8080/",
          "height": 323
        },
        "id": "59ZX0iQtvyMX",
        "outputId": "70f5d091-c1e3-4767-d1e4-448daf7d58e4"
      },
      "source": [
        "df.head() "
      ],
      "execution_count": null,
      "outputs": [
        {
          "output_type": "execute_result",
          "data": {
            "text/html": [
              "<div>\n",
              "<style scoped>\n",
              "    .dataframe tbody tr th:only-of-type {\n",
              "        vertical-align: middle;\n",
              "    }\n",
              "\n",
              "    .dataframe tbody tr th {\n",
              "        vertical-align: top;\n",
              "    }\n",
              "\n",
              "    .dataframe thead th {\n",
              "        text-align: right;\n",
              "    }\n",
              "</style>\n",
              "<table border=\"1\" class=\"dataframe\">\n",
              "  <thead>\n",
              "    <tr style=\"text-align: right;\">\n",
              "      <th></th>\n",
              "      <th>Global_active_power</th>\n",
              "      <th>Global_reactive_power</th>\n",
              "      <th>Voltage</th>\n",
              "      <th>Global_intensity</th>\n",
              "      <th>Sub_metering_1</th>\n",
              "      <th>Sub_metering_2</th>\n",
              "      <th>Sub_metering_3</th>\n",
              "      <th>sub_metering_4</th>\n",
              "      <th>day_name</th>\n",
              "    </tr>\n",
              "    <tr>\n",
              "      <th>dt</th>\n",
              "      <th></th>\n",
              "      <th></th>\n",
              "      <th></th>\n",
              "      <th></th>\n",
              "      <th></th>\n",
              "      <th></th>\n",
              "      <th></th>\n",
              "      <th></th>\n",
              "      <th></th>\n",
              "    </tr>\n",
              "  </thead>\n",
              "  <tbody>\n",
              "    <tr>\n",
              "      <th>2006-12-16 17:24:00</th>\n",
              "      <td>4.216</td>\n",
              "      <td>0.418</td>\n",
              "      <td>234.84</td>\n",
              "      <td>18.4</td>\n",
              "      <td>0.0</td>\n",
              "      <td>1.0</td>\n",
              "      <td>17.0</td>\n",
              "      <td>52.266670</td>\n",
              "      <td>Saturday</td>\n",
              "    </tr>\n",
              "    <tr>\n",
              "      <th>2006-12-16 17:25:00</th>\n",
              "      <td>5.360</td>\n",
              "      <td>0.436</td>\n",
              "      <td>233.63</td>\n",
              "      <td>23.0</td>\n",
              "      <td>0.0</td>\n",
              "      <td>1.0</td>\n",
              "      <td>16.0</td>\n",
              "      <td>72.333336</td>\n",
              "      <td>Saturday</td>\n",
              "    </tr>\n",
              "    <tr>\n",
              "      <th>2006-12-16 17:26:00</th>\n",
              "      <td>5.374</td>\n",
              "      <td>0.498</td>\n",
              "      <td>233.29</td>\n",
              "      <td>23.0</td>\n",
              "      <td>0.0</td>\n",
              "      <td>2.0</td>\n",
              "      <td>17.0</td>\n",
              "      <td>70.566666</td>\n",
              "      <td>Saturday</td>\n",
              "    </tr>\n",
              "    <tr>\n",
              "      <th>2006-12-16 17:27:00</th>\n",
              "      <td>5.388</td>\n",
              "      <td>0.502</td>\n",
              "      <td>233.74</td>\n",
              "      <td>23.0</td>\n",
              "      <td>0.0</td>\n",
              "      <td>1.0</td>\n",
              "      <td>17.0</td>\n",
              "      <td>71.800003</td>\n",
              "      <td>Saturday</td>\n",
              "    </tr>\n",
              "    <tr>\n",
              "      <th>2006-12-16 17:28:00</th>\n",
              "      <td>3.666</td>\n",
              "      <td>0.528</td>\n",
              "      <td>235.68</td>\n",
              "      <td>15.8</td>\n",
              "      <td>0.0</td>\n",
              "      <td>1.0</td>\n",
              "      <td>17.0</td>\n",
              "      <td>43.099998</td>\n",
              "      <td>Saturday</td>\n",
              "    </tr>\n",
              "  </tbody>\n",
              "</table>\n",
              "</div>"
            ],
            "text/plain": [
              "                     Global_active_power  ...  day_name\n",
              "dt                                        ...          \n",
              "2006-12-16 17:24:00                4.216  ...  Saturday\n",
              "2006-12-16 17:25:00                5.360  ...  Saturday\n",
              "2006-12-16 17:26:00                5.374  ...  Saturday\n",
              "2006-12-16 17:27:00                5.388  ...  Saturday\n",
              "2006-12-16 17:28:00                3.666  ...  Saturday\n",
              "\n",
              "[5 rows x 9 columns]"
            ]
          },
          "metadata": {},
          "execution_count": 8
        }
      ]
    },
    {
      "cell_type": "code",
      "metadata": {
        "colab": {
          "base_uri": "https://localhost:8080/"
        },
        "id": "USS0Zd9av3kj",
        "outputId": "f34099b1-43b8-4a43-994f-760447e23f41"
      },
      "source": [
        "droping_list_all=[]\n",
        "for j in range(0,9):\n",
        "    if not df.iloc[:, j].notnull().all():\n",
        "        droping_list_all.append(j)        \n",
        "droping_list_all"
      ],
      "execution_count": null,
      "outputs": [
        {
          "output_type": "execute_result",
          "data": {
            "text/plain": [
              "[0, 1, 2, 3, 4, 5, 6, 7]"
            ]
          },
          "metadata": {},
          "execution_count": 9
        }
      ]
    },
    {
      "cell_type": "code",
      "metadata": {
        "id": "je6LJCQJv3sD"
      },
      "source": [
        "for j in range(0,8):        \n",
        "        df.iloc[:,j]=df.iloc[:,j].fillna(df.iloc[:,j].mean())"
      ],
      "execution_count": null,
      "outputs": []
    },
    {
      "cell_type": "code",
      "metadata": {
        "colab": {
          "base_uri": "https://localhost:8080/"
        },
        "id": "oPoZrZb5v78i",
        "outputId": "c4f93a00-488a-4bb4-a1a7-2d2ff03959c2"
      },
      "source": [
        "df.isnull().sum()"
      ],
      "execution_count": null,
      "outputs": [
        {
          "output_type": "execute_result",
          "data": {
            "text/plain": [
              "Global_active_power      0\n",
              "Global_reactive_power    0\n",
              "Voltage                  0\n",
              "Global_intensity         0\n",
              "Sub_metering_1           0\n",
              "Sub_metering_2           0\n",
              "Sub_metering_3           0\n",
              "sub_metering_4           0\n",
              "day_name                 0\n",
              "dtype: int64"
            ]
          },
          "metadata": {},
          "execution_count": 11
        }
      ]
    },
    {
      "cell_type": "code",
      "metadata": {
        "colab": {
          "base_uri": "https://localhost:8080/"
        },
        "id": "cxj8IFFjuxtz",
        "outputId": "f6d7c263-5705-4650-b5e9-be56e9157e97"
      },
      "source": [
        "df.count()"
      ],
      "execution_count": null,
      "outputs": [
        {
          "output_type": "execute_result",
          "data": {
            "text/plain": [
              "Global_active_power      2075259\n",
              "Global_reactive_power    2075259\n",
              "Voltage                  2075259\n",
              "Global_intensity         2075259\n",
              "Sub_metering_1           2075259\n",
              "Sub_metering_2           2075259\n",
              "Sub_metering_3           2075259\n",
              "sub_metering_4           2075259\n",
              "day_name                 2075259\n",
              "dtype: int64"
            ]
          },
          "metadata": {},
          "execution_count": 12
        }
      ]
    },
    {
      "cell_type": "markdown",
      "metadata": {
        "id": "gGsSerqHPfqE"
      },
      "source": [
        "# LSTM"
      ]
    },
    {
      "cell_type": "code",
      "metadata": {
        "id": "CjKWoiIpPjwP"
      },
      "source": [
        "def series_to_supervised(data, n_in=1, n_out=1, dropnan=True):\n",
        "\tn_vars = 1 if type(data) is list else data.shape[1]\n",
        "\tdff = pd.DataFrame(data)\n",
        "\tcols, names = list(), list()\n",
        "\t# input sequence (t-n, ... t-1)\n",
        "\tfor i in range(n_in, 0, -1):\n",
        "\t\tcols.append(dff.shift(i))\n",
        "\t\tnames += [('var%d(t-%d)' % (j+1, i)) for j in range(n_vars)]\n",
        "\t# forecast sequence (t, t+1, ... t+n)\n",
        "\tfor i in range(0, n_out):\n",
        "\t\tcols.append(dff.shift(-i))\n",
        "\t\tif i == 0:\n",
        "\t\t\tnames += [('var%d(t)' % (j+1)) for j in range(n_vars)]\n",
        "\t\telse:\n",
        "\t\t\tnames += [('var%d(t+%d)' % (j+1, i)) for j in range(n_vars)]\n",
        "\t# put it all together\n",
        "\tagg = pd.concat(cols, axis=1)\n",
        "\tagg.columns = names\n",
        "\t# drop rows with NaN values\n",
        "\tif dropnan:\n",
        "\t\tagg.dropna(inplace=True)\n",
        "\treturn agg"
      ],
      "execution_count": null,
      "outputs": []
    },
    {
      "cell_type": "code",
      "metadata": {
        "colab": {
          "base_uri": "https://localhost:8080/"
        },
        "id": "T-SFaqJ2Trqp",
        "outputId": "008fd119-517b-4d39-e91f-f9af023a30dc"
      },
      "source": [
        "df_resample = df.resample('h').sum() \n",
        "df_resample.shape"
      ],
      "execution_count": null,
      "outputs": [
        {
          "output_type": "execute_result",
          "data": {
            "text/plain": [
              "(34589, 8)"
            ]
          },
          "metadata": {},
          "execution_count": 14
        }
      ]
    },
    {
      "cell_type": "code",
      "metadata": {
        "colab": {
          "base_uri": "https://localhost:8080/",
          "height": 236
        },
        "id": "c2MzIJsGT0u6",
        "outputId": "2e1ecf0b-67c8-431c-f468-6a940a4ca817"
      },
      "source": [
        "df_resample.head()"
      ],
      "execution_count": null,
      "outputs": [
        {
          "output_type": "execute_result",
          "data": {
            "text/html": [
              "<div>\n",
              "<style scoped>\n",
              "    .dataframe tbody tr th:only-of-type {\n",
              "        vertical-align: middle;\n",
              "    }\n",
              "\n",
              "    .dataframe tbody tr th {\n",
              "        vertical-align: top;\n",
              "    }\n",
              "\n",
              "    .dataframe thead th {\n",
              "        text-align: right;\n",
              "    }\n",
              "</style>\n",
              "<table border=\"1\" class=\"dataframe\">\n",
              "  <thead>\n",
              "    <tr style=\"text-align: right;\">\n",
              "      <th></th>\n",
              "      <th>Global_active_power</th>\n",
              "      <th>Global_reactive_power</th>\n",
              "      <th>Voltage</th>\n",
              "      <th>Global_intensity</th>\n",
              "      <th>Sub_metering_1</th>\n",
              "      <th>Sub_metering_2</th>\n",
              "      <th>Sub_metering_3</th>\n",
              "      <th>sub_metering_4</th>\n",
              "    </tr>\n",
              "    <tr>\n",
              "      <th>dt</th>\n",
              "      <th></th>\n",
              "      <th></th>\n",
              "      <th></th>\n",
              "      <th></th>\n",
              "      <th></th>\n",
              "      <th></th>\n",
              "      <th></th>\n",
              "      <th></th>\n",
              "    </tr>\n",
              "  </thead>\n",
              "  <tbody>\n",
              "    <tr>\n",
              "      <th>2006-12-16 17:00:00</th>\n",
              "      <td>152.024</td>\n",
              "      <td>8.244</td>\n",
              "      <td>8447.18</td>\n",
              "      <td>651.6</td>\n",
              "      <td>0.0</td>\n",
              "      <td>19.0</td>\n",
              "      <td>607.0</td>\n",
              "      <td>1907.733398</td>\n",
              "    </tr>\n",
              "    <tr>\n",
              "      <th>2006-12-16 18:00:00</th>\n",
              "      <td>217.932</td>\n",
              "      <td>4.802</td>\n",
              "      <td>14074.81</td>\n",
              "      <td>936.0</td>\n",
              "      <td>0.0</td>\n",
              "      <td>403.0</td>\n",
              "      <td>1012.0</td>\n",
              "      <td>2217.199951</td>\n",
              "    </tr>\n",
              "    <tr>\n",
              "      <th>2006-12-16 19:00:00</th>\n",
              "      <td>204.014</td>\n",
              "      <td>5.114</td>\n",
              "      <td>13993.95</td>\n",
              "      <td>870.2</td>\n",
              "      <td>0.0</td>\n",
              "      <td>86.0</td>\n",
              "      <td>1001.0</td>\n",
              "      <td>2313.233398</td>\n",
              "    </tr>\n",
              "    <tr>\n",
              "      <th>2006-12-16 20:00:00</th>\n",
              "      <td>196.114</td>\n",
              "      <td>4.506</td>\n",
              "      <td>14044.29</td>\n",
              "      <td>835.0</td>\n",
              "      <td>0.0</td>\n",
              "      <td>0.0</td>\n",
              "      <td>1007.0</td>\n",
              "      <td>2261.566650</td>\n",
              "    </tr>\n",
              "    <tr>\n",
              "      <th>2006-12-16 21:00:00</th>\n",
              "      <td>183.388</td>\n",
              "      <td>4.600</td>\n",
              "      <td>14229.52</td>\n",
              "      <td>782.8</td>\n",
              "      <td>0.0</td>\n",
              "      <td>25.0</td>\n",
              "      <td>1033.0</td>\n",
              "      <td>1998.466675</td>\n",
              "    </tr>\n",
              "  </tbody>\n",
              "</table>\n",
              "</div>"
            ],
            "text/plain": [
              "                     Global_active_power  ...  sub_metering_4\n",
              "dt                                        ...                \n",
              "2006-12-16 17:00:00              152.024  ...     1907.733398\n",
              "2006-12-16 18:00:00              217.932  ...     2217.199951\n",
              "2006-12-16 19:00:00              204.014  ...     2313.233398\n",
              "2006-12-16 20:00:00              196.114  ...     2261.566650\n",
              "2006-12-16 21:00:00              183.388  ...     1998.466675\n",
              "\n",
              "[5 rows x 8 columns]"
            ]
          },
          "metadata": {},
          "execution_count": 15
        }
      ]
    },
    {
      "cell_type": "code",
      "metadata": {
        "colab": {
          "base_uri": "https://localhost:8080/",
          "height": 177
        },
        "id": "tqd0__V4I09c",
        "outputId": "4ed5bf2f-f3fd-4d29-e7f6-2aba31435dab"
      },
      "source": [
        "df_resample[\"day_name\"]= df_resample.index.day_name()\n",
        "df_resample.head(2)"
      ],
      "execution_count": null,
      "outputs": [
        {
          "output_type": "execute_result",
          "data": {
            "text/html": [
              "<div>\n",
              "<style scoped>\n",
              "    .dataframe tbody tr th:only-of-type {\n",
              "        vertical-align: middle;\n",
              "    }\n",
              "\n",
              "    .dataframe tbody tr th {\n",
              "        vertical-align: top;\n",
              "    }\n",
              "\n",
              "    .dataframe thead th {\n",
              "        text-align: right;\n",
              "    }\n",
              "</style>\n",
              "<table border=\"1\" class=\"dataframe\">\n",
              "  <thead>\n",
              "    <tr style=\"text-align: right;\">\n",
              "      <th></th>\n",
              "      <th>Global_active_power</th>\n",
              "      <th>Global_reactive_power</th>\n",
              "      <th>Voltage</th>\n",
              "      <th>Global_intensity</th>\n",
              "      <th>Sub_metering_1</th>\n",
              "      <th>Sub_metering_2</th>\n",
              "      <th>Sub_metering_3</th>\n",
              "      <th>sub_metering_4</th>\n",
              "      <th>day_name</th>\n",
              "    </tr>\n",
              "    <tr>\n",
              "      <th>dt</th>\n",
              "      <th></th>\n",
              "      <th></th>\n",
              "      <th></th>\n",
              "      <th></th>\n",
              "      <th></th>\n",
              "      <th></th>\n",
              "      <th></th>\n",
              "      <th></th>\n",
              "      <th></th>\n",
              "    </tr>\n",
              "  </thead>\n",
              "  <tbody>\n",
              "    <tr>\n",
              "      <th>2006-12-16 17:00:00</th>\n",
              "      <td>152.024</td>\n",
              "      <td>8.244</td>\n",
              "      <td>8447.18</td>\n",
              "      <td>651.6</td>\n",
              "      <td>0.0</td>\n",
              "      <td>19.0</td>\n",
              "      <td>607.0</td>\n",
              "      <td>1907.733398</td>\n",
              "      <td>Saturday</td>\n",
              "    </tr>\n",
              "    <tr>\n",
              "      <th>2006-12-16 18:00:00</th>\n",
              "      <td>217.932</td>\n",
              "      <td>4.802</td>\n",
              "      <td>14074.81</td>\n",
              "      <td>936.0</td>\n",
              "      <td>0.0</td>\n",
              "      <td>403.0</td>\n",
              "      <td>1012.0</td>\n",
              "      <td>2217.199951</td>\n",
              "      <td>Saturday</td>\n",
              "    </tr>\n",
              "  </tbody>\n",
              "</table>\n",
              "</div>"
            ],
            "text/plain": [
              "                     Global_active_power  ...  day_name\n",
              "dt                                        ...          \n",
              "2006-12-16 17:00:00              152.024  ...  Saturday\n",
              "2006-12-16 18:00:00              217.932  ...  Saturday\n",
              "\n",
              "[2 rows x 9 columns]"
            ]
          },
          "metadata": {},
          "execution_count": 16
        }
      ]
    },
    {
      "cell_type": "code",
      "metadata": {
        "colab": {
          "base_uri": "https://localhost:8080/",
          "height": 205
        },
        "id": "JKk1CyPpUJ2W",
        "outputId": "947f24f5-32c8-4056-fd2e-50ab75a7eea9"
      },
      "source": [
        "from sklearn.preprocessing import MinMaxScaler\n",
        "\n",
        "values = df_resample.values \n",
        "\n",
        "# frame as supervised learning\n",
        "reframed1 = series_to_supervised(df_resample, 1, 1)\n",
        "\n",
        "# drop columns we don't want to predict\n",
        "reframed2= reframed1.drop(reframed1.columns[[7,8,10,11,12,13,14,15,16,17]], axis=1)\n",
        "reframed2.head()\n",
        "scaler = MinMaxScaler(feature_range=(0, 1))\n",
        "scaled = scaler.fit_transform(reframed2.values)\n",
        "reframed = pd.DataFrame(scaled, columns=  [\"var1(t-1)\",\"var2(t-1)\",\"var3(t-1)\",\"var4(t-1)\",\"var5(t-1)\"\t,\"var6(t-1)\",\"var7(t-1)\",\"var1(t)\"])\n",
        "reframed.head()"
      ],
      "execution_count": null,
      "outputs": [
        {
          "output_type": "execute_result",
          "data": {
            "text/html": [
              "<div>\n",
              "<style scoped>\n",
              "    .dataframe tbody tr th:only-of-type {\n",
              "        vertical-align: middle;\n",
              "    }\n",
              "\n",
              "    .dataframe tbody tr th {\n",
              "        vertical-align: top;\n",
              "    }\n",
              "\n",
              "    .dataframe thead th {\n",
              "        text-align: right;\n",
              "    }\n",
              "</style>\n",
              "<table border=\"1\" class=\"dataframe\">\n",
              "  <thead>\n",
              "    <tr style=\"text-align: right;\">\n",
              "      <th></th>\n",
              "      <th>var1(t-1)</th>\n",
              "      <th>var2(t-1)</th>\n",
              "      <th>var3(t-1)</th>\n",
              "      <th>var4(t-1)</th>\n",
              "      <th>var5(t-1)</th>\n",
              "      <th>var6(t-1)</th>\n",
              "      <th>var7(t-1)</th>\n",
              "      <th>var1(t)</th>\n",
              "    </tr>\n",
              "  </thead>\n",
              "  <tbody>\n",
              "    <tr>\n",
              "      <th>0</th>\n",
              "      <td>0.374384</td>\n",
              "      <td>0.163471</td>\n",
              "      <td>0.000000</td>\n",
              "      <td>0.371473</td>\n",
              "      <td>0.0</td>\n",
              "      <td>0.006820</td>\n",
              "      <td>0.469451</td>\n",
              "      <td>0.550442</td>\n",
              "    </tr>\n",
              "    <tr>\n",
              "      <th>1</th>\n",
              "      <td>0.545045</td>\n",
              "      <td>0.088127</td>\n",
              "      <td>0.844110</td>\n",
              "      <td>0.541487</td>\n",
              "      <td>0.0</td>\n",
              "      <td>0.144652</td>\n",
              "      <td>0.782676</td>\n",
              "      <td>0.514830</td>\n",
              "    </tr>\n",
              "    <tr>\n",
              "      <th>2</th>\n",
              "      <td>0.509006</td>\n",
              "      <td>0.094957</td>\n",
              "      <td>0.831981</td>\n",
              "      <td>0.502152</td>\n",
              "      <td>0.0</td>\n",
              "      <td>0.030869</td>\n",
              "      <td>0.774169</td>\n",
              "      <td>0.494617</td>\n",
              "    </tr>\n",
              "    <tr>\n",
              "      <th>3</th>\n",
              "      <td>0.488550</td>\n",
              "      <td>0.081648</td>\n",
              "      <td>0.839532</td>\n",
              "      <td>0.481110</td>\n",
              "      <td>0.0</td>\n",
              "      <td>0.000000</td>\n",
              "      <td>0.778809</td>\n",
              "      <td>0.462055</td>\n",
              "    </tr>\n",
              "    <tr>\n",
              "      <th>4</th>\n",
              "      <td>0.455597</td>\n",
              "      <td>0.083705</td>\n",
              "      <td>0.867315</td>\n",
              "      <td>0.449904</td>\n",
              "      <td>0.0</td>\n",
              "      <td>0.008973</td>\n",
              "      <td>0.798917</td>\n",
              "      <td>0.330590</td>\n",
              "    </tr>\n",
              "  </tbody>\n",
              "</table>\n",
              "</div>"
            ],
            "text/plain": [
              "   var1(t-1)  var2(t-1)  var3(t-1)  ...  var6(t-1)  var7(t-1)   var1(t)\n",
              "0   0.374384   0.163471   0.000000  ...   0.006820   0.469451  0.550442\n",
              "1   0.545045   0.088127   0.844110  ...   0.144652   0.782676  0.514830\n",
              "2   0.509006   0.094957   0.831981  ...   0.030869   0.774169  0.494617\n",
              "3   0.488550   0.081648   0.839532  ...   0.000000   0.778809  0.462055\n",
              "4   0.455597   0.083705   0.867315  ...   0.008973   0.798917  0.330590\n",
              "\n",
              "[5 rows x 8 columns]"
            ]
          },
          "metadata": {},
          "execution_count": 17
        }
      ]
    },
    {
      "cell_type": "code",
      "metadata": {
        "colab": {
          "base_uri": "https://localhost:8080/"
        },
        "id": "0FHO09vhh9CC",
        "outputId": "e7a647ee-08c4-4628-f453-3e5be312a7fe"
      },
      "source": [
        "# split into train and test sets\n",
        "values = reframed.values\n",
        "\n",
        "n_train_time = 365*3*24\n",
        "train = values[:n_train_time, :]\n",
        "test = values[n_train_time:, :]\n",
        "\n",
        "train_X, train_y = train[:, :-1], train[:, -1]\n",
        "test_X, test_y = test[:, :-1], test[:, -1]\n",
        "\n",
        "# reshape input to be 3D [samples, timesteps, features]\n",
        "train_X = train_X.reshape((train_X.shape[0], 1, train_X.shape[1]))\n",
        "test_X = test_X.reshape((test_X.shape[0], 1, test_X.shape[1]))\n",
        "print(train_X.shape, train_y.shape, test_X.shape, test_y.shape) \n",
        "# We reshaped the input into the 3D format as expected by LSTMs, namely [samples, timesteps, features]."
      ],
      "execution_count": null,
      "outputs": [
        {
          "output_type": "stream",
          "name": "stdout",
          "text": [
            "(26280, 1, 7) (26280,) (8308, 1, 7) (8308,)\n"
          ]
        }
      ]
    },
    {
      "cell_type": "code",
      "metadata": {
        "colab": {
          "base_uri": "https://localhost:8080/"
        },
        "id": "24PsEQbgkfMj",
        "outputId": "e22d5ef7-304a-418a-c8ff-f7f07c9b0724"
      },
      "source": [
        "import keras\n",
        "from keras.layers import Dense\n",
        "from keras.models import Sequential\n",
        "from tensorflow.keras.utils import to_categorical\n",
        "from tensorflow.keras.optimizers import SGD \n",
        "from keras.callbacks import EarlyStopping\n",
        "from keras.utils import np_utils\n",
        "import itertools\n",
        "from keras.layers import LSTM\n",
        "from keras.layers.convolutional import Conv1D\n",
        "from keras.layers.convolutional import MaxPooling1D\n",
        "from keras.layers import Dropout\n",
        "\n",
        "model = Sequential()\n",
        "model.add(LSTM(100, input_shape=(train_X.shape[1], train_X.shape[2])))\n",
        "model.add(Dropout(0.2))\n",
        "model.add(Dense(1))\n",
        "model.compile(loss='mean_squared_error', optimizer='adam')\n",
        "\n",
        "\n",
        "\n",
        "# fit network\n",
        "history = model.fit(train_X, train_y, epochs=20, batch_size=32, validation_data=(test_X, test_y), verbose=2, shuffle=False)\n"
      ],
      "execution_count": null,
      "outputs": [
        {
          "output_type": "stream",
          "name": "stdout",
          "text": [
            "Epoch 1/20\n",
            "822/822 - 5s - loss: 0.0121 - val_loss: 0.0075\n",
            "Epoch 2/20\n",
            "822/822 - 2s - loss: 0.0094 - val_loss: 0.0074\n",
            "Epoch 3/20\n",
            "822/822 - 2s - loss: 0.0093 - val_loss: 0.0073\n",
            "Epoch 4/20\n",
            "822/822 - 2s - loss: 0.0092 - val_loss: 0.0073\n",
            "Epoch 5/20\n",
            "822/822 - 2s - loss: 0.0091 - val_loss: 0.0073\n",
            "Epoch 6/20\n",
            "822/822 - 2s - loss: 0.0091 - val_loss: 0.0073\n",
            "Epoch 7/20\n",
            "822/822 - 2s - loss: 0.0091 - val_loss: 0.0073\n",
            "Epoch 8/20\n",
            "822/822 - 2s - loss: 0.0091 - val_loss: 0.0073\n",
            "Epoch 9/20\n",
            "822/822 - 2s - loss: 0.0090 - val_loss: 0.0073\n",
            "Epoch 10/20\n",
            "822/822 - 2s - loss: 0.0090 - val_loss: 0.0073\n",
            "Epoch 11/20\n",
            "822/822 - 2s - loss: 0.0090 - val_loss: 0.0073\n",
            "Epoch 12/20\n",
            "822/822 - 2s - loss: 0.0090 - val_loss: 0.0073\n",
            "Epoch 13/20\n",
            "822/822 - 2s - loss: 0.0089 - val_loss: 0.0073\n",
            "Epoch 14/20\n",
            "822/822 - 2s - loss: 0.0090 - val_loss: 0.0073\n",
            "Epoch 15/20\n",
            "822/822 - 2s - loss: 0.0089 - val_loss: 0.0073\n",
            "Epoch 16/20\n",
            "822/822 - 2s - loss: 0.0089 - val_loss: 0.0073\n",
            "Epoch 17/20\n",
            "822/822 - 2s - loss: 0.0089 - val_loss: 0.0073\n",
            "Epoch 18/20\n",
            "822/822 - 2s - loss: 0.0089 - val_loss: 0.0073\n",
            "Epoch 19/20\n",
            "822/822 - 2s - loss: 0.0089 - val_loss: 0.0073\n",
            "Epoch 20/20\n",
            "822/822 - 2s - loss: 0.0089 - val_loss: 0.0073\n"
          ]
        }
      ]
    },
    {
      "cell_type": "code",
      "metadata": {
        "colab": {
          "base_uri": "https://localhost:8080/",
          "height": 301
        },
        "id": "UwQSR_BPliFh",
        "outputId": "56d18bf4-fe30-4f3c-fd68-b93d5416b82d"
      },
      "source": [
        "import matplotlib.pyplot as plt\n",
        "from pylab import rcParams\n",
        "\n",
        "rcParams['figure.figsize'] =[6.4, 4.4]\n",
        "\n",
        "# summarize history for loss\n",
        "plt.plot(history.history['loss'])\n",
        "plt.plot(history.history['val_loss'])\n",
        "#plt.title('model loss')\n",
        "plt.ylabel('loss')\n",
        "plt.xlabel('epoch')\n",
        "plt.legend(['train', 'test'], loc='upper right')\n",
        "\n",
        "plt.show()\n",
        "\n"
      ],
      "execution_count": null,
      "outputs": [
        {
          "output_type": "display_data",
          "data": {
            "image/png": "[encoded data removed]",
            "text/plain": [
              "<Figure size 460.8x316.8 with 1 Axes>"
            ]
          },
          "metadata": {
            "needs_background": "light"
          }
        }
      ]
    },
    {
      "cell_type": "code",
      "metadata": {
        "colab": {
          "base_uri": "https://localhost:8080/"
        },
        "id": "RBrL4LxvljRg",
        "outputId": "b8b39fe0-6a05-4298-a792-b3b5ea65ec87"
      },
      "source": [
        "import numpy as np\n",
        "from sklearn.metrics import mean_squared_error,r2_score\n",
        "from sklearn.metrics import mean_absolute_error\n",
        "\n",
        "# make a prediction\n",
        "yhat = model.predict(test_X)\n",
        "test_X = test_X.reshape((test_X.shape[0], 7))\n",
        "# invert scaling for forecast\n",
        "inv_yhat = np.concatenate((test_X[:, -7:],yhat), axis=1)\n",
        "inv_yhat = scaler.inverse_transform(inv_yhat)\n",
        "inv_yhat = inv_yhat[:,-1]\n",
        "# invert scaling for actual\n",
        "test_y = test_y.reshape((len(test_y), 1))\n",
        "inv_y = np.concatenate((test_X[:, -7:],test_y), axis=1)\n",
        "inv_y = scaler.inverse_transform(inv_y)\n",
        "inv_y = inv_y[:,-1]\n",
        "\n",
        "rmse = np.sqrt(mean_squared_error(inv_y, inv_yhat))\n",
        "mae = mean_absolute_error(inv_y, inv_yhat)\n",
        "print('Test RMSE: %.3f' % rmse)\n",
        "print('Test MAE: %.3f' % mae)"
      ],
      "execution_count": null,
      "outputs": [
        {
          "output_type": "stream",
          "name": "stdout",
          "text": [
            "Test RMSE: 33.366\n",
            "Test MAE: 24.693\n"
          ]
        }
      ]
    },
    {
      "cell_type": "code",
      "metadata": {
        "colab": {
          "base_uri": "https://localhost:8080/",
          "height": 326
        },
        "id": "BcMaXUFEmx8z",
        "outputId": "ccf32151-b1f2-4808-c199-a0c3a4911d26"
      },
      "source": [
        "\n",
        "aa=[x for x in range(20)]\n",
        "plt.plot(reframed1[n_train_time:n_train_time+20].index, inv_y[:20], marker='.', label=\"actual\")\n",
        "plt.plot(reframed1[n_train_time:n_train_time+20].index, inv_yhat[:20], 'r', label=\"prediction\")\n",
        "plt.ylabel('Global_active_power', size=15)\n",
        "plt.xlabel('Time step', size=15)\n",
        "plt.legend(fontsize=15)\n",
        "plt.show()"
      ],
      "execution_count": null,
      "outputs": [
        {
          "output_type": "display_data",
          "data": {
            "image/png": "[encoded data removed]",
            "text/plain": [
              "<Figure size 460.8x316.8 with 1 Axes>"
            ]
          },
          "metadata": {
            "needs_background": "light"
          }
        }
      ]
    },
    {
      "cell_type": "code",
      "metadata": {
        "id": "tjtD8cboV7-P",
        "colab": {
          "base_uri": "https://localhost:8080/",
          "height": 422
        },
        "outputId": "73e36038-869b-4249-8f41-bdfbf14efd27"
      },
      "source": [
        "for_pred = reframed1[n_train_time:n_train_time+500][\"var9(t)\"].copy().reset_index()\n",
        "for_pred['Dates'] = pd.to_datetime(for_pred.dt).dt.date\n",
        "for_pred['Time'] = pd.to_datetime(for_pred.dt).dt.time\n",
        "\n",
        "for_pred['yhat']= inv_yhat[:500]\n",
        "for_pred"
      ],
      "execution_count": null,
      "outputs": [
        {
          "output_type": "execute_result",
          "data": {
            "text/html": [
              "<div>\n",
              "<style scoped>\n",
              "    .dataframe tbody tr th:only-of-type {\n",
              "        vertical-align: middle;\n",
              "    }\n",
              "\n",
              "    .dataframe tbody tr th {\n",
              "        vertical-align: top;\n",
              "    }\n",
              "\n",
              "    .dataframe thead th {\n",
              "        text-align: right;\n",
              "    }\n",
              "</style>\n",
              "<table border=\"1\" class=\"dataframe\">\n",
              "  <thead>\n",
              "    <tr style=\"text-align: right;\">\n",
              "      <th></th>\n",
              "      <th>dt</th>\n",
              "      <th>var9(t)</th>\n",
              "      <th>Dates</th>\n",
              "      <th>Time</th>\n",
              "      <th>yhat</th>\n",
              "    </tr>\n",
              "  </thead>\n",
              "  <tbody>\n",
              "    <tr>\n",
              "      <th>0</th>\n",
              "      <td>2009-12-15 18:00:00</td>\n",
              "      <td>Tuesday</td>\n",
              "      <td>2009-12-15</td>\n",
              "      <td>18:00:00</td>\n",
              "      <td>86.708668</td>\n",
              "    </tr>\n",
              "    <tr>\n",
              "      <th>1</th>\n",
              "      <td>2009-12-15 19:00:00</td>\n",
              "      <td>Tuesday</td>\n",
              "      <td>2009-12-15</td>\n",
              "      <td>19:00:00</td>\n",
              "      <td>99.367044</td>\n",
              "    </tr>\n",
              "    <tr>\n",
              "      <th>2</th>\n",
              "      <td>2009-12-15 20:00:00</td>\n",
              "      <td>Tuesday</td>\n",
              "      <td>2009-12-15</td>\n",
              "      <td>20:00:00</td>\n",
              "      <td>128.730645</td>\n",
              "    </tr>\n",
              "    <tr>\n",
              "      <th>3</th>\n",
              "      <td>2009-12-15 21:00:00</td>\n",
              "      <td>Tuesday</td>\n",
              "      <td>2009-12-15</td>\n",
              "      <td>21:00:00</td>\n",
              "      <td>105.299927</td>\n",
              "    </tr>\n",
              "    <tr>\n",
              "      <th>4</th>\n",
              "      <td>2009-12-15 22:00:00</td>\n",
              "      <td>Tuesday</td>\n",
              "      <td>2009-12-15</td>\n",
              "      <td>22:00:00</td>\n",
              "      <td>115.227184</td>\n",
              "    </tr>\n",
              "    <tr>\n",
              "      <th>...</th>\n",
              "      <td>...</td>\n",
              "      <td>...</td>\n",
              "      <td>...</td>\n",
              "      <td>...</td>\n",
              "      <td>...</td>\n",
              "    </tr>\n",
              "    <tr>\n",
              "      <th>495</th>\n",
              "      <td>2010-01-05 09:00:00</td>\n",
              "      <td>Tuesday</td>\n",
              "      <td>2010-01-05</td>\n",
              "      <td>09:00:00</td>\n",
              "      <td>143.923565</td>\n",
              "    </tr>\n",
              "    <tr>\n",
              "      <th>496</th>\n",
              "      <td>2010-01-05 10:00:00</td>\n",
              "      <td>Tuesday</td>\n",
              "      <td>2010-01-05</td>\n",
              "      <td>10:00:00</td>\n",
              "      <td>99.167312</td>\n",
              "    </tr>\n",
              "    <tr>\n",
              "      <th>497</th>\n",
              "      <td>2010-01-05 11:00:00</td>\n",
              "      <td>Tuesday</td>\n",
              "      <td>2010-01-05</td>\n",
              "      <td>11:00:00</td>\n",
              "      <td>79.919094</td>\n",
              "    </tr>\n",
              "    <tr>\n",
              "      <th>498</th>\n",
              "      <td>2010-01-05 12:00:00</td>\n",
              "      <td>Tuesday</td>\n",
              "      <td>2010-01-05</td>\n",
              "      <td>12:00:00</td>\n",
              "      <td>83.073399</td>\n",
              "    </tr>\n",
              "    <tr>\n",
              "      <th>499</th>\n",
              "      <td>2010-01-05 13:00:00</td>\n",
              "      <td>Tuesday</td>\n",
              "      <td>2010-01-05</td>\n",
              "      <td>13:00:00</td>\n",
              "      <td>79.630019</td>\n",
              "    </tr>\n",
              "  </tbody>\n",
              "</table>\n",
              "<p>500 rows × 5 columns</p>\n",
              "</div>"
            ],
            "text/plain": [
              "                     dt  var9(t)       Dates      Time        yhat\n",
              "0   2009-12-15 18:00:00  Tuesday  2009-12-15  18:00:00   86.708668\n",
              "1   2009-12-15 19:00:00  Tuesday  2009-12-15  19:00:00   99.367044\n",
              "2   2009-12-15 20:00:00  Tuesday  2009-12-15  20:00:00  128.730645\n",
              "3   2009-12-15 21:00:00  Tuesday  2009-12-15  21:00:00  105.299927\n",
              "4   2009-12-15 22:00:00  Tuesday  2009-12-15  22:00:00  115.227184\n",
              "..                  ...      ...         ...       ...         ...\n",
              "495 2010-01-05 09:00:00  Tuesday  2010-01-05  09:00:00  143.923565\n",
              "496 2010-01-05 10:00:00  Tuesday  2010-01-05  10:00:00   99.167312\n",
              "497 2010-01-05 11:00:00  Tuesday  2010-01-05  11:00:00   79.919094\n",
              "498 2010-01-05 12:00:00  Tuesday  2010-01-05  12:00:00   83.073399\n",
              "499 2010-01-05 13:00:00  Tuesday  2010-01-05  13:00:00   79.630019\n",
              "\n",
              "[500 rows x 5 columns]"
            ]
          },
          "metadata": {},
          "execution_count": 31
        }
      ]
    },
    {
      "cell_type": "code",
      "metadata": {
        "id": "G7eGSe6EeD6r",
        "colab": {
          "base_uri": "https://localhost:8080/",
          "height": 819
        },
        "outputId": "5135ab38-9d0b-4f12-b5c4-658d83689ecd"
      },
      "source": [
        "df_resample['Dates'] = pd.to_datetime(df_resample.index).date\n",
        "df_resample['Time'] = pd.to_datetime(df_resample.index).time\n",
        "df_resample"
      ],
      "execution_count": null,
      "outputs": [
        {
          "output_type": "execute_result",
          "data": {
            "text/html": [
              "<div>\n",
              "<style scoped>\n",
              "    .dataframe tbody tr th:only-of-type {\n",
              "        vertical-align: middle;\n",
              "    }\n",
              "\n",
              "    .dataframe tbody tr th {\n",
              "        vertical-align: top;\n",
              "    }\n",
              "\n",
              "    .dataframe thead th {\n",
              "        text-align: right;\n",
              "    }\n",
              "</style>\n",
              "<table border=\"1\" class=\"dataframe\">\n",
              "  <thead>\n",
              "    <tr style=\"text-align: right;\">\n",
              "      <th></th>\n",
              "      <th>Global_active_power</th>\n",
              "      <th>Global_reactive_power</th>\n",
              "      <th>Voltage</th>\n",
              "      <th>Global_intensity</th>\n",
              "      <th>Sub_metering_1</th>\n",
              "      <th>Sub_metering_2</th>\n",
              "      <th>Sub_metering_3</th>\n",
              "      <th>sub_metering_4</th>\n",
              "      <th>day_name</th>\n",
              "      <th>Dates</th>\n",
              "      <th>Time</th>\n",
              "    </tr>\n",
              "    <tr>\n",
              "      <th>dt</th>\n",
              "      <th></th>\n",
              "      <th></th>\n",
              "      <th></th>\n",
              "      <th></th>\n",
              "      <th></th>\n",
              "      <th></th>\n",
              "      <th></th>\n",
              "      <th></th>\n",
              "      <th></th>\n",
              "      <th></th>\n",
              "      <th></th>\n",
              "    </tr>\n",
              "  </thead>\n",
              "  <tbody>\n",
              "    <tr>\n",
              "      <th>2006-12-16 17:00:00</th>\n",
              "      <td>152.024</td>\n",
              "      <td>8.244</td>\n",
              "      <td>8447.18</td>\n",
              "      <td>651.6</td>\n",
              "      <td>0.0</td>\n",
              "      <td>19.0</td>\n",
              "      <td>607.0</td>\n",
              "      <td>1907.733398</td>\n",
              "      <td>Saturday</td>\n",
              "      <td>2006-12-16</td>\n",
              "      <td>17:00:00</td>\n",
              "    </tr>\n",
              "    <tr>\n",
              "      <th>2006-12-16 18:00:00</th>\n",
              "      <td>217.932</td>\n",
              "      <td>4.802</td>\n",
              "      <td>14074.81</td>\n",
              "      <td>936.0</td>\n",
              "      <td>0.0</td>\n",
              "      <td>403.0</td>\n",
              "      <td>1012.0</td>\n",
              "      <td>2217.199951</td>\n",
              "      <td>Saturday</td>\n",
              "      <td>2006-12-16</td>\n",
              "      <td>18:00:00</td>\n",
              "    </tr>\n",
              "    <tr>\n",
              "      <th>2006-12-16 19:00:00</th>\n",
              "      <td>204.014</td>\n",
              "      <td>5.114</td>\n",
              "      <td>13993.95</td>\n",
              "      <td>870.2</td>\n",
              "      <td>0.0</td>\n",
              "      <td>86.0</td>\n",
              "      <td>1001.0</td>\n",
              "      <td>2313.233398</td>\n",
              "      <td>Saturday</td>\n",
              "      <td>2006-12-16</td>\n",
              "      <td>19:00:00</td>\n",
              "    </tr>\n",
              "    <tr>\n",
              "      <th>2006-12-16 20:00:00</th>\n",
              "      <td>196.114</td>\n",
              "      <td>4.506</td>\n",
              "      <td>14044.29</td>\n",
              "      <td>835.0</td>\n",
              "      <td>0.0</td>\n",
              "      <td>0.0</td>\n",
              "      <td>1007.0</td>\n",
              "      <td>2261.566650</td>\n",
              "      <td>Saturday</td>\n",
              "      <td>2006-12-16</td>\n",
              "      <td>20:00:00</td>\n",
              "    </tr>\n",
              "    <tr>\n",
              "      <th>2006-12-16 21:00:00</th>\n",
              "      <td>183.388</td>\n",
              "      <td>4.600</td>\n",
              "      <td>14229.52</td>\n",
              "      <td>782.8</td>\n",
              "      <td>0.0</td>\n",
              "      <td>25.0</td>\n",
              "      <td>1033.0</td>\n",
              "      <td>1998.466675</td>\n",
              "      <td>Saturday</td>\n",
              "      <td>2006-12-16</td>\n",
              "      <td>21:00:00</td>\n",
              "    </tr>\n",
              "    <tr>\n",
              "      <th>...</th>\n",
              "      <td>...</td>\n",
              "      <td>...</td>\n",
              "      <td>...</td>\n",
              "      <td>...</td>\n",
              "      <td>...</td>\n",
              "      <td>...</td>\n",
              "      <td>...</td>\n",
              "      <td>...</td>\n",
              "      <td>...</td>\n",
              "      <td>...</td>\n",
              "      <td>...</td>\n",
              "    </tr>\n",
              "    <tr>\n",
              "      <th>2010-11-26 17:00:00</th>\n",
              "      <td>103.554</td>\n",
              "      <td>3.684</td>\n",
              "      <td>14224.18</td>\n",
              "      <td>433.0</td>\n",
              "      <td>0.0</td>\n",
              "      <td>0.0</td>\n",
              "      <td>772.0</td>\n",
              "      <td>953.899963</td>\n",
              "      <td>Friday</td>\n",
              "      <td>2010-11-26</td>\n",
              "      <td>17:00:00</td>\n",
              "    </tr>\n",
              "    <tr>\n",
              "      <th>2010-11-26 18:00:00</th>\n",
              "      <td>94.408</td>\n",
              "      <td>3.222</td>\n",
              "      <td>14251.91</td>\n",
              "      <td>397.2</td>\n",
              "      <td>0.0</td>\n",
              "      <td>0.0</td>\n",
              "      <td>0.0</td>\n",
              "      <td>1573.466675</td>\n",
              "      <td>Friday</td>\n",
              "      <td>2010-11-26</td>\n",
              "      <td>18:00:00</td>\n",
              "    </tr>\n",
              "    <tr>\n",
              "      <th>2010-11-26 19:00:00</th>\n",
              "      <td>99.560</td>\n",
              "      <td>3.602</td>\n",
              "      <td>14204.46</td>\n",
              "      <td>423.4</td>\n",
              "      <td>0.0</td>\n",
              "      <td>4.0</td>\n",
              "      <td>0.0</td>\n",
              "      <td>1655.333374</td>\n",
              "      <td>Friday</td>\n",
              "      <td>2010-11-26</td>\n",
              "      <td>19:00:00</td>\n",
              "    </tr>\n",
              "    <tr>\n",
              "      <th>2010-11-26 20:00:00</th>\n",
              "      <td>69.822</td>\n",
              "      <td>3.670</td>\n",
              "      <td>14363.76</td>\n",
              "      <td>294.8</td>\n",
              "      <td>0.0</td>\n",
              "      <td>64.0</td>\n",
              "      <td>0.0</td>\n",
              "      <td>1099.699951</td>\n",
              "      <td>Friday</td>\n",
              "      <td>2010-11-26</td>\n",
              "      <td>20:00:00</td>\n",
              "    </tr>\n",
              "    <tr>\n",
              "      <th>2010-11-26 21:00:00</th>\n",
              "      <td>2.804</td>\n",
              "      <td>0.000</td>\n",
              "      <td>719.07</td>\n",
              "      <td>11.4</td>\n",
              "      <td>0.0</td>\n",
              "      <td>0.0</td>\n",
              "      <td>0.0</td>\n",
              "      <td>46.733334</td>\n",
              "      <td>Friday</td>\n",
              "      <td>2010-11-26</td>\n",
              "      <td>21:00:00</td>\n",
              "    </tr>\n",
              "  </tbody>\n",
              "</table>\n",
              "<p>34589 rows × 11 columns</p>\n",
              "</div>"
            ],
            "text/plain": [
              "                     Global_active_power  ...      Time\n",
              "dt                                        ...          \n",
              "2006-12-16 17:00:00              152.024  ...  17:00:00\n",
              "2006-12-16 18:00:00              217.932  ...  18:00:00\n",
              "2006-12-16 19:00:00              204.014  ...  19:00:00\n",
              "2006-12-16 20:00:00              196.114  ...  20:00:00\n",
              "2006-12-16 21:00:00              183.388  ...  21:00:00\n",
              "...                                  ...  ...       ...\n",
              "2010-11-26 17:00:00              103.554  ...  17:00:00\n",
              "2010-11-26 18:00:00               94.408  ...  18:00:00\n",
              "2010-11-26 19:00:00               99.560  ...  19:00:00\n",
              "2010-11-26 20:00:00               69.822  ...  20:00:00\n",
              "2010-11-26 21:00:00                2.804  ...  21:00:00\n",
              "\n",
              "[34589 rows x 11 columns]"
            ]
          },
          "metadata": {},
          "execution_count": 32
        }
      ]
    },
    {
      "cell_type": "code",
      "metadata": {
        "colab": {
          "base_uri": "https://localhost:8080/",
          "height": 422
        },
        "id": "yoxT6yMHXsFv",
        "outputId": "5d94d491-4d5e-4470-bf38-9bc9b24d3e5d"
      },
      "source": [
        "def fun(x):\n",
        "  return df_resample[(df_resample.index.hour == x[0].hour) & (df_resample.index.month == x[0].month) & (df_resample['day_name']==x[1])].Global_active_power.mean() #+ 33.006\n",
        "\n",
        "for_pred['hour_avg']=for_pred[['dt','var9(t)']].apply(fun,  axis=1)\n",
        "for_pred"
      ],
      "execution_count": null,
      "outputs": [
        {
          "output_type": "execute_result",
          "data": {
            "text/html": [
              "<div>\n",
              "<style scoped>\n",
              "    .dataframe tbody tr th:only-of-type {\n",
              "        vertical-align: middle;\n",
              "    }\n",
              "\n",
              "    .dataframe tbody tr th {\n",
              "        vertical-align: top;\n",
              "    }\n",
              "\n",
              "    .dataframe thead th {\n",
              "        text-align: right;\n",
              "    }\n",
              "</style>\n",
              "<table border=\"1\" class=\"dataframe\">\n",
              "  <thead>\n",
              "    <tr style=\"text-align: right;\">\n",
              "      <th></th>\n",
              "      <th>dt</th>\n",
              "      <th>var9(t)</th>\n",
              "      <th>Dates</th>\n",
              "      <th>Time</th>\n",
              "      <th>yhat</th>\n",
              "      <th>hour_avg</th>\n",
              "    </tr>\n",
              "  </thead>\n",
              "  <tbody>\n",
              "    <tr>\n",
              "      <th>0</th>\n",
              "      <td>2009-12-15 18:00:00</td>\n",
              "      <td>Tuesday</td>\n",
              "      <td>2009-12-15</td>\n",
              "      <td>18:00:00</td>\n",
              "      <td>86.708668</td>\n",
              "      <td>120.350875</td>\n",
              "    </tr>\n",
              "    <tr>\n",
              "      <th>1</th>\n",
              "      <td>2009-12-15 19:00:00</td>\n",
              "      <td>Tuesday</td>\n",
              "      <td>2009-12-15</td>\n",
              "      <td>19:00:00</td>\n",
              "      <td>99.367044</td>\n",
              "      <td>127.175750</td>\n",
              "    </tr>\n",
              "    <tr>\n",
              "      <th>2</th>\n",
              "      <td>2009-12-15 20:00:00</td>\n",
              "      <td>Tuesday</td>\n",
              "      <td>2009-12-15</td>\n",
              "      <td>20:00:00</td>\n",
              "      <td>128.730645</td>\n",
              "      <td>152.895500</td>\n",
              "    </tr>\n",
              "    <tr>\n",
              "      <th>3</th>\n",
              "      <td>2009-12-15 21:00:00</td>\n",
              "      <td>Tuesday</td>\n",
              "      <td>2009-12-15</td>\n",
              "      <td>21:00:00</td>\n",
              "      <td>105.299927</td>\n",
              "      <td>138.529125</td>\n",
              "    </tr>\n",
              "    <tr>\n",
              "      <th>4</th>\n",
              "      <td>2009-12-15 22:00:00</td>\n",
              "      <td>Tuesday</td>\n",
              "      <td>2009-12-15</td>\n",
              "      <td>22:00:00</td>\n",
              "      <td>115.227184</td>\n",
              "      <td>84.631000</td>\n",
              "    </tr>\n",
              "    <tr>\n",
              "      <th>...</th>\n",
              "      <td>...</td>\n",
              "      <td>...</td>\n",
              "      <td>...</td>\n",
              "      <td>...</td>\n",
              "      <td>...</td>\n",
              "      <td>...</td>\n",
              "    </tr>\n",
              "    <tr>\n",
              "      <th>495</th>\n",
              "      <td>2010-01-05 09:00:00</td>\n",
              "      <td>Tuesday</td>\n",
              "      <td>2010-01-05</td>\n",
              "      <td>09:00:00</td>\n",
              "      <td>143.923565</td>\n",
              "      <td>84.545111</td>\n",
              "    </tr>\n",
              "    <tr>\n",
              "      <th>496</th>\n",
              "      <td>2010-01-05 10:00:00</td>\n",
              "      <td>Tuesday</td>\n",
              "      <td>2010-01-05</td>\n",
              "      <td>10:00:00</td>\n",
              "      <td>99.167312</td>\n",
              "      <td>69.882444</td>\n",
              "    </tr>\n",
              "    <tr>\n",
              "      <th>497</th>\n",
              "      <td>2010-01-05 11:00:00</td>\n",
              "      <td>Tuesday</td>\n",
              "      <td>2010-01-05</td>\n",
              "      <td>11:00:00</td>\n",
              "      <td>79.919094</td>\n",
              "      <td>79.519556</td>\n",
              "    </tr>\n",
              "    <tr>\n",
              "      <th>498</th>\n",
              "      <td>2010-01-05 12:00:00</td>\n",
              "      <td>Tuesday</td>\n",
              "      <td>2010-01-05</td>\n",
              "      <td>12:00:00</td>\n",
              "      <td>83.073399</td>\n",
              "      <td>114.106889</td>\n",
              "    </tr>\n",
              "    <tr>\n",
              "      <th>499</th>\n",
              "      <td>2010-01-05 13:00:00</td>\n",
              "      <td>Tuesday</td>\n",
              "      <td>2010-01-05</td>\n",
              "      <td>13:00:00</td>\n",
              "      <td>79.630019</td>\n",
              "      <td>116.218667</td>\n",
              "    </tr>\n",
              "  </tbody>\n",
              "</table>\n",
              "<p>500 rows × 6 columns</p>\n",
              "</div>"
            ],
            "text/plain": [
              "                     dt  var9(t)       Dates      Time        yhat    hour_avg\n",
              "0   2009-12-15 18:00:00  Tuesday  2009-12-15  18:00:00   86.708668  120.350875\n",
              "1   2009-12-15 19:00:00  Tuesday  2009-12-15  19:00:00   99.367044  127.175750\n",
              "2   2009-12-15 20:00:00  Tuesday  2009-12-15  20:00:00  128.730645  152.895500\n",
              "3   2009-12-15 21:00:00  Tuesday  2009-12-15  21:00:00  105.299927  138.529125\n",
              "4   2009-12-15 22:00:00  Tuesday  2009-12-15  22:00:00  115.227184   84.631000\n",
              "..                  ...      ...         ...       ...         ...         ...\n",
              "495 2010-01-05 09:00:00  Tuesday  2010-01-05  09:00:00  143.923565   84.545111\n",
              "496 2010-01-05 10:00:00  Tuesday  2010-01-05  10:00:00   99.167312   69.882444\n",
              "497 2010-01-05 11:00:00  Tuesday  2010-01-05  11:00:00   79.919094   79.519556\n",
              "498 2010-01-05 12:00:00  Tuesday  2010-01-05  12:00:00   83.073399  114.106889\n",
              "499 2010-01-05 13:00:00  Tuesday  2010-01-05  13:00:00   79.630019  116.218667\n",
              "\n",
              "[500 rows x 6 columns]"
            ]
          },
          "metadata": {},
          "execution_count": 33
        }
      ]
    },
    {
      "cell_type": "code",
      "metadata": {
        "colab": {
          "base_uri": "https://localhost:8080/"
        },
        "id": "h5p1qw7pavBO",
        "outputId": "16ddc978-db51-4f98-a266-8ac6a40d1dd6"
      },
      "source": [
        "for_pred[for_pred['yhat']>for_pred['hour_avg']].count()"
      ],
      "execution_count": null,
      "outputs": [
        {
          "output_type": "execute_result",
          "data": {
            "text/plain": [
              "dt          188\n",
              "var9(t)     188\n",
              "Dates       188\n",
              "Time        188\n",
              "yhat        188\n",
              "hour_avg    188\n",
              "dtype: int64"
            ]
          },
          "metadata": {},
          "execution_count": 34
        }
      ]
    },
    {
      "cell_type": "code",
      "metadata": {
        "colab": {
          "base_uri": "https://localhost:8080/",
          "height": 205
        },
        "id": "l0Ql2SnnUNgk",
        "outputId": "d3614e19-cd91-455a-8148-c3b575228e8a"
      },
      "source": [
        "warning = for_pred[for_pred['yhat']>for_pred['hour_avg']].copy()\n",
        "warning['difference']= warning.yhat - warning.hour_avg\n",
        "warning.head()"
      ],
      "execution_count": null,
      "outputs": [
        {
          "output_type": "execute_result",
          "data": {
            "text/html": [
              "<div>\n",
              "<style scoped>\n",
              "    .dataframe tbody tr th:only-of-type {\n",
              "        vertical-align: middle;\n",
              "    }\n",
              "\n",
              "    .dataframe tbody tr th {\n",
              "        vertical-align: top;\n",
              "    }\n",
              "\n",
              "    .dataframe thead th {\n",
              "        text-align: right;\n",
              "    }\n",
              "</style>\n",
              "<table border=\"1\" class=\"dataframe\">\n",
              "  <thead>\n",
              "    <tr style=\"text-align: right;\">\n",
              "      <th></th>\n",
              "      <th>dt</th>\n",
              "      <th>var9(t)</th>\n",
              "      <th>Dates</th>\n",
              "      <th>Time</th>\n",
              "      <th>yhat</th>\n",
              "      <th>hour_avg</th>\n",
              "      <th>difference</th>\n",
              "    </tr>\n",
              "  </thead>\n",
              "  <tbody>\n",
              "    <tr>\n",
              "      <th>4</th>\n",
              "      <td>2009-12-15 22:00:00</td>\n",
              "      <td>Tuesday</td>\n",
              "      <td>2009-12-15</td>\n",
              "      <td>22:00:00</td>\n",
              "      <td>115.227184</td>\n",
              "      <td>84.631000</td>\n",
              "      <td>30.596184</td>\n",
              "    </tr>\n",
              "    <tr>\n",
              "      <th>5</th>\n",
              "      <td>2009-12-15 23:00:00</td>\n",
              "      <td>Tuesday</td>\n",
              "      <td>2009-12-15</td>\n",
              "      <td>23:00:00</td>\n",
              "      <td>78.338086</td>\n",
              "      <td>51.570375</td>\n",
              "      <td>26.767711</td>\n",
              "    </tr>\n",
              "    <tr>\n",
              "      <th>14</th>\n",
              "      <td>2009-12-16 08:00:00</td>\n",
              "      <td>Wednesday</td>\n",
              "      <td>2009-12-16</td>\n",
              "      <td>08:00:00</td>\n",
              "      <td>135.781987</td>\n",
              "      <td>129.411250</td>\n",
              "      <td>6.370737</td>\n",
              "    </tr>\n",
              "    <tr>\n",
              "      <th>22</th>\n",
              "      <td>2009-12-16 16:00:00</td>\n",
              "      <td>Wednesday</td>\n",
              "      <td>2009-12-16</td>\n",
              "      <td>16:00:00</td>\n",
              "      <td>84.791848</td>\n",
              "      <td>78.508000</td>\n",
              "      <td>6.283848</td>\n",
              "    </tr>\n",
              "    <tr>\n",
              "      <th>28</th>\n",
              "      <td>2009-12-16 22:00:00</td>\n",
              "      <td>Wednesday</td>\n",
              "      <td>2009-12-16</td>\n",
              "      <td>22:00:00</td>\n",
              "      <td>75.158564</td>\n",
              "      <td>74.696625</td>\n",
              "      <td>0.461939</td>\n",
              "    </tr>\n",
              "  </tbody>\n",
              "</table>\n",
              "</div>"
            ],
            "text/plain": [
              "                    dt    var9(t)  ...    hour_avg difference\n",
              "4  2009-12-15 22:00:00    Tuesday  ...   84.631000  30.596184\n",
              "5  2009-12-15 23:00:00    Tuesday  ...   51.570375  26.767711\n",
              "14 2009-12-16 08:00:00  Wednesday  ...  129.411250   6.370737\n",
              "22 2009-12-16 16:00:00  Wednesday  ...   78.508000   6.283848\n",
              "28 2009-12-16 22:00:00  Wednesday  ...   74.696625   0.461939\n",
              "\n",
              "[5 rows x 7 columns]"
            ]
          },
          "metadata": {},
          "execution_count": 35
        }
      ]
    },
    {
      "cell_type": "code",
      "metadata": {
        "colab": {
          "base_uri": "https://localhost:8080/",
          "height": 369
        },
        "id": "z-nFjOl6wGmB",
        "outputId": "4a60ce9d-ba93-405b-e745-4807843ea4d9"
      },
      "source": [
        "from pylab import rcParams\n",
        "rcParams['figure.figsize'] =8, 5\n",
        "\n",
        "plt.plot(reframed1[n_train_time:n_train_time+500].index, inv_yhat[:500], color='darkgreen', label=\"Prediction\")\n",
        "plt.plot(warning.dt, warning.yhat,'s',color='red', label=\"Warning\")\n",
        "plt.plot(warning.dt, warning.hour_avg,'*',color='blue', label=\"avg\")\n",
        "\n",
        "plt.xticks(rotation=45)\n",
        "\n",
        "plt.ylabel('Global Active Power', size=12)\n",
        "plt.legend(fontsize=11)\n",
        "\n",
        "plt.show()"
      ],
      "execution_count": null,
      "outputs": [
        {
          "output_type": "display_data",
          "data": {
            "image/png": "[encoded data removed]",
            "text/plain": [
              "<Figure size 576x360 with 1 Axes>"
            ]
          },
          "metadata": {
            "needs_background": "light"
          }
        }
      ]
    },
    {
      "cell_type": "code",
      "metadata": {
        "colab": {
          "base_uri": "https://localhost:8080/"
        },
        "id": "4A1bu6hkUoYJ",
        "outputId": "597153f9-48e6-4437-bcc4-881edc75c7eb"
      },
      "source": [
        "warning.difference.sum()"
      ],
      "execution_count": null,
      "outputs": [
        {
          "output_type": "execute_result",
          "data": {
            "text/plain": [
              "4361.105780196505"
            ]
          },
          "metadata": {},
          "execution_count": 38
        }
      ]
    }
  ]
}