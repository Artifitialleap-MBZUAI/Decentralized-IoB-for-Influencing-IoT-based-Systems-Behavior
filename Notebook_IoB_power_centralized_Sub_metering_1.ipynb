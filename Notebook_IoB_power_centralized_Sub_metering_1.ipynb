{
  "nbformat": 4,
  "nbformat_minor": 0,
  "metadata": {
    "colab": {
      "name": "Notebook IoB power centralized Sub_metering_1",
      "provenance": [],
      "collapsed_sections": []
    },
    "kernelspec": {
      "name": "python3",
      "display_name": "Python 3"
    },
    "language_info": {
      "name": "python"
    }
  },
  "cells": [
    {
      "cell_type": "code",
      "metadata": {
        "id": "P_XTqUkvuDHQ"
      },
      "source": [
        "import pandas as pd"
      ],
      "execution_count": null,
      "outputs": []
    },
    {
      "cell_type": "code",
      "metadata": {
        "id": "khPEXXrdvh-Y"
      },
      "source": [
        "df = pd.read_csv('/content/drive/MyDrive/IoB power consumption/household_power_consumption.txt', sep=';', \n",
        "                 parse_dates={'dt' : ['Date', 'Time']}, infer_datetime_format=True, \n",
        "                 low_memory=False, na_values=['nan','?'], index_col='dt')"
      ],
      "execution_count": null,
      "outputs": []
    },
    {
      "cell_type": "code",
      "metadata": {
        "colab": {
          "base_uri": "https://localhost:8080/",
          "height": 236
        },
        "id": "viXl24v4vmNG",
        "outputId": "74abbc99-ff4f-4b19-dc10-e1338f9dce10"
      },
      "source": [
        "df.head()"
      ],
      "execution_count": null,
      "outputs": [
        {
          "output_type": "execute_result",
          "data": {
            "text/html": [
              "<div>\n",
              "<style scoped>\n",
              "    .dataframe tbody tr th:only-of-type {\n",
              "        vertical-align: middle;\n",
              "    }\n",
              "\n",
              "    .dataframe tbody tr th {\n",
              "        vertical-align: top;\n",
              "    }\n",
              "\n",
              "    .dataframe thead th {\n",
              "        text-align: right;\n",
              "    }\n",
              "</style>\n",
              "<table border=\"1\" class=\"dataframe\">\n",
              "  <thead>\n",
              "    <tr style=\"text-align: right;\">\n",
              "      <th></th>\n",
              "      <th>Global_active_power</th>\n",
              "      <th>Global_reactive_power</th>\n",
              "      <th>Voltage</th>\n",
              "      <th>Global_intensity</th>\n",
              "      <th>Sub_metering_1</th>\n",
              "      <th>Sub_metering_2</th>\n",
              "      <th>Sub_metering_3</th>\n",
              "    </tr>\n",
              "    <tr>\n",
              "      <th>dt</th>\n",
              "      <th></th>\n",
              "      <th></th>\n",
              "      <th></th>\n",
              "      <th></th>\n",
              "      <th></th>\n",
              "      <th></th>\n",
              "      <th></th>\n",
              "    </tr>\n",
              "  </thead>\n",
              "  <tbody>\n",
              "    <tr>\n",
              "      <th>2006-12-16 17:24:00</th>\n",
              "      <td>4.216</td>\n",
              "      <td>0.418</td>\n",
              "      <td>234.84</td>\n",
              "      <td>18.4</td>\n",
              "      <td>0.0</td>\n",
              "      <td>1.0</td>\n",
              "      <td>17.0</td>\n",
              "    </tr>\n",
              "    <tr>\n",
              "      <th>2006-12-16 17:25:00</th>\n",
              "      <td>5.360</td>\n",
              "      <td>0.436</td>\n",
              "      <td>233.63</td>\n",
              "      <td>23.0</td>\n",
              "      <td>0.0</td>\n",
              "      <td>1.0</td>\n",
              "      <td>16.0</td>\n",
              "    </tr>\n",
              "    <tr>\n",
              "      <th>2006-12-16 17:26:00</th>\n",
              "      <td>5.374</td>\n",
              "      <td>0.498</td>\n",
              "      <td>233.29</td>\n",
              "      <td>23.0</td>\n",
              "      <td>0.0</td>\n",
              "      <td>2.0</td>\n",
              "      <td>17.0</td>\n",
              "    </tr>\n",
              "    <tr>\n",
              "      <th>2006-12-16 17:27:00</th>\n",
              "      <td>5.388</td>\n",
              "      <td>0.502</td>\n",
              "      <td>233.74</td>\n",
              "      <td>23.0</td>\n",
              "      <td>0.0</td>\n",
              "      <td>1.0</td>\n",
              "      <td>17.0</td>\n",
              "    </tr>\n",
              "    <tr>\n",
              "      <th>2006-12-16 17:28:00</th>\n",
              "      <td>3.666</td>\n",
              "      <td>0.528</td>\n",
              "      <td>235.68</td>\n",
              "      <td>15.8</td>\n",
              "      <td>0.0</td>\n",
              "      <td>1.0</td>\n",
              "      <td>17.0</td>\n",
              "    </tr>\n",
              "  </tbody>\n",
              "</table>\n",
              "</div>"
            ],
            "text/plain": [
              "                     Global_active_power  ...  Sub_metering_3\n",
              "dt                                        ...                \n",
              "2006-12-16 17:24:00                4.216  ...            17.0\n",
              "2006-12-16 17:25:00                5.360  ...            16.0\n",
              "2006-12-16 17:26:00                5.374  ...            17.0\n",
              "2006-12-16 17:27:00                5.388  ...            17.0\n",
              "2006-12-16 17:28:00                3.666  ...            17.0\n",
              "\n",
              "[5 rows x 7 columns]"
            ]
          },
          "metadata": {},
          "execution_count": 4
        }
      ]
    },
    {
      "cell_type": "code",
      "metadata": {
        "colab": {
          "base_uri": "https://localhost:8080/"
        },
        "id": "-ZWLTPSHunm3",
        "outputId": "5307833a-6fa8-44c2-f678-bcbb9cc08d8e"
      },
      "source": [
        "df.count()"
      ],
      "execution_count": null,
      "outputs": [
        {
          "output_type": "execute_result",
          "data": {
            "text/plain": [
              "Global_active_power      2049280\n",
              "Global_reactive_power    2049280\n",
              "Voltage                  2049280\n",
              "Global_intensity         2049280\n",
              "Sub_metering_1           2049280\n",
              "Sub_metering_2           2049280\n",
              "Sub_metering_3           2049280\n",
              "dtype: int64"
            ]
          },
          "metadata": {},
          "execution_count": 3
        }
      ]
    },
    {
      "cell_type": "code",
      "metadata": {
        "id": "0JFkQXVrvv-1"
      },
      "source": [
        "values = df.values.astype('float32')\n",
        "df['sub_metering_4'] = (values[:,0] * 1000 / 60) - (values[:,4] + values[:,5] + values[:,6])\n",
        "df['ds']=df.index\n",
        "df[\"day_name\"]= df['ds'].dt.day_name()"
      ],
      "execution_count": null,
      "outputs": []
    },
    {
      "cell_type": "code",
      "metadata": {
        "id": "Y-iHwC5kHIpH"
      },
      "source": [
        "df.drop(['ds'], axis=1, inplace=True)"
      ],
      "execution_count": null,
      "outputs": []
    },
    {
      "cell_type": "code",
      "metadata": {
        "colab": {
          "base_uri": "https://localhost:8080/",
          "height": 323
        },
        "id": "59ZX0iQtvyMX",
        "outputId": "bdd040b8-bc70-4a5b-ee49-521f2cda81ec"
      },
      "source": [
        "df.head() "
      ],
      "execution_count": null,
      "outputs": [
        {
          "output_type": "execute_result",
          "data": {
            "text/html": [
              "<div>\n",
              "<style scoped>\n",
              "    .dataframe tbody tr th:only-of-type {\n",
              "        vertical-align: middle;\n",
              "    }\n",
              "\n",
              "    .dataframe tbody tr th {\n",
              "        vertical-align: top;\n",
              "    }\n",
              "\n",
              "    .dataframe thead th {\n",
              "        text-align: right;\n",
              "    }\n",
              "</style>\n",
              "<table border=\"1\" class=\"dataframe\">\n",
              "  <thead>\n",
              "    <tr style=\"text-align: right;\">\n",
              "      <th></th>\n",
              "      <th>Global_active_power</th>\n",
              "      <th>Global_reactive_power</th>\n",
              "      <th>Voltage</th>\n",
              "      <th>Global_intensity</th>\n",
              "      <th>Sub_metering_1</th>\n",
              "      <th>Sub_metering_2</th>\n",
              "      <th>Sub_metering_3</th>\n",
              "      <th>sub_metering_4</th>\n",
              "      <th>day_name</th>\n",
              "    </tr>\n",
              "    <tr>\n",
              "      <th>dt</th>\n",
              "      <th></th>\n",
              "      <th></th>\n",
              "      <th></th>\n",
              "      <th></th>\n",
              "      <th></th>\n",
              "      <th></th>\n",
              "      <th></th>\n",
              "      <th></th>\n",
              "      <th></th>\n",
              "    </tr>\n",
              "  </thead>\n",
              "  <tbody>\n",
              "    <tr>\n",
              "      <th>2006-12-16 17:24:00</th>\n",
              "      <td>4.216</td>\n",
              "      <td>0.418</td>\n",
              "      <td>234.84</td>\n",
              "      <td>18.4</td>\n",
              "      <td>0.0</td>\n",
              "      <td>1.0</td>\n",
              "      <td>17.0</td>\n",
              "      <td>52.266670</td>\n",
              "      <td>Saturday</td>\n",
              "    </tr>\n",
              "    <tr>\n",
              "      <th>2006-12-16 17:25:00</th>\n",
              "      <td>5.360</td>\n",
              "      <td>0.436</td>\n",
              "      <td>233.63</td>\n",
              "      <td>23.0</td>\n",
              "      <td>0.0</td>\n",
              "      <td>1.0</td>\n",
              "      <td>16.0</td>\n",
              "      <td>72.333336</td>\n",
              "      <td>Saturday</td>\n",
              "    </tr>\n",
              "    <tr>\n",
              "      <th>2006-12-16 17:26:00</th>\n",
              "      <td>5.374</td>\n",
              "      <td>0.498</td>\n",
              "      <td>233.29</td>\n",
              "      <td>23.0</td>\n",
              "      <td>0.0</td>\n",
              "      <td>2.0</td>\n",
              "      <td>17.0</td>\n",
              "      <td>70.566666</td>\n",
              "      <td>Saturday</td>\n",
              "    </tr>\n",
              "    <tr>\n",
              "      <th>2006-12-16 17:27:00</th>\n",
              "      <td>5.388</td>\n",
              "      <td>0.502</td>\n",
              "      <td>233.74</td>\n",
              "      <td>23.0</td>\n",
              "      <td>0.0</td>\n",
              "      <td>1.0</td>\n",
              "      <td>17.0</td>\n",
              "      <td>71.800003</td>\n",
              "      <td>Saturday</td>\n",
              "    </tr>\n",
              "    <tr>\n",
              "      <th>2006-12-16 17:28:00</th>\n",
              "      <td>3.666</td>\n",
              "      <td>0.528</td>\n",
              "      <td>235.68</td>\n",
              "      <td>15.8</td>\n",
              "      <td>0.0</td>\n",
              "      <td>1.0</td>\n",
              "      <td>17.0</td>\n",
              "      <td>43.099998</td>\n",
              "      <td>Saturday</td>\n",
              "    </tr>\n",
              "  </tbody>\n",
              "</table>\n",
              "</div>"
            ],
            "text/plain": [
              "                     Global_active_power  ...  day_name\n",
              "dt                                        ...          \n",
              "2006-12-16 17:24:00                4.216  ...  Saturday\n",
              "2006-12-16 17:25:00                5.360  ...  Saturday\n",
              "2006-12-16 17:26:00                5.374  ...  Saturday\n",
              "2006-12-16 17:27:00                5.388  ...  Saturday\n",
              "2006-12-16 17:28:00                3.666  ...  Saturday\n",
              "\n",
              "[5 rows x 9 columns]"
            ]
          },
          "metadata": {},
          "execution_count": 6
        }
      ]
    },
    {
      "cell_type": "code",
      "metadata": {
        "colab": {
          "base_uri": "https://localhost:8080/"
        },
        "id": "USS0Zd9av3kj",
        "outputId": "46d12f67-ebd7-4717-8096-fbe403d4d82e"
      },
      "source": [
        "droping_list_all=[]\n",
        "for j in range(0,9):\n",
        "    if not df.iloc[:, j].notnull().all():\n",
        "        droping_list_all.append(j)        \n",
        "droping_list_all"
      ],
      "execution_count": null,
      "outputs": [
        {
          "output_type": "execute_result",
          "data": {
            "text/plain": [
              "[0, 1, 2, 3, 4, 5, 6, 7]"
            ]
          },
          "metadata": {},
          "execution_count": 7
        }
      ]
    },
    {
      "cell_type": "code",
      "metadata": {
        "colab": {
          "base_uri": "https://localhost:8080/"
        },
        "id": "7SWBr4atqMMX",
        "outputId": "1902a500-f0a6-4c54-fe1d-73583f3796f4"
      },
      "source": [
        "df.isnull().sum()"
      ],
      "execution_count": null,
      "outputs": [
        {
          "output_type": "execute_result",
          "data": {
            "text/plain": [
              "Global_active_power      25979\n",
              "Global_reactive_power    25979\n",
              "Voltage                  25979\n",
              "Global_intensity         25979\n",
              "Sub_metering_1           25979\n",
              "Sub_metering_2           25979\n",
              "Sub_metering_3           25979\n",
              "sub_metering_4           25979\n",
              "day_name                     0\n",
              "dtype: int64"
            ]
          },
          "metadata": {},
          "execution_count": 8
        }
      ]
    },
    {
      "cell_type": "code",
      "metadata": {
        "id": "je6LJCQJv3sD"
      },
      "source": [
        "for j in range(0,8):        \n",
        "        df.iloc[:,j]=df.iloc[:,j].fillna(df.iloc[:,j].mean())"
      ],
      "execution_count": null,
      "outputs": []
    },
    {
      "cell_type": "code",
      "metadata": {
        "colab": {
          "base_uri": "https://localhost:8080/"
        },
        "id": "oPoZrZb5v78i",
        "outputId": "5dc9dc8f-b081-4eb5-e16a-cfc4d4a093dc"
      },
      "source": [
        "df.isnull().sum()"
      ],
      "execution_count": null,
      "outputs": [
        {
          "output_type": "execute_result",
          "data": {
            "text/plain": [
              "Global_active_power      0\n",
              "Global_reactive_power    0\n",
              "Voltage                  0\n",
              "Global_intensity         0\n",
              "Sub_metering_1           0\n",
              "Sub_metering_2           0\n",
              "Sub_metering_3           0\n",
              "sub_metering_4           0\n",
              "day_name                 0\n",
              "dtype: int64"
            ]
          },
          "metadata": {},
          "execution_count": 11
        }
      ]
    },
    {
      "cell_type": "code",
      "metadata": {
        "colab": {
          "base_uri": "https://localhost:8080/"
        },
        "id": "cxj8IFFjuxtz",
        "outputId": "f4bdc956-3f44-465e-f39e-3c5834893bb5"
      },
      "source": [
        "df.count()"
      ],
      "execution_count": null,
      "outputs": [
        {
          "output_type": "execute_result",
          "data": {
            "text/plain": [
              "Global_active_power      2075259\n",
              "Global_reactive_power    2075259\n",
              "Voltage                  2075259\n",
              "Global_intensity         2075259\n",
              "Sub_metering_1           2075259\n",
              "Sub_metering_2           2075259\n",
              "Sub_metering_3           2075259\n",
              "sub_metering_4           2075259\n",
              "day_name                 2075259\n",
              "dtype: int64"
            ]
          },
          "metadata": {},
          "execution_count": 12
        }
      ]
    },
    {
      "cell_type": "code",
      "metadata": {
        "colab": {
          "base_uri": "https://localhost:8080/",
          "height": 299
        },
        "id": "Q_Zjmm7cE8lU",
        "outputId": "88bdd63f-06ee-48d1-b5ae-81e180ebb3db"
      },
      "source": [
        "df.describe()"
      ],
      "execution_count": null,
      "outputs": [
        {
          "output_type": "execute_result",
          "data": {
            "text/html": [
              "<div>\n",
              "<style scoped>\n",
              "    .dataframe tbody tr th:only-of-type {\n",
              "        vertical-align: middle;\n",
              "    }\n",
              "\n",
              "    .dataframe tbody tr th {\n",
              "        vertical-align: top;\n",
              "    }\n",
              "\n",
              "    .dataframe thead th {\n",
              "        text-align: right;\n",
              "    }\n",
              "</style>\n",
              "<table border=\"1\" class=\"dataframe\">\n",
              "  <thead>\n",
              "    <tr style=\"text-align: right;\">\n",
              "      <th></th>\n",
              "      <th>Global_active_power</th>\n",
              "      <th>Global_reactive_power</th>\n",
              "      <th>Voltage</th>\n",
              "      <th>Global_intensity</th>\n",
              "      <th>Sub_metering_1</th>\n",
              "      <th>Sub_metering_2</th>\n",
              "      <th>Sub_metering_3</th>\n",
              "      <th>sub_metering_4</th>\n",
              "    </tr>\n",
              "  </thead>\n",
              "  <tbody>\n",
              "    <tr>\n",
              "      <th>count</th>\n",
              "      <td>2.075259e+06</td>\n",
              "      <td>2.075259e+06</td>\n",
              "      <td>2.075259e+06</td>\n",
              "      <td>2.075259e+06</td>\n",
              "      <td>2.075259e+06</td>\n",
              "      <td>2.075259e+06</td>\n",
              "      <td>2.075259e+06</td>\n",
              "      <td>2.075259e+06</td>\n",
              "    </tr>\n",
              "    <tr>\n",
              "      <th>mean</th>\n",
              "      <td>1.091615e+00</td>\n",
              "      <td>1.237145e-01</td>\n",
              "      <td>2.408399e+02</td>\n",
              "      <td>4.627759e+00</td>\n",
              "      <td>1.121923e+00</td>\n",
              "      <td>1.298520e+00</td>\n",
              "      <td>6.458447e+00</td>\n",
              "      <td>9.317223e+00</td>\n",
              "    </tr>\n",
              "    <tr>\n",
              "      <th>std</th>\n",
              "      <td>1.050655e+00</td>\n",
              "      <td>1.120142e-01</td>\n",
              "      <td>3.219643e+00</td>\n",
              "      <td>4.416490e+00</td>\n",
              "      <td>6.114397e+00</td>\n",
              "      <td>5.785470e+00</td>\n",
              "      <td>8.384178e+00</td>\n",
              "      <td>9.519520e+00</td>\n",
              "    </tr>\n",
              "    <tr>\n",
              "      <th>min</th>\n",
              "      <td>7.600000e-02</td>\n",
              "      <td>0.000000e+00</td>\n",
              "      <td>2.232000e+02</td>\n",
              "      <td>2.000000e-01</td>\n",
              "      <td>0.000000e+00</td>\n",
              "      <td>0.000000e+00</td>\n",
              "      <td>0.000000e+00</td>\n",
              "      <td>-2.400000e+00</td>\n",
              "    </tr>\n",
              "    <tr>\n",
              "      <th>25%</th>\n",
              "      <td>3.100000e-01</td>\n",
              "      <td>4.800000e-02</td>\n",
              "      <td>2.390200e+02</td>\n",
              "      <td>1.400000e+00</td>\n",
              "      <td>0.000000e+00</td>\n",
              "      <td>0.000000e+00</td>\n",
              "      <td>0.000000e+00</td>\n",
              "      <td>3.833333e+00</td>\n",
              "    </tr>\n",
              "    <tr>\n",
              "      <th>50%</th>\n",
              "      <td>6.300000e-01</td>\n",
              "      <td>1.020000e-01</td>\n",
              "      <td>2.409600e+02</td>\n",
              "      <td>2.800000e+00</td>\n",
              "      <td>0.000000e+00</td>\n",
              "      <td>0.000000e+00</td>\n",
              "      <td>1.000000e+00</td>\n",
              "      <td>5.566667e+00</td>\n",
              "    </tr>\n",
              "    <tr>\n",
              "      <th>75%</th>\n",
              "      <td>1.520000e+00</td>\n",
              "      <td>1.920000e-01</td>\n",
              "      <td>2.428600e+02</td>\n",
              "      <td>6.400000e+00</td>\n",
              "      <td>0.000000e+00</td>\n",
              "      <td>1.000000e+00</td>\n",
              "      <td>1.700000e+01</td>\n",
              "      <td>1.023333e+01</td>\n",
              "    </tr>\n",
              "    <tr>\n",
              "      <th>max</th>\n",
              "      <td>1.112200e+01</td>\n",
              "      <td>1.390000e+00</td>\n",
              "      <td>2.541500e+02</td>\n",
              "      <td>4.840000e+01</td>\n",
              "      <td>8.800000e+01</td>\n",
              "      <td>8.000000e+01</td>\n",
              "      <td>3.100000e+01</td>\n",
              "      <td>1.248333e+02</td>\n",
              "    </tr>\n",
              "  </tbody>\n",
              "</table>\n",
              "</div>"
            ],
            "text/plain": [
              "       Global_active_power  ...  sub_metering_4\n",
              "count         2.075259e+06  ...    2.075259e+06\n",
              "mean          1.091615e+00  ...    9.317223e+00\n",
              "std           1.050655e+00  ...    9.519520e+00\n",
              "min           7.600000e-02  ...   -2.400000e+00\n",
              "25%           3.100000e-01  ...    3.833333e+00\n",
              "50%           6.300000e-01  ...    5.566667e+00\n",
              "75%           1.520000e+00  ...    1.023333e+01\n",
              "max           1.112200e+01  ...    1.248333e+02\n",
              "\n",
              "[8 rows x 8 columns]"
            ]
          },
          "metadata": {},
          "execution_count": 13
        }
      ]
    },
    {
      "cell_type": "markdown",
      "metadata": {
        "id": "gGsSerqHPfqE"
      },
      "source": [
        "# LSTM"
      ]
    },
    {
      "cell_type": "code",
      "metadata": {
        "id": "CjKWoiIpPjwP"
      },
      "source": [
        "def series_to_supervised(data, n_in=1, n_out=1, dropnan=True):\n",
        "\tn_vars = 1 if type(data) is list else data.shape[1]\n",
        "\tdff = pd.DataFrame(data)\n",
        "\tcols, names = list(), list()\n",
        "\t# input sequence (t-n, ... t-1)\n",
        "\tfor i in range(n_in, 0, -1):\n",
        "\t\tcols.append(dff.shift(i))\n",
        "\t\tnames += [('var%d(t-%d)' % (j+1, i)) for j in range(n_vars)]\n",
        "\t# forecast sequence (t, t+1, ... t+n)\n",
        "\tfor i in range(0, n_out):\n",
        "\t\tcols.append(dff.shift(-i))\n",
        "\t\tif i == 0:\n",
        "\t\t\tnames += [('var%d(t)' % (j+1)) for j in range(n_vars)]\n",
        "\t\telse:\n",
        "\t\t\tnames += [('var%d(t+%d)' % (j+1, i)) for j in range(n_vars)]\n",
        "\t# put it all together\n",
        "\tagg = pd.concat(cols, axis=1)\n",
        "\tagg.columns = names\n",
        "\t# drop rows with NaN values\n",
        "\tif dropnan:\n",
        "\t\tagg.dropna(inplace=True)\n",
        "\treturn agg"
      ],
      "execution_count": null,
      "outputs": []
    },
    {
      "cell_type": "code",
      "metadata": {
        "colab": {
          "base_uri": "https://localhost:8080/"
        },
        "id": "T-SFaqJ2Trqp",
        "outputId": "5b2c2976-5623-4cc0-dfe1-0b2687198fde"
      },
      "source": [
        "df_resample = df.resample('h').sum() \n",
        "df_resample.shape"
      ],
      "execution_count": null,
      "outputs": [
        {
          "output_type": "execute_result",
          "data": {
            "text/plain": [
              "(34589, 8)"
            ]
          },
          "metadata": {},
          "execution_count": 15
        }
      ]
    },
    {
      "cell_type": "code",
      "metadata": {
        "colab": {
          "base_uri": "https://localhost:8080/",
          "height": 236
        },
        "id": "c2MzIJsGT0u6",
        "outputId": "80c6e525-21eb-42eb-8407-12023952c250"
      },
      "source": [
        "df_resample.head()"
      ],
      "execution_count": null,
      "outputs": [
        {
          "output_type": "execute_result",
          "data": {
            "text/html": [
              "<div>\n",
              "<style scoped>\n",
              "    .dataframe tbody tr th:only-of-type {\n",
              "        vertical-align: middle;\n",
              "    }\n",
              "\n",
              "    .dataframe tbody tr th {\n",
              "        vertical-align: top;\n",
              "    }\n",
              "\n",
              "    .dataframe thead th {\n",
              "        text-align: right;\n",
              "    }\n",
              "</style>\n",
              "<table border=\"1\" class=\"dataframe\">\n",
              "  <thead>\n",
              "    <tr style=\"text-align: right;\">\n",
              "      <th></th>\n",
              "      <th>Global_active_power</th>\n",
              "      <th>Global_reactive_power</th>\n",
              "      <th>Voltage</th>\n",
              "      <th>Global_intensity</th>\n",
              "      <th>Sub_metering_1</th>\n",
              "      <th>Sub_metering_2</th>\n",
              "      <th>Sub_metering_3</th>\n",
              "      <th>sub_metering_4</th>\n",
              "    </tr>\n",
              "    <tr>\n",
              "      <th>dt</th>\n",
              "      <th></th>\n",
              "      <th></th>\n",
              "      <th></th>\n",
              "      <th></th>\n",
              "      <th></th>\n",
              "      <th></th>\n",
              "      <th></th>\n",
              "      <th></th>\n",
              "    </tr>\n",
              "  </thead>\n",
              "  <tbody>\n",
              "    <tr>\n",
              "      <th>2006-12-16 17:00:00</th>\n",
              "      <td>152.024</td>\n",
              "      <td>8.244</td>\n",
              "      <td>8447.18</td>\n",
              "      <td>651.6</td>\n",
              "      <td>0.0</td>\n",
              "      <td>19.0</td>\n",
              "      <td>607.0</td>\n",
              "      <td>1907.733398</td>\n",
              "    </tr>\n",
              "    <tr>\n",
              "      <th>2006-12-16 18:00:00</th>\n",
              "      <td>217.932</td>\n",
              "      <td>4.802</td>\n",
              "      <td>14074.81</td>\n",
              "      <td>936.0</td>\n",
              "      <td>0.0</td>\n",
              "      <td>403.0</td>\n",
              "      <td>1012.0</td>\n",
              "      <td>2217.199951</td>\n",
              "    </tr>\n",
              "    <tr>\n",
              "      <th>2006-12-16 19:00:00</th>\n",
              "      <td>204.014</td>\n",
              "      <td>5.114</td>\n",
              "      <td>13993.95</td>\n",
              "      <td>870.2</td>\n",
              "      <td>0.0</td>\n",
              "      <td>86.0</td>\n",
              "      <td>1001.0</td>\n",
              "      <td>2313.233398</td>\n",
              "    </tr>\n",
              "    <tr>\n",
              "      <th>2006-12-16 20:00:00</th>\n",
              "      <td>196.114</td>\n",
              "      <td>4.506</td>\n",
              "      <td>14044.29</td>\n",
              "      <td>835.0</td>\n",
              "      <td>0.0</td>\n",
              "      <td>0.0</td>\n",
              "      <td>1007.0</td>\n",
              "      <td>2261.566650</td>\n",
              "    </tr>\n",
              "    <tr>\n",
              "      <th>2006-12-16 21:00:00</th>\n",
              "      <td>183.388</td>\n",
              "      <td>4.600</td>\n",
              "      <td>14229.52</td>\n",
              "      <td>782.8</td>\n",
              "      <td>0.0</td>\n",
              "      <td>25.0</td>\n",
              "      <td>1033.0</td>\n",
              "      <td>1998.466675</td>\n",
              "    </tr>\n",
              "  </tbody>\n",
              "</table>\n",
              "</div>"
            ],
            "text/plain": [
              "                     Global_active_power  ...  sub_metering_4\n",
              "dt                                        ...                \n",
              "2006-12-16 17:00:00              152.024  ...     1907.733398\n",
              "2006-12-16 18:00:00              217.932  ...     2217.199951\n",
              "2006-12-16 19:00:00              204.014  ...     2313.233398\n",
              "2006-12-16 20:00:00              196.114  ...     2261.566650\n",
              "2006-12-16 21:00:00              183.388  ...     1998.466675\n",
              "\n",
              "[5 rows x 8 columns]"
            ]
          },
          "metadata": {},
          "execution_count": 16
        }
      ]
    },
    {
      "cell_type": "code",
      "metadata": {
        "colab": {
          "base_uri": "https://localhost:8080/",
          "height": 299
        },
        "id": "zHwHBizPFEnw",
        "outputId": "cdecd579-5607-4a30-bebc-9f909ba1addc"
      },
      "source": [
        "df_resample.describe()"
      ],
      "execution_count": null,
      "outputs": [
        {
          "output_type": "execute_result",
          "data": {
            "text/html": [
              "<div>\n",
              "<style scoped>\n",
              "    .dataframe tbody tr th:only-of-type {\n",
              "        vertical-align: middle;\n",
              "    }\n",
              "\n",
              "    .dataframe tbody tr th {\n",
              "        vertical-align: top;\n",
              "    }\n",
              "\n",
              "    .dataframe thead th {\n",
              "        text-align: right;\n",
              "    }\n",
              "</style>\n",
              "<table border=\"1\" class=\"dataframe\">\n",
              "  <thead>\n",
              "    <tr style=\"text-align: right;\">\n",
              "      <th></th>\n",
              "      <th>Global_active_power</th>\n",
              "      <th>Global_reactive_power</th>\n",
              "      <th>Voltage</th>\n",
              "      <th>Global_intensity</th>\n",
              "      <th>Sub_metering_1</th>\n",
              "      <th>Sub_metering_2</th>\n",
              "      <th>Sub_metering_3</th>\n",
              "      <th>sub_metering_4</th>\n",
              "    </tr>\n",
              "  </thead>\n",
              "  <tbody>\n",
              "    <tr>\n",
              "      <th>count</th>\n",
              "      <td>34589.000000</td>\n",
              "      <td>34589.000000</td>\n",
              "      <td>34589.000000</td>\n",
              "      <td>34589.000000</td>\n",
              "      <td>34589.000000</td>\n",
              "      <td>34589.000000</td>\n",
              "      <td>34589.000000</td>\n",
              "      <td>34589.000000</td>\n",
              "    </tr>\n",
              "    <tr>\n",
              "      <th>mean</th>\n",
              "      <td>65.494346</td>\n",
              "      <td>7.422579</td>\n",
              "      <td>14449.827483</td>\n",
              "      <td>277.654721</td>\n",
              "      <td>67.312771</td>\n",
              "      <td>77.908157</td>\n",
              "      <td>387.491717</td>\n",
              "      <td>558.854004</td>\n",
              "    </tr>\n",
              "    <tr>\n",
              "      <th>std</th>\n",
              "      <td>53.511436</td>\n",
              "      <td>3.983965</td>\n",
              "      <td>196.201130</td>\n",
              "      <td>224.019459</td>\n",
              "      <td>210.958049</td>\n",
              "      <td>250.001386</td>\n",
              "      <td>438.232263</td>\n",
              "      <td>493.144379</td>\n",
              "    </tr>\n",
              "    <tr>\n",
              "      <th>min</th>\n",
              "      <td>2.804000</td>\n",
              "      <td>0.000000</td>\n",
              "      <td>719.070000</td>\n",
              "      <td>11.400000</td>\n",
              "      <td>0.000000</td>\n",
              "      <td>0.000000</td>\n",
              "      <td>0.000000</td>\n",
              "      <td>46.733334</td>\n",
              "    </tr>\n",
              "    <tr>\n",
              "      <th>25%</th>\n",
              "      <td>20.618000</td>\n",
              "      <td>4.700000</td>\n",
              "      <td>14352.740000</td>\n",
              "      <td>91.200000</td>\n",
              "      <td>0.000000</td>\n",
              "      <td>0.000000</td>\n",
              "      <td>39.000000</td>\n",
              "      <td>262.133331</td>\n",
              "    </tr>\n",
              "    <tr>\n",
              "      <th>50%</th>\n",
              "      <td>49.296000</td>\n",
              "      <td>6.468000</td>\n",
              "      <td>14456.120000</td>\n",
              "      <td>210.000000</td>\n",
              "      <td>0.000000</td>\n",
              "      <td>20.000000</td>\n",
              "      <td>100.000000</td>\n",
              "      <td>349.333344</td>\n",
              "    </tr>\n",
              "    <tr>\n",
              "      <th>75%</th>\n",
              "      <td>94.212000</td>\n",
              "      <td>8.922000</td>\n",
              "      <td>14560.420000</td>\n",
              "      <td>393.800000</td>\n",
              "      <td>0.000000</td>\n",
              "      <td>40.000000</td>\n",
              "      <td>837.000000</td>\n",
              "      <td>658.433350</td>\n",
              "    </tr>\n",
              "    <tr>\n",
              "      <th>max</th>\n",
              "      <td>393.632000</td>\n",
              "      <td>46.460000</td>\n",
              "      <td>15114.120000</td>\n",
              "      <td>1703.000000</td>\n",
              "      <td>2902.000000</td>\n",
              "      <td>2786.000000</td>\n",
              "      <td>1293.000000</td>\n",
              "      <td>3890.233398</td>\n",
              "    </tr>\n",
              "  </tbody>\n",
              "</table>\n",
              "</div>"
            ],
            "text/plain": [
              "       Global_active_power  ...  sub_metering_4\n",
              "count         34589.000000  ...    34589.000000\n",
              "mean             65.494346  ...      558.854004\n",
              "std              53.511436  ...      493.144379\n",
              "min               2.804000  ...       46.733334\n",
              "25%              20.618000  ...      262.133331\n",
              "50%              49.296000  ...      349.333344\n",
              "75%              94.212000  ...      658.433350\n",
              "max             393.632000  ...     3890.233398\n",
              "\n",
              "[8 rows x 8 columns]"
            ]
          },
          "metadata": {},
          "execution_count": 17
        }
      ]
    },
    {
      "cell_type": "code",
      "metadata": {
        "colab": {
          "base_uri": "https://localhost:8080/",
          "height": 177
        },
        "id": "tqd0__V4I09c",
        "outputId": "105275f5-b6e0-4309-a14a-5a156fe43703"
      },
      "source": [
        "df_resample[\"day_name\"]= df_resample.index.day_name()\n",
        "df_resample.head(2)"
      ],
      "execution_count": null,
      "outputs": [
        {
          "output_type": "execute_result",
          "data": {
            "text/html": [
              "<div>\n",
              "<style scoped>\n",
              "    .dataframe tbody tr th:only-of-type {\n",
              "        vertical-align: middle;\n",
              "    }\n",
              "\n",
              "    .dataframe tbody tr th {\n",
              "        vertical-align: top;\n",
              "    }\n",
              "\n",
              "    .dataframe thead th {\n",
              "        text-align: right;\n",
              "    }\n",
              "</style>\n",
              "<table border=\"1\" class=\"dataframe\">\n",
              "  <thead>\n",
              "    <tr style=\"text-align: right;\">\n",
              "      <th></th>\n",
              "      <th>Global_active_power</th>\n",
              "      <th>Global_reactive_power</th>\n",
              "      <th>Voltage</th>\n",
              "      <th>Global_intensity</th>\n",
              "      <th>Sub_metering_1</th>\n",
              "      <th>Sub_metering_2</th>\n",
              "      <th>Sub_metering_3</th>\n",
              "      <th>sub_metering_4</th>\n",
              "      <th>day_name</th>\n",
              "    </tr>\n",
              "    <tr>\n",
              "      <th>dt</th>\n",
              "      <th></th>\n",
              "      <th></th>\n",
              "      <th></th>\n",
              "      <th></th>\n",
              "      <th></th>\n",
              "      <th></th>\n",
              "      <th></th>\n",
              "      <th></th>\n",
              "      <th></th>\n",
              "    </tr>\n",
              "  </thead>\n",
              "  <tbody>\n",
              "    <tr>\n",
              "      <th>2006-12-16 17:00:00</th>\n",
              "      <td>152.024</td>\n",
              "      <td>8.244</td>\n",
              "      <td>8447.18</td>\n",
              "      <td>651.6</td>\n",
              "      <td>0.0</td>\n",
              "      <td>19.0</td>\n",
              "      <td>607.0</td>\n",
              "      <td>1907.733398</td>\n",
              "      <td>Saturday</td>\n",
              "    </tr>\n",
              "    <tr>\n",
              "      <th>2006-12-16 18:00:00</th>\n",
              "      <td>217.932</td>\n",
              "      <td>4.802</td>\n",
              "      <td>14074.81</td>\n",
              "      <td>936.0</td>\n",
              "      <td>0.0</td>\n",
              "      <td>403.0</td>\n",
              "      <td>1012.0</td>\n",
              "      <td>2217.199951</td>\n",
              "      <td>Saturday</td>\n",
              "    </tr>\n",
              "  </tbody>\n",
              "</table>\n",
              "</div>"
            ],
            "text/plain": [
              "                     Global_active_power  ...  day_name\n",
              "dt                                        ...          \n",
              "2006-12-16 17:00:00              152.024  ...  Saturday\n",
              "2006-12-16 18:00:00              217.932  ...  Saturday\n",
              "\n",
              "[2 rows x 9 columns]"
            ]
          },
          "metadata": {},
          "execution_count": 18
        }
      ]
    },
    {
      "cell_type": "code",
      "metadata": {
        "colab": {
          "base_uri": "https://localhost:8080/",
          "height": 205
        },
        "id": "JKk1CyPpUJ2W",
        "outputId": "ac943e68-8a22-4682-f0d0-24e0a76e7065"
      },
      "source": [
        "from sklearn.preprocessing import MinMaxScaler\n",
        "\n",
        "values = df_resample.values \n",
        "\n",
        "# frame as supervised learning\n",
        "reframed1 = series_to_supervised(df_resample, 1, 1)\n",
        "\n",
        "# drop columns we don't want to predict\n",
        "reframed2= reframed1.drop(reframed1.columns[[7,8,9,10,11,12,14,15,16,17]], axis=1)\n",
        "reframed2.head()\n",
        "scaler = MinMaxScaler(feature_range=(0, 1))\n",
        "scaled = scaler.fit_transform(reframed2.values)\n",
        "reframed = pd.DataFrame(scaled, columns=  [\"var1(t-1)\",\"var2(t-1)\",\"var3(t-1)\",\"var4(t-1)\",\"var5(t-1)\"\t,\"var6(t-1)\",\"var7(t-1)\",\"var5(t)\"])\n",
        "reframed.head()"
      ],
      "execution_count": null,
      "outputs": [
        {
          "output_type": "execute_result",
          "data": {
            "text/html": [
              "<div>\n",
              "<style scoped>\n",
              "    .dataframe tbody tr th:only-of-type {\n",
              "        vertical-align: middle;\n",
              "    }\n",
              "\n",
              "    .dataframe tbody tr th {\n",
              "        vertical-align: top;\n",
              "    }\n",
              "\n",
              "    .dataframe thead th {\n",
              "        text-align: right;\n",
              "    }\n",
              "</style>\n",
              "<table border=\"1\" class=\"dataframe\">\n",
              "  <thead>\n",
              "    <tr style=\"text-align: right;\">\n",
              "      <th></th>\n",
              "      <th>var1(t-1)</th>\n",
              "      <th>var2(t-1)</th>\n",
              "      <th>var3(t-1)</th>\n",
              "      <th>var4(t-1)</th>\n",
              "      <th>var5(t-1)</th>\n",
              "      <th>var6(t-1)</th>\n",
              "      <th>var7(t-1)</th>\n",
              "      <th>var5(t)</th>\n",
              "    </tr>\n",
              "  </thead>\n",
              "  <tbody>\n",
              "    <tr>\n",
              "      <th>0</th>\n",
              "      <td>0.374384</td>\n",
              "      <td>0.163471</td>\n",
              "      <td>0.000000</td>\n",
              "      <td>0.371473</td>\n",
              "      <td>0.0</td>\n",
              "      <td>0.006820</td>\n",
              "      <td>0.469451</td>\n",
              "      <td>0.0</td>\n",
              "    </tr>\n",
              "    <tr>\n",
              "      <th>1</th>\n",
              "      <td>0.545045</td>\n",
              "      <td>0.088127</td>\n",
              "      <td>0.844110</td>\n",
              "      <td>0.541487</td>\n",
              "      <td>0.0</td>\n",
              "      <td>0.144652</td>\n",
              "      <td>0.782676</td>\n",
              "      <td>0.0</td>\n",
              "    </tr>\n",
              "    <tr>\n",
              "      <th>2</th>\n",
              "      <td>0.509006</td>\n",
              "      <td>0.094957</td>\n",
              "      <td>0.831981</td>\n",
              "      <td>0.502152</td>\n",
              "      <td>0.0</td>\n",
              "      <td>0.030869</td>\n",
              "      <td>0.774169</td>\n",
              "      <td>0.0</td>\n",
              "    </tr>\n",
              "    <tr>\n",
              "      <th>3</th>\n",
              "      <td>0.488550</td>\n",
              "      <td>0.081648</td>\n",
              "      <td>0.839532</td>\n",
              "      <td>0.481110</td>\n",
              "      <td>0.0</td>\n",
              "      <td>0.000000</td>\n",
              "      <td>0.778809</td>\n",
              "      <td>0.0</td>\n",
              "    </tr>\n",
              "    <tr>\n",
              "      <th>4</th>\n",
              "      <td>0.455597</td>\n",
              "      <td>0.083705</td>\n",
              "      <td>0.867315</td>\n",
              "      <td>0.449904</td>\n",
              "      <td>0.0</td>\n",
              "      <td>0.008973</td>\n",
              "      <td>0.798917</td>\n",
              "      <td>0.0</td>\n",
              "    </tr>\n",
              "  </tbody>\n",
              "</table>\n",
              "</div>"
            ],
            "text/plain": [
              "   var1(t-1)  var2(t-1)  var3(t-1)  ...  var6(t-1)  var7(t-1)  var5(t)\n",
              "0   0.374384   0.163471   0.000000  ...   0.006820   0.469451      0.0\n",
              "1   0.545045   0.088127   0.844110  ...   0.144652   0.782676      0.0\n",
              "2   0.509006   0.094957   0.831981  ...   0.030869   0.774169      0.0\n",
              "3   0.488550   0.081648   0.839532  ...   0.000000   0.778809      0.0\n",
              "4   0.455597   0.083705   0.867315  ...   0.008973   0.798917      0.0\n",
              "\n",
              "[5 rows x 8 columns]"
            ]
          },
          "metadata": {},
          "execution_count": 19
        }
      ]
    },
    {
      "cell_type": "code",
      "metadata": {
        "colab": {
          "base_uri": "https://localhost:8080/"
        },
        "id": "0FHO09vhh9CC",
        "outputId": "1ab45b4c-c3f2-41e1-ea44-231c3280ab8f"
      },
      "source": [
        "# split into train and test sets\n",
        "values = reframed.values\n",
        "\n",
        "n_train_time = 365*3*24\n",
        "train = values[:n_train_time, :]\n",
        "test = values[n_train_time:, :]\n",
        "train_X, train_y = train[:, :-1], train[:, -1]\n",
        "test_X, test_y = test[:, :-1], test[:, -1]\n",
        "\n",
        "# reshape input to be 3D [samples, timesteps, features]\n",
        "train_X = train_X.reshape((train_X.shape[0], 1, train_X.shape[1]))\n",
        "test_X = test_X.reshape((test_X.shape[0], 1, test_X.shape[1]))\n",
        "print(train_X.shape, train_y.shape, test_X.shape, test_y.shape) \n",
        "# We reshaped the input into the 3D format as expected by LSTMs, namely [samples, timesteps, features]."
      ],
      "execution_count": null,
      "outputs": [
        {
          "output_type": "stream",
          "name": "stdout",
          "text": [
            "(26280, 1, 7) (26280,) (8308, 1, 7) (8308,)\n"
          ]
        }
      ]
    },
    {
      "cell_type": "code",
      "metadata": {
        "colab": {
          "base_uri": "https://localhost:8080/"
        },
        "id": "24PsEQbgkfMj",
        "outputId": "e42827ca-c4a1-4242-a36a-a2a8dcf26ae0"
      },
      "source": [
        "import keras\n",
        "from keras.layers import Dense\n",
        "from keras.models import Sequential\n",
        "from tensorflow.keras.utils import to_categorical\n",
        "from tensorflow.keras.optimizers import SGD \n",
        "from keras.callbacks import EarlyStopping\n",
        "from keras.utils import np_utils\n",
        "import itertools\n",
        "from keras.layers import LSTM\n",
        "from keras.layers.convolutional import Conv1D\n",
        "from keras.layers.convolutional import MaxPooling1D\n",
        "from keras.layers import Dropout\n",
        "\n",
        "model = Sequential()\n",
        "model.add(LSTM(100, input_shape=(train_X.shape[1], train_X.shape[2])))\n",
        "model.add(Dropout(0.2))\n",
        "model.add(Dense(1))\n",
        "model.compile(loss='mean_squared_error', optimizer='adam')\n",
        "\n",
        "\n",
        "\n",
        "# fit network\n",
        "history = model.fit(train_X, train_y, epochs=20, batch_size=32, validation_data=(test_X, test_y), verbose=2, shuffle=False)\n"
      ],
      "execution_count": null,
      "outputs": [
        {
          "output_type": "stream",
          "name": "stdout",
          "text": [
            "Epoch 1/20\n",
            "822/822 - 4s - loss: 0.0046 - val_loss: 0.0037\n",
            "Epoch 2/20\n",
            "822/822 - 2s - loss: 0.0045 - val_loss: 0.0036\n",
            "Epoch 3/20\n",
            "822/822 - 2s - loss: 0.0045 - val_loss: 0.0036\n",
            "Epoch 4/20\n",
            "822/822 - 2s - loss: 0.0045 - val_loss: 0.0036\n",
            "Epoch 5/20\n",
            "822/822 - 2s - loss: 0.0045 - val_loss: 0.0036\n",
            "Epoch 6/20\n",
            "822/822 - 2s - loss: 0.0045 - val_loss: 0.0036\n",
            "Epoch 7/20\n",
            "822/822 - 2s - loss: 0.0045 - val_loss: 0.0036\n",
            "Epoch 8/20\n",
            "822/822 - 2s - loss: 0.0045 - val_loss: 0.0036\n",
            "Epoch 9/20\n",
            "822/822 - 2s - loss: 0.0045 - val_loss: 0.0036\n",
            "Epoch 10/20\n",
            "822/822 - 2s - loss: 0.0045 - val_loss: 0.0036\n",
            "Epoch 11/20\n",
            "822/822 - 2s - loss: 0.0045 - val_loss: 0.0036\n",
            "Epoch 12/20\n",
            "822/822 - 2s - loss: 0.0045 - val_loss: 0.0036\n",
            "Epoch 13/20\n",
            "822/822 - 2s - loss: 0.0045 - val_loss: 0.0036\n",
            "Epoch 14/20\n",
            "822/822 - 2s - loss: 0.0045 - val_loss: 0.0036\n",
            "Epoch 15/20\n",
            "822/822 - 2s - loss: 0.0045 - val_loss: 0.0036\n",
            "Epoch 16/20\n",
            "822/822 - 2s - loss: 0.0045 - val_loss: 0.0036\n",
            "Epoch 17/20\n",
            "822/822 - 2s - loss: 0.0045 - val_loss: 0.0036\n",
            "Epoch 18/20\n",
            "822/822 - 2s - loss: 0.0045 - val_loss: 0.0036\n",
            "Epoch 19/20\n",
            "822/822 - 2s - loss: 0.0045 - val_loss: 0.0036\n",
            "Epoch 20/20\n",
            "822/822 - 2s - loss: 0.0045 - val_loss: 0.0036\n"
          ]
        }
      ]
    },
    {
      "cell_type": "code",
      "metadata": {
        "colab": {
          "base_uri": "https://localhost:8080/",
          "height": 301
        },
        "id": "UwQSR_BPliFh",
        "outputId": "6bd4539e-3e6e-44b9-ec40-bab68a743a0e"
      },
      "source": [
        "import matplotlib.pyplot as plt\n",
        "from pylab import rcParams\n",
        "\n",
        "rcParams['figure.figsize'] =[6.4, 4.4]\n",
        "\n",
        "# summarize history for loss\n",
        "plt.plot(history.history['loss'])\n",
        "plt.plot(history.history['val_loss'])\n",
        "#plt.title('model loss')\n",
        "plt.ylabel('loss')\n",
        "plt.xlabel('epoch')\n",
        "plt.legend(['train', 'test'], loc='upper right')\n",
        "plt.savefig(\"IOB_loss_Sub_metering_1.pdf\", bbox_inches='tight')\n",
        "\n",
        "plt.show()\n",
        "\n"
      ],
      "execution_count": null,
      "outputs": [
        {
          "output_type": "display_data",
          "data": {
            "image/png": "[encoded data removed]",
            "text/plain": [
              "<Figure size 460.8x316.8 with 1 Axes>"
            ]
          },
          "metadata": {
            "needs_background": "light"
          }
        }
      ]
    },
    {
      "cell_type": "code",
      "metadata": {
        "colab": {
          "base_uri": "https://localhost:8080/"
        },
        "id": "RBrL4LxvljRg",
        "outputId": "1999d48b-d0f6-45b8-d5fe-f1051445ba0f"
      },
      "source": [
        "import numpy as np\n",
        "from sklearn.metrics import mean_squared_error,r2_score\n",
        "from sklearn.metrics import mean_absolute_error\n",
        "\n",
        "# make a prediction\n",
        "yhat = model.predict(test_X)\n",
        "test_X = test_X.reshape((test_X.shape[0], 7))\n",
        "# invert scaling for forecast\n",
        "inv_yhat = np.concatenate((test_X[:, -7:],yhat), axis=1)\n",
        "inv_yhat = scaler.inverse_transform(inv_yhat)\n",
        "inv_yhat = inv_yhat[:,-1]\n",
        "# invert scaling for actual\n",
        "test_y = test_y.reshape((len(test_y), 1))\n",
        "inv_y = np.concatenate((test_X[:, -7:],test_y), axis=1)\n",
        "inv_y = scaler.inverse_transform(inv_y)\n",
        "inv_y = inv_y[:,-1]\n",
        "# calculate RMSE\n",
        "rmse = np.sqrt(mean_squared_error(inv_y, inv_yhat))\n",
        "mae = mean_absolute_error(inv_y, inv_yhat)\n",
        "print('Test RMSE: %.3f' % rmse)\n",
        "print('Test MAE: %.3f' % mae)"
      ],
      "execution_count": null,
      "outputs": [
        {
          "output_type": "stream",
          "name": "stdout",
          "text": [
            "Test RMSE: 174.003\n",
            "Test MAE: 78.078\n"
          ]
        }
      ]
    },
    {
      "cell_type": "code",
      "metadata": {
        "colab": {
          "base_uri": "https://localhost:8080/",
          "height": 393
        },
        "id": "JsdCyhZN_M2A",
        "outputId": "e6de3ef6-c5c2-4f84-a18e-f12773be80ac"
      },
      "source": [
        "import matplotlib.pyplot as plt\n",
        "from matplotlib import rcParams\n",
        "import matplotlib.patches as mpatches\n",
        "\n",
        "fig = plt.figure()\n",
        "ax = fig.add_axes([0,0,1,1])\n",
        "x = ['Distributed Model \\nRMSE', 'Centralized Model \\nRMSE', 'Distributed Model \\nMAE','Centralized Model \\nMAE']\n",
        "y = [174.193,174.003 ,78.690, 78.078]\n",
        "\n",
        "#plt.plot(x, y, '-o', color='orange')\n",
        "ax.bar(x,y, color=['indigo','darkviolet','salmon','orange'],  width=0.4, edgecolor=\"black\", zorder=3)\n",
        "plt.xlabel('Sub metering 1', fontweight=\"bold\",size=12)\n",
        "#plt.ylabel('', fontweight=\"bold\")\n",
        "rcParams.update({'figure.autolayout': True})\n",
        "plt.xticks(rotation=0)\n",
        "plt.grid(zorder=0)\n",
        "L = [mpatches.Patch(color=c, label=col)  for col,c in zip(['Distributed Model RMSE', 'Centralized Model RMSE', 'Distributed Model MAE','Centralized Model MAE'], ['indigo','darkviolet','salmon','orange'])]\n",
        "for index,data in enumerate(y):\n",
        "    plt.text(x=index , y =data+0.5, s=f\"{data}\" , fontdict=dict(fontsize=10), color=\"black\")\n",
        "\n",
        "plt.legend(handles=L, loc=1)\n",
        "plt.savefig('Sub_metering_1 error.pdf', format='pdf', bbox_inches = \"tight\")"
      ],
      "execution_count": null,
      "outputs": [
        {
          "output_type": "display_data",
          "data": {
            "image/png": "[encoded data removed]",
            "text/plain": [
              "<Figure size 460.8x316.8 with 1 Axes>"
            ]
          },
          "metadata": {
            "needs_background": "light"
          }
        }
      ]
    },
    {
      "cell_type": "code",
      "metadata": {
        "colab": {
          "base_uri": "https://localhost:8080/",
          "height": 326
        },
        "id": "BcMaXUFEmx8z",
        "outputId": "66ce6560-1826-4479-d136-2a643bfc2640"
      },
      "source": [
        "\n",
        "aa=[x for x in range(20)]\n",
        "plt.plot(reframed1[n_train_time:n_train_time+20].index, inv_y[:20], marker='.', label=\"actual\")\n",
        "plt.plot(reframed1[n_train_time:n_train_time+20].index, inv_yhat[:20], 'r', label=\"prediction\")\n",
        "plt.ylabel('Global_active_power', size=15)\n",
        "plt.xlabel('Time step', size=15)\n",
        "plt.legend(fontsize=15)\n",
        "plt.show()"
      ],
      "execution_count": null,
      "outputs": [
        {
          "output_type": "display_data",
          "data": {
            "image/png": "[encoded data removed]",
            "text/plain": [
              "<Figure size 460.8x316.8 with 1 Axes>"
            ]
          },
          "metadata": {
            "needs_background": "light"
          }
        }
      ]
    },
    {
      "cell_type": "code",
      "metadata": {
        "id": "tjtD8cboV7-P",
        "colab": {
          "base_uri": "https://localhost:8080/",
          "height": 422
        },
        "outputId": "d3c6adec-45ad-499f-8b87-1299f89a4c7b"
      },
      "source": [
        "for_pred = reframed1[n_train_time:n_train_time+500][\"var9(t)\"].copy().reset_index()\n",
        "for_pred['Dates'] = pd.to_datetime(for_pred.dt).dt.date\n",
        "for_pred['Time'] = pd.to_datetime(for_pred.dt).dt.time\n",
        "\n",
        "for_pred['yhat']= inv_yhat[:500]\n",
        "for_pred"
      ],
      "execution_count": null,
      "outputs": [
        {
          "output_type": "execute_result",
          "data": {
            "text/html": [
              "<div>\n",
              "<style scoped>\n",
              "    .dataframe tbody tr th:only-of-type {\n",
              "        vertical-align: middle;\n",
              "    }\n",
              "\n",
              "    .dataframe tbody tr th {\n",
              "        vertical-align: top;\n",
              "    }\n",
              "\n",
              "    .dataframe thead th {\n",
              "        text-align: right;\n",
              "    }\n",
              "</style>\n",
              "<table border=\"1\" class=\"dataframe\">\n",
              "  <thead>\n",
              "    <tr style=\"text-align: right;\">\n",
              "      <th></th>\n",
              "      <th>dt</th>\n",
              "      <th>var9(t)</th>\n",
              "      <th>Dates</th>\n",
              "      <th>Time</th>\n",
              "      <th>yhat</th>\n",
              "    </tr>\n",
              "  </thead>\n",
              "  <tbody>\n",
              "    <tr>\n",
              "      <th>0</th>\n",
              "      <td>2009-12-15 18:00:00</td>\n",
              "      <td>Tuesday</td>\n",
              "      <td>2009-12-15</td>\n",
              "      <td>18:00:00</td>\n",
              "      <td>45.626350</td>\n",
              "    </tr>\n",
              "    <tr>\n",
              "      <th>1</th>\n",
              "      <td>2009-12-15 19:00:00</td>\n",
              "      <td>Tuesday</td>\n",
              "      <td>2009-12-15</td>\n",
              "      <td>19:00:00</td>\n",
              "      <td>54.445270</td>\n",
              "    </tr>\n",
              "    <tr>\n",
              "      <th>2</th>\n",
              "      <td>2009-12-15 20:00:00</td>\n",
              "      <td>Tuesday</td>\n",
              "      <td>2009-12-15</td>\n",
              "      <td>20:00:00</td>\n",
              "      <td>117.891638</td>\n",
              "    </tr>\n",
              "    <tr>\n",
              "      <th>3</th>\n",
              "      <td>2009-12-15 21:00:00</td>\n",
              "      <td>Tuesday</td>\n",
              "      <td>2009-12-15</td>\n",
              "      <td>21:00:00</td>\n",
              "      <td>81.271797</td>\n",
              "    </tr>\n",
              "    <tr>\n",
              "      <th>4</th>\n",
              "      <td>2009-12-15 22:00:00</td>\n",
              "      <td>Tuesday</td>\n",
              "      <td>2009-12-15</td>\n",
              "      <td>22:00:00</td>\n",
              "      <td>275.409954</td>\n",
              "    </tr>\n",
              "    <tr>\n",
              "      <th>...</th>\n",
              "      <td>...</td>\n",
              "      <td>...</td>\n",
              "      <td>...</td>\n",
              "      <td>...</td>\n",
              "      <td>...</td>\n",
              "    </tr>\n",
              "    <tr>\n",
              "      <th>495</th>\n",
              "      <td>2010-01-05 09:00:00</td>\n",
              "      <td>Tuesday</td>\n",
              "      <td>2010-01-05</td>\n",
              "      <td>09:00:00</td>\n",
              "      <td>256.391694</td>\n",
              "    </tr>\n",
              "    <tr>\n",
              "      <th>496</th>\n",
              "      <td>2010-01-05 10:00:00</td>\n",
              "      <td>Tuesday</td>\n",
              "      <td>2010-01-05</td>\n",
              "      <td>10:00:00</td>\n",
              "      <td>270.767843</td>\n",
              "    </tr>\n",
              "    <tr>\n",
              "      <th>497</th>\n",
              "      <td>2010-01-05 11:00:00</td>\n",
              "      <td>Tuesday</td>\n",
              "      <td>2010-01-05</td>\n",
              "      <td>11:00:00</td>\n",
              "      <td>11.195867</td>\n",
              "    </tr>\n",
              "    <tr>\n",
              "      <th>498</th>\n",
              "      <td>2010-01-05 12:00:00</td>\n",
              "      <td>Tuesday</td>\n",
              "      <td>2010-01-05</td>\n",
              "      <td>12:00:00</td>\n",
              "      <td>21.704979</td>\n",
              "    </tr>\n",
              "    <tr>\n",
              "      <th>499</th>\n",
              "      <td>2010-01-05 13:00:00</td>\n",
              "      <td>Tuesday</td>\n",
              "      <td>2010-01-05</td>\n",
              "      <td>13:00:00</td>\n",
              "      <td>20.624673</td>\n",
              "    </tr>\n",
              "  </tbody>\n",
              "</table>\n",
              "<p>500 rows × 5 columns</p>\n",
              "</div>"
            ],
            "text/plain": [
              "                     dt  var9(t)       Dates      Time        yhat\n",
              "0   2009-12-15 18:00:00  Tuesday  2009-12-15  18:00:00   45.626350\n",
              "1   2009-12-15 19:00:00  Tuesday  2009-12-15  19:00:00   54.445270\n",
              "2   2009-12-15 20:00:00  Tuesday  2009-12-15  20:00:00  117.891638\n",
              "3   2009-12-15 21:00:00  Tuesday  2009-12-15  21:00:00   81.271797\n",
              "4   2009-12-15 22:00:00  Tuesday  2009-12-15  22:00:00  275.409954\n",
              "..                  ...      ...         ...       ...         ...\n",
              "495 2010-01-05 09:00:00  Tuesday  2010-01-05  09:00:00  256.391694\n",
              "496 2010-01-05 10:00:00  Tuesday  2010-01-05  10:00:00  270.767843\n",
              "497 2010-01-05 11:00:00  Tuesday  2010-01-05  11:00:00   11.195867\n",
              "498 2010-01-05 12:00:00  Tuesday  2010-01-05  12:00:00   21.704979\n",
              "499 2010-01-05 13:00:00  Tuesday  2010-01-05  13:00:00   20.624673\n",
              "\n",
              "[500 rows x 5 columns]"
            ]
          },
          "metadata": {},
          "execution_count": 28
        }
      ]
    },
    {
      "cell_type": "code",
      "metadata": {
        "id": "G7eGSe6EeD6r",
        "colab": {
          "base_uri": "https://localhost:8080/",
          "height": 819
        },
        "outputId": "ae63f754-d0b0-4381-ca28-2fa6dc4507c3"
      },
      "source": [
        "df_resample['Dates'] = pd.to_datetime(df_resample.index).date\n",
        "df_resample['Time'] = pd.to_datetime(df_resample.index).time\n",
        "df_resample"
      ],
      "execution_count": null,
      "outputs": [
        {
          "output_type": "execute_result",
          "data": {
            "text/html": [
              "<div>\n",
              "<style scoped>\n",
              "    .dataframe tbody tr th:only-of-type {\n",
              "        vertical-align: middle;\n",
              "    }\n",
              "\n",
              "    .dataframe tbody tr th {\n",
              "        vertical-align: top;\n",
              "    }\n",
              "\n",
              "    .dataframe thead th {\n",
              "        text-align: right;\n",
              "    }\n",
              "</style>\n",
              "<table border=\"1\" class=\"dataframe\">\n",
              "  <thead>\n",
              "    <tr style=\"text-align: right;\">\n",
              "      <th></th>\n",
              "      <th>Global_active_power</th>\n",
              "      <th>Global_reactive_power</th>\n",
              "      <th>Voltage</th>\n",
              "      <th>Global_intensity</th>\n",
              "      <th>Sub_metering_1</th>\n",
              "      <th>Sub_metering_2</th>\n",
              "      <th>Sub_metering_3</th>\n",
              "      <th>sub_metering_4</th>\n",
              "      <th>day_name</th>\n",
              "      <th>Dates</th>\n",
              "      <th>Time</th>\n",
              "    </tr>\n",
              "    <tr>\n",
              "      <th>dt</th>\n",
              "      <th></th>\n",
              "      <th></th>\n",
              "      <th></th>\n",
              "      <th></th>\n",
              "      <th></th>\n",
              "      <th></th>\n",
              "      <th></th>\n",
              "      <th></th>\n",
              "      <th></th>\n",
              "      <th></th>\n",
              "      <th></th>\n",
              "    </tr>\n",
              "  </thead>\n",
              "  <tbody>\n",
              "    <tr>\n",
              "      <th>2006-12-16 17:00:00</th>\n",
              "      <td>152.024</td>\n",
              "      <td>8.244</td>\n",
              "      <td>8447.18</td>\n",
              "      <td>651.6</td>\n",
              "      <td>0.0</td>\n",
              "      <td>19.0</td>\n",
              "      <td>607.0</td>\n",
              "      <td>1907.733398</td>\n",
              "      <td>Saturday</td>\n",
              "      <td>2006-12-16</td>\n",
              "      <td>17:00:00</td>\n",
              "    </tr>\n",
              "    <tr>\n",
              "      <th>2006-12-16 18:00:00</th>\n",
              "      <td>217.932</td>\n",
              "      <td>4.802</td>\n",
              "      <td>14074.81</td>\n",
              "      <td>936.0</td>\n",
              "      <td>0.0</td>\n",
              "      <td>403.0</td>\n",
              "      <td>1012.0</td>\n",
              "      <td>2217.199951</td>\n",
              "      <td>Saturday</td>\n",
              "      <td>2006-12-16</td>\n",
              "      <td>18:00:00</td>\n",
              "    </tr>\n",
              "    <tr>\n",
              "      <th>2006-12-16 19:00:00</th>\n",
              "      <td>204.014</td>\n",
              "      <td>5.114</td>\n",
              "      <td>13993.95</td>\n",
              "      <td>870.2</td>\n",
              "      <td>0.0</td>\n",
              "      <td>86.0</td>\n",
              "      <td>1001.0</td>\n",
              "      <td>2313.233398</td>\n",
              "      <td>Saturday</td>\n",
              "      <td>2006-12-16</td>\n",
              "      <td>19:00:00</td>\n",
              "    </tr>\n",
              "    <tr>\n",
              "      <th>2006-12-16 20:00:00</th>\n",
              "      <td>196.114</td>\n",
              "      <td>4.506</td>\n",
              "      <td>14044.29</td>\n",
              "      <td>835.0</td>\n",
              "      <td>0.0</td>\n",
              "      <td>0.0</td>\n",
              "      <td>1007.0</td>\n",
              "      <td>2261.566650</td>\n",
              "      <td>Saturday</td>\n",
              "      <td>2006-12-16</td>\n",
              "      <td>20:00:00</td>\n",
              "    </tr>\n",
              "    <tr>\n",
              "      <th>2006-12-16 21:00:00</th>\n",
              "      <td>183.388</td>\n",
              "      <td>4.600</td>\n",
              "      <td>14229.52</td>\n",
              "      <td>782.8</td>\n",
              "      <td>0.0</td>\n",
              "      <td>25.0</td>\n",
              "      <td>1033.0</td>\n",
              "      <td>1998.466675</td>\n",
              "      <td>Saturday</td>\n",
              "      <td>2006-12-16</td>\n",
              "      <td>21:00:00</td>\n",
              "    </tr>\n",
              "    <tr>\n",
              "      <th>...</th>\n",
              "      <td>...</td>\n",
              "      <td>...</td>\n",
              "      <td>...</td>\n",
              "      <td>...</td>\n",
              "      <td>...</td>\n",
              "      <td>...</td>\n",
              "      <td>...</td>\n",
              "      <td>...</td>\n",
              "      <td>...</td>\n",
              "      <td>...</td>\n",
              "      <td>...</td>\n",
              "    </tr>\n",
              "    <tr>\n",
              "      <th>2010-11-26 17:00:00</th>\n",
              "      <td>103.554</td>\n",
              "      <td>3.684</td>\n",
              "      <td>14224.18</td>\n",
              "      <td>433.0</td>\n",
              "      <td>0.0</td>\n",
              "      <td>0.0</td>\n",
              "      <td>772.0</td>\n",
              "      <td>953.899963</td>\n",
              "      <td>Friday</td>\n",
              "      <td>2010-11-26</td>\n",
              "      <td>17:00:00</td>\n",
              "    </tr>\n",
              "    <tr>\n",
              "      <th>2010-11-26 18:00:00</th>\n",
              "      <td>94.408</td>\n",
              "      <td>3.222</td>\n",
              "      <td>14251.91</td>\n",
              "      <td>397.2</td>\n",
              "      <td>0.0</td>\n",
              "      <td>0.0</td>\n",
              "      <td>0.0</td>\n",
              "      <td>1573.466675</td>\n",
              "      <td>Friday</td>\n",
              "      <td>2010-11-26</td>\n",
              "      <td>18:00:00</td>\n",
              "    </tr>\n",
              "    <tr>\n",
              "      <th>2010-11-26 19:00:00</th>\n",
              "      <td>99.560</td>\n",
              "      <td>3.602</td>\n",
              "      <td>14204.46</td>\n",
              "      <td>423.4</td>\n",
              "      <td>0.0</td>\n",
              "      <td>4.0</td>\n",
              "      <td>0.0</td>\n",
              "      <td>1655.333374</td>\n",
              "      <td>Friday</td>\n",
              "      <td>2010-11-26</td>\n",
              "      <td>19:00:00</td>\n",
              "    </tr>\n",
              "    <tr>\n",
              "      <th>2010-11-26 20:00:00</th>\n",
              "      <td>69.822</td>\n",
              "      <td>3.670</td>\n",
              "      <td>14363.76</td>\n",
              "      <td>294.8</td>\n",
              "      <td>0.0</td>\n",
              "      <td>64.0</td>\n",
              "      <td>0.0</td>\n",
              "      <td>1099.699951</td>\n",
              "      <td>Friday</td>\n",
              "      <td>2010-11-26</td>\n",
              "      <td>20:00:00</td>\n",
              "    </tr>\n",
              "    <tr>\n",
              "      <th>2010-11-26 21:00:00</th>\n",
              "      <td>2.804</td>\n",
              "      <td>0.000</td>\n",
              "      <td>719.07</td>\n",
              "      <td>11.4</td>\n",
              "      <td>0.0</td>\n",
              "      <td>0.0</td>\n",
              "      <td>0.0</td>\n",
              "      <td>46.733334</td>\n",
              "      <td>Friday</td>\n",
              "      <td>2010-11-26</td>\n",
              "      <td>21:00:00</td>\n",
              "    </tr>\n",
              "  </tbody>\n",
              "</table>\n",
              "<p>34589 rows × 11 columns</p>\n",
              "</div>"
            ],
            "text/plain": [
              "                     Global_active_power  ...      Time\n",
              "dt                                        ...          \n",
              "2006-12-16 17:00:00              152.024  ...  17:00:00\n",
              "2006-12-16 18:00:00              217.932  ...  18:00:00\n",
              "2006-12-16 19:00:00              204.014  ...  19:00:00\n",
              "2006-12-16 20:00:00              196.114  ...  20:00:00\n",
              "2006-12-16 21:00:00              183.388  ...  21:00:00\n",
              "...                                  ...  ...       ...\n",
              "2010-11-26 17:00:00              103.554  ...  17:00:00\n",
              "2010-11-26 18:00:00               94.408  ...  18:00:00\n",
              "2010-11-26 19:00:00               99.560  ...  19:00:00\n",
              "2010-11-26 20:00:00               69.822  ...  20:00:00\n",
              "2010-11-26 21:00:00                2.804  ...  21:00:00\n",
              "\n",
              "[34589 rows x 11 columns]"
            ]
          },
          "metadata": {},
          "execution_count": 29
        }
      ]
    },
    {
      "cell_type": "code",
      "metadata": {
        "colab": {
          "base_uri": "https://localhost:8080/",
          "height": 422
        },
        "id": "yoxT6yMHXsFv",
        "outputId": "1eaa1fdf-23ae-4294-f3a2-1d4b1565f832"
      },
      "source": [
        "def fun(x):\n",
        "  return df_resample[(df_resample.index.hour == x[0].hour) & (df_resample.index.month == x[0].month) & (df_resample['day_name']==x[1])].Sub_metering_1.mean() #+ 33.006\n",
        "\n",
        "for_pred['hour_avg']=for_pred[['dt','var9(t)']].apply(fun,  axis=1)\n",
        "for_pred"
      ],
      "execution_count": null,
      "outputs": [
        {
          "output_type": "execute_result",
          "data": {
            "text/html": [
              "<div>\n",
              "<style scoped>\n",
              "    .dataframe tbody tr th:only-of-type {\n",
              "        vertical-align: middle;\n",
              "    }\n",
              "\n",
              "    .dataframe tbody tr th {\n",
              "        vertical-align: top;\n",
              "    }\n",
              "\n",
              "    .dataframe thead th {\n",
              "        text-align: right;\n",
              "    }\n",
              "</style>\n",
              "<table border=\"1\" class=\"dataframe\">\n",
              "  <thead>\n",
              "    <tr style=\"text-align: right;\">\n",
              "      <th></th>\n",
              "      <th>dt</th>\n",
              "      <th>var9(t)</th>\n",
              "      <th>Dates</th>\n",
              "      <th>Time</th>\n",
              "      <th>yhat</th>\n",
              "      <th>hour_avg</th>\n",
              "    </tr>\n",
              "  </thead>\n",
              "  <tbody>\n",
              "    <tr>\n",
              "      <th>0</th>\n",
              "      <td>2009-12-15 18:00:00</td>\n",
              "      <td>Tuesday</td>\n",
              "      <td>2009-12-15</td>\n",
              "      <td>18:00:00</td>\n",
              "      <td>45.626350</td>\n",
              "      <td>0.000000</td>\n",
              "    </tr>\n",
              "    <tr>\n",
              "      <th>1</th>\n",
              "      <td>2009-12-15 19:00:00</td>\n",
              "      <td>Tuesday</td>\n",
              "      <td>2009-12-15</td>\n",
              "      <td>19:00:00</td>\n",
              "      <td>54.445270</td>\n",
              "      <td>53.625000</td>\n",
              "    </tr>\n",
              "    <tr>\n",
              "      <th>2</th>\n",
              "      <td>2009-12-15 20:00:00</td>\n",
              "      <td>Tuesday</td>\n",
              "      <td>2009-12-15</td>\n",
              "      <td>20:00:00</td>\n",
              "      <td>117.891638</td>\n",
              "      <td>126.687500</td>\n",
              "    </tr>\n",
              "    <tr>\n",
              "      <th>3</th>\n",
              "      <td>2009-12-15 21:00:00</td>\n",
              "      <td>Tuesday</td>\n",
              "      <td>2009-12-15</td>\n",
              "      <td>21:00:00</td>\n",
              "      <td>81.271797</td>\n",
              "      <td>166.937500</td>\n",
              "    </tr>\n",
              "    <tr>\n",
              "      <th>4</th>\n",
              "      <td>2009-12-15 22:00:00</td>\n",
              "      <td>Tuesday</td>\n",
              "      <td>2009-12-15</td>\n",
              "      <td>22:00:00</td>\n",
              "      <td>275.409954</td>\n",
              "      <td>109.937500</td>\n",
              "    </tr>\n",
              "    <tr>\n",
              "      <th>...</th>\n",
              "      <td>...</td>\n",
              "      <td>...</td>\n",
              "      <td>...</td>\n",
              "      <td>...</td>\n",
              "      <td>...</td>\n",
              "      <td>...</td>\n",
              "    </tr>\n",
              "    <tr>\n",
              "      <th>495</th>\n",
              "      <td>2010-01-05 09:00:00</td>\n",
              "      <td>Tuesday</td>\n",
              "      <td>2010-01-05</td>\n",
              "      <td>09:00:00</td>\n",
              "      <td>256.391694</td>\n",
              "      <td>155.888889</td>\n",
              "    </tr>\n",
              "    <tr>\n",
              "      <th>496</th>\n",
              "      <td>2010-01-05 10:00:00</td>\n",
              "      <td>Tuesday</td>\n",
              "      <td>2010-01-05</td>\n",
              "      <td>10:00:00</td>\n",
              "      <td>270.767843</td>\n",
              "      <td>0.000000</td>\n",
              "    </tr>\n",
              "    <tr>\n",
              "      <th>497</th>\n",
              "      <td>2010-01-05 11:00:00</td>\n",
              "      <td>Tuesday</td>\n",
              "      <td>2010-01-05</td>\n",
              "      <td>11:00:00</td>\n",
              "      <td>11.195867</td>\n",
              "      <td>33.500000</td>\n",
              "    </tr>\n",
              "    <tr>\n",
              "      <th>498</th>\n",
              "      <td>2010-01-05 12:00:00</td>\n",
              "      <td>Tuesday</td>\n",
              "      <td>2010-01-05</td>\n",
              "      <td>12:00:00</td>\n",
              "      <td>21.704979</td>\n",
              "      <td>244.666667</td>\n",
              "    </tr>\n",
              "    <tr>\n",
              "      <th>499</th>\n",
              "      <td>2010-01-05 13:00:00</td>\n",
              "      <td>Tuesday</td>\n",
              "      <td>2010-01-05</td>\n",
              "      <td>13:00:00</td>\n",
              "      <td>20.624673</td>\n",
              "      <td>86.222222</td>\n",
              "    </tr>\n",
              "  </tbody>\n",
              "</table>\n",
              "<p>500 rows × 6 columns</p>\n",
              "</div>"
            ],
            "text/plain": [
              "                     dt  var9(t)       Dates      Time        yhat    hour_avg\n",
              "0   2009-12-15 18:00:00  Tuesday  2009-12-15  18:00:00   45.626350    0.000000\n",
              "1   2009-12-15 19:00:00  Tuesday  2009-12-15  19:00:00   54.445270   53.625000\n",
              "2   2009-12-15 20:00:00  Tuesday  2009-12-15  20:00:00  117.891638  126.687500\n",
              "3   2009-12-15 21:00:00  Tuesday  2009-12-15  21:00:00   81.271797  166.937500\n",
              "4   2009-12-15 22:00:00  Tuesday  2009-12-15  22:00:00  275.409954  109.937500\n",
              "..                  ...      ...         ...       ...         ...         ...\n",
              "495 2010-01-05 09:00:00  Tuesday  2010-01-05  09:00:00  256.391694  155.888889\n",
              "496 2010-01-05 10:00:00  Tuesday  2010-01-05  10:00:00  270.767843    0.000000\n",
              "497 2010-01-05 11:00:00  Tuesday  2010-01-05  11:00:00   11.195867   33.500000\n",
              "498 2010-01-05 12:00:00  Tuesday  2010-01-05  12:00:00   21.704979  244.666667\n",
              "499 2010-01-05 13:00:00  Tuesday  2010-01-05  13:00:00   20.624673   86.222222\n",
              "\n",
              "[500 rows x 6 columns]"
            ]
          },
          "metadata": {},
          "execution_count": 30
        }
      ]
    },
    {
      "cell_type": "code",
      "metadata": {
        "colab": {
          "base_uri": "https://localhost:8080/"
        },
        "id": "h5p1qw7pavBO",
        "outputId": "6f4700c7-cfa3-408f-a34c-fb65cc2ac7c7"
      },
      "source": [
        "for_pred[for_pred['yhat']>for_pred['hour_avg']].count()"
      ],
      "execution_count": null,
      "outputs": [
        {
          "output_type": "execute_result",
          "data": {
            "text/plain": [
              "dt          169\n",
              "var9(t)     169\n",
              "Dates       169\n",
              "Time        169\n",
              "yhat        169\n",
              "hour_avg    169\n",
              "dtype: int64"
            ]
          },
          "metadata": {},
          "execution_count": 31
        }
      ]
    },
    {
      "cell_type": "code",
      "metadata": {
        "colab": {
          "base_uri": "https://localhost:8080/",
          "height": 205
        },
        "id": "l0Ql2SnnUNgk",
        "outputId": "838b4227-b59a-4ac2-9f87-8fa0badd3f4e"
      },
      "source": [
        "warning = for_pred[for_pred['yhat']>for_pred['hour_avg']].copy()\n",
        "warning['difference']= warning.yhat - warning.hour_avg\n",
        "warning.head()"
      ],
      "execution_count": null,
      "outputs": [
        {
          "output_type": "execute_result",
          "data": {
            "text/html": [
              "<div>\n",
              "<style scoped>\n",
              "    .dataframe tbody tr th:only-of-type {\n",
              "        vertical-align: middle;\n",
              "    }\n",
              "\n",
              "    .dataframe tbody tr th {\n",
              "        vertical-align: top;\n",
              "    }\n",
              "\n",
              "    .dataframe thead th {\n",
              "        text-align: right;\n",
              "    }\n",
              "</style>\n",
              "<table border=\"1\" class=\"dataframe\">\n",
              "  <thead>\n",
              "    <tr style=\"text-align: right;\">\n",
              "      <th></th>\n",
              "      <th>dt</th>\n",
              "      <th>var9(t)</th>\n",
              "      <th>Dates</th>\n",
              "      <th>Time</th>\n",
              "      <th>yhat</th>\n",
              "      <th>hour_avg</th>\n",
              "      <th>difference</th>\n",
              "    </tr>\n",
              "  </thead>\n",
              "  <tbody>\n",
              "    <tr>\n",
              "      <th>0</th>\n",
              "      <td>2009-12-15 18:00:00</td>\n",
              "      <td>Tuesday</td>\n",
              "      <td>2009-12-15</td>\n",
              "      <td>18:00:00</td>\n",
              "      <td>45.626350</td>\n",
              "      <td>0.0000</td>\n",
              "      <td>45.626350</td>\n",
              "    </tr>\n",
              "    <tr>\n",
              "      <th>1</th>\n",
              "      <td>2009-12-15 19:00:00</td>\n",
              "      <td>Tuesday</td>\n",
              "      <td>2009-12-15</td>\n",
              "      <td>19:00:00</td>\n",
              "      <td>54.445270</td>\n",
              "      <td>53.6250</td>\n",
              "      <td>0.820270</td>\n",
              "    </tr>\n",
              "    <tr>\n",
              "      <th>4</th>\n",
              "      <td>2009-12-15 22:00:00</td>\n",
              "      <td>Tuesday</td>\n",
              "      <td>2009-12-15</td>\n",
              "      <td>22:00:00</td>\n",
              "      <td>275.409954</td>\n",
              "      <td>109.9375</td>\n",
              "      <td>165.472454</td>\n",
              "    </tr>\n",
              "    <tr>\n",
              "      <th>5</th>\n",
              "      <td>2009-12-15 23:00:00</td>\n",
              "      <td>Tuesday</td>\n",
              "      <td>2009-12-15</td>\n",
              "      <td>23:00:00</td>\n",
              "      <td>238.465195</td>\n",
              "      <td>43.0625</td>\n",
              "      <td>195.402695</td>\n",
              "    </tr>\n",
              "    <tr>\n",
              "      <th>22</th>\n",
              "      <td>2009-12-16 16:00:00</td>\n",
              "      <td>Wednesday</td>\n",
              "      <td>2009-12-16</td>\n",
              "      <td>16:00:00</td>\n",
              "      <td>57.049346</td>\n",
              "      <td>2.0625</td>\n",
              "      <td>54.986846</td>\n",
              "    </tr>\n",
              "  </tbody>\n",
              "</table>\n",
              "</div>"
            ],
            "text/plain": [
              "                    dt    var9(t)       Dates  ...        yhat  hour_avg  difference\n",
              "0  2009-12-15 18:00:00    Tuesday  2009-12-15  ...   45.626350    0.0000   45.626350\n",
              "1  2009-12-15 19:00:00    Tuesday  2009-12-15  ...   54.445270   53.6250    0.820270\n",
              "4  2009-12-15 22:00:00    Tuesday  2009-12-15  ...  275.409954  109.9375  165.472454\n",
              "5  2009-12-15 23:00:00    Tuesday  2009-12-15  ...  238.465195   43.0625  195.402695\n",
              "22 2009-12-16 16:00:00  Wednesday  2009-12-16  ...   57.049346    2.0625   54.986846\n",
              "\n",
              "[5 rows x 7 columns]"
            ]
          },
          "metadata": {},
          "execution_count": 32
        }
      ]
    },
    {
      "cell_type": "code",
      "metadata": {
        "colab": {
          "base_uri": "https://localhost:8080/",
          "height": 369
        },
        "id": "_22IueREqn5c",
        "outputId": "4dba528c-4857-423c-aeac-57b41281b7ac"
      },
      "source": [
        "from pylab import rcParams\n",
        "rcParams['figure.figsize'] =8, 5\n",
        "\n",
        "aa=[x for x in range(500)]\n",
        "plt.plot(reframed1[n_train_time:n_train_time+500].index, inv_y[:500], marker='.',color='b', label=\"Actual\")\n",
        "plt.plot(reframed1[n_train_time:n_train_time+500].index, inv_yhat[:500], color='red', label=\"Prediction\")\n",
        "plt.plot(warning.dt, warning.yhat,'s',color='green')\n",
        "plt.plot(warning.dt, warning.hour_avg,'*',color='yellow', label=\"avg\")\n",
        "\n",
        "plt.xticks(rotation=45)\n",
        "\n",
        "plt.ylabel('Global Active Power', size=12)\n",
        "#plt.xlabel('Time step', size=15)\n",
        "plt.legend(fontsize=11)\n",
        "plt.savefig(\"actual_vs_prediction.pdf\", bbox_inches='tight')\n",
        "plt.show()"
      ],
      "execution_count": null,
      "outputs": [
        {
          "output_type": "display_data",
          "data": {
            "image/png": "[encoded data removed]",
            "text/plain": [
              "<Figure size 576x360 with 1 Axes>"
            ]
          },
          "metadata": {
            "needs_background": "light"
          }
        }
      ]
    },
    {
      "cell_type": "code",
      "metadata": {
        "colab": {
          "base_uri": "https://localhost:8080/",
          "height": 369
        },
        "id": "z-nFjOl6wGmB",
        "outputId": "a7b7ba78-37aa-44a3-f20b-29b2e5f6c5d1"
      },
      "source": [
        "from pylab import rcParams\n",
        "rcParams['figure.figsize'] =8, 5\n",
        "\n",
        "aa=[x for x in range(500)]\n",
        "#plt.plot(reframed1[n_train_time:n_train_time+200].index, inv_y[:500], marker='.',color='b', label=\"actual\")\n",
        "plt.plot(reframed1[n_train_time:n_train_time+500].index, inv_yhat[:500], color='darkgreen', label=\"Prediction\")\n",
        "plt.plot(warning.dt, warning.yhat,'s',color='red', label=\"Warning\")\n",
        "plt.plot(warning.dt, warning.hour_avg,'*',color='blue', label=\"avg\")\n",
        "\n",
        "plt.xticks(rotation=45)\n",
        "\n",
        "plt.show()"
      ],
      "execution_count": null,
      "outputs": [
        {
          "output_type": "display_data",
          "data": {
            "image/png": "[encoded data removed]",
            "text/plain": [
              "<Figure size 576x360 with 1 Axes>"
            ]
          },
          "metadata": {
            "needs_background": "light"
          }
        }
      ]
    },
    {
      "cell_type": "code",
      "metadata": {
        "colab": {
          "base_uri": "https://localhost:8080/"
        },
        "id": "4A1bu6hkUoYJ",
        "outputId": "ae54d101-702e-4cb5-ba60-344f7579adb3"
      },
      "source": [
        "warning.difference.sum()"
      ],
      "execution_count": null,
      "outputs": [
        {
          "output_type": "execute_result",
          "data": {
            "text/plain": [
              "15388.794363872083"
            ]
          },
          "metadata": {},
          "execution_count": 35
        }
      ]
    }
  ]
}