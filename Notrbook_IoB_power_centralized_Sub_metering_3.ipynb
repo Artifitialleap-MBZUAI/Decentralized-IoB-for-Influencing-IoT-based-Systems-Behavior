{
  "nbformat": 4,
  "nbformat_minor": 0,
  "metadata": {
    "colab": {
      "name": "Notrbook IoB power centralized Sub_metering_3",
      "provenance": [],
      "collapsed_sections": []
    },
    "kernelspec": {
      "name": "python3",
      "display_name": "Python 3"
    },
    "language_info": {
      "name": "python"
    }
  },
  "cells": [
    {
      "cell_type": "code",
      "metadata": {
        "id": "P_XTqUkvuDHQ"
      },
      "source": [
        "import pandas as pd"
      ],
      "execution_count": null,
      "outputs": []
    },
    {
      "cell_type": "code",
      "metadata": {
        "id": "khPEXXrdvh-Y"
      },
      "source": [
        "df = pd.read_csv('/content/drive/MyDrive/IoB power consumption/household_power_consumption.txt', sep=';', \n",
        "                 parse_dates={'dt' : ['Date', 'Time']}, infer_datetime_format=True, \n",
        "                 low_memory=False, na_values=['nan','?'], index_col='dt')"
      ],
      "execution_count": null,
      "outputs": []
    },
    {
      "cell_type": "code",
      "metadata": {
        "colab": {
          "base_uri": "https://localhost:8080/",
          "height": 236
        },
        "id": "viXl24v4vmNG",
        "outputId": "ba37d1c5-85ee-42ed-bae7-8be1a68aa9fe"
      },
      "source": [
        "df.head()"
      ],
      "execution_count": null,
      "outputs": [
        {
          "output_type": "execute_result",
          "data": {
            "text/html": [
              "<div>\n",
              "<style scoped>\n",
              "    .dataframe tbody tr th:only-of-type {\n",
              "        vertical-align: middle;\n",
              "    }\n",
              "\n",
              "    .dataframe tbody tr th {\n",
              "        vertical-align: top;\n",
              "    }\n",
              "\n",
              "    .dataframe thead th {\n",
              "        text-align: right;\n",
              "    }\n",
              "</style>\n",
              "<table border=\"1\" class=\"dataframe\">\n",
              "  <thead>\n",
              "    <tr style=\"text-align: right;\">\n",
              "      <th></th>\n",
              "      <th>Global_active_power</th>\n",
              "      <th>Global_reactive_power</th>\n",
              "      <th>Voltage</th>\n",
              "      <th>Global_intensity</th>\n",
              "      <th>Sub_metering_1</th>\n",
              "      <th>Sub_metering_2</th>\n",
              "      <th>Sub_metering_3</th>\n",
              "    </tr>\n",
              "    <tr>\n",
              "      <th>dt</th>\n",
              "      <th></th>\n",
              "      <th></th>\n",
              "      <th></th>\n",
              "      <th></th>\n",
              "      <th></th>\n",
              "      <th></th>\n",
              "      <th></th>\n",
              "    </tr>\n",
              "  </thead>\n",
              "  <tbody>\n",
              "    <tr>\n",
              "      <th>2006-12-16 17:24:00</th>\n",
              "      <td>4.216</td>\n",
              "      <td>0.418</td>\n",
              "      <td>234.84</td>\n",
              "      <td>18.4</td>\n",
              "      <td>0.0</td>\n",
              "      <td>1.0</td>\n",
              "      <td>17.0</td>\n",
              "    </tr>\n",
              "    <tr>\n",
              "      <th>2006-12-16 17:25:00</th>\n",
              "      <td>5.360</td>\n",
              "      <td>0.436</td>\n",
              "      <td>233.63</td>\n",
              "      <td>23.0</td>\n",
              "      <td>0.0</td>\n",
              "      <td>1.0</td>\n",
              "      <td>16.0</td>\n",
              "    </tr>\n",
              "    <tr>\n",
              "      <th>2006-12-16 17:26:00</th>\n",
              "      <td>5.374</td>\n",
              "      <td>0.498</td>\n",
              "      <td>233.29</td>\n",
              "      <td>23.0</td>\n",
              "      <td>0.0</td>\n",
              "      <td>2.0</td>\n",
              "      <td>17.0</td>\n",
              "    </tr>\n",
              "    <tr>\n",
              "      <th>2006-12-16 17:27:00</th>\n",
              "      <td>5.388</td>\n",
              "      <td>0.502</td>\n",
              "      <td>233.74</td>\n",
              "      <td>23.0</td>\n",
              "      <td>0.0</td>\n",
              "      <td>1.0</td>\n",
              "      <td>17.0</td>\n",
              "    </tr>\n",
              "    <tr>\n",
              "      <th>2006-12-16 17:28:00</th>\n",
              "      <td>3.666</td>\n",
              "      <td>0.528</td>\n",
              "      <td>235.68</td>\n",
              "      <td>15.8</td>\n",
              "      <td>0.0</td>\n",
              "      <td>1.0</td>\n",
              "      <td>17.0</td>\n",
              "    </tr>\n",
              "  </tbody>\n",
              "</table>\n",
              "</div>"
            ],
            "text/plain": [
              "                     Global_active_power  ...  Sub_metering_3\n",
              "dt                                        ...                \n",
              "2006-12-16 17:24:00                4.216  ...            17.0\n",
              "2006-12-16 17:25:00                5.360  ...            16.0\n",
              "2006-12-16 17:26:00                5.374  ...            17.0\n",
              "2006-12-16 17:27:00                5.388  ...            17.0\n",
              "2006-12-16 17:28:00                3.666  ...            17.0\n",
              "\n",
              "[5 rows x 7 columns]"
            ]
          },
          "metadata": {},
          "execution_count": 3
        }
      ]
    },
    {
      "cell_type": "code",
      "metadata": {
        "colab": {
          "base_uri": "https://localhost:8080/"
        },
        "id": "-ZWLTPSHunm3",
        "outputId": "e856decf-c31f-4a9d-f35a-8d9538aa388a"
      },
      "source": [
        "df.count()"
      ],
      "execution_count": null,
      "outputs": [
        {
          "output_type": "execute_result",
          "data": {
            "text/plain": [
              "Global_active_power      2049280\n",
              "Global_reactive_power    2049280\n",
              "Voltage                  2049280\n",
              "Global_intensity         2049280\n",
              "Sub_metering_1           2049280\n",
              "Sub_metering_2           2049280\n",
              "Sub_metering_3           2049280\n",
              "dtype: int64"
            ]
          },
          "metadata": {},
          "execution_count": 4
        }
      ]
    },
    {
      "cell_type": "code",
      "metadata": {
        "id": "0JFkQXVrvv-1"
      },
      "source": [
        "values = df.values.astype('float32')\n",
        "df['sub_metering_4'] = (values[:,0] * 1000 / 60) - (values[:,4] + values[:,5] + values[:,6])\n",
        "df['ds']=df.index\n",
        "df[\"day_name\"]= df['ds'].dt.day_name()\n",
        "#del df.ds"
      ],
      "execution_count": null,
      "outputs": []
    },
    {
      "cell_type": "code",
      "metadata": {
        "id": "Y-iHwC5kHIpH"
      },
      "source": [
        "df.drop(['ds'], axis=1, inplace=True)"
      ],
      "execution_count": null,
      "outputs": []
    },
    {
      "cell_type": "code",
      "metadata": {
        "colab": {
          "base_uri": "https://localhost:8080/",
          "height": 323
        },
        "id": "59ZX0iQtvyMX",
        "outputId": "70e174be-c252-4389-aced-2dde46d4a937"
      },
      "source": [
        "df.head() "
      ],
      "execution_count": null,
      "outputs": [
        {
          "output_type": "execute_result",
          "data": {
            "text/html": [
              "<div>\n",
              "<style scoped>\n",
              "    .dataframe tbody tr th:only-of-type {\n",
              "        vertical-align: middle;\n",
              "    }\n",
              "\n",
              "    .dataframe tbody tr th {\n",
              "        vertical-align: top;\n",
              "    }\n",
              "\n",
              "    .dataframe thead th {\n",
              "        text-align: right;\n",
              "    }\n",
              "</style>\n",
              "<table border=\"1\" class=\"dataframe\">\n",
              "  <thead>\n",
              "    <tr style=\"text-align: right;\">\n",
              "      <th></th>\n",
              "      <th>Global_active_power</th>\n",
              "      <th>Global_reactive_power</th>\n",
              "      <th>Voltage</th>\n",
              "      <th>Global_intensity</th>\n",
              "      <th>Sub_metering_1</th>\n",
              "      <th>Sub_metering_2</th>\n",
              "      <th>Sub_metering_3</th>\n",
              "      <th>sub_metering_4</th>\n",
              "      <th>day_name</th>\n",
              "    </tr>\n",
              "    <tr>\n",
              "      <th>dt</th>\n",
              "      <th></th>\n",
              "      <th></th>\n",
              "      <th></th>\n",
              "      <th></th>\n",
              "      <th></th>\n",
              "      <th></th>\n",
              "      <th></th>\n",
              "      <th></th>\n",
              "      <th></th>\n",
              "    </tr>\n",
              "  </thead>\n",
              "  <tbody>\n",
              "    <tr>\n",
              "      <th>2006-12-16 17:24:00</th>\n",
              "      <td>4.216</td>\n",
              "      <td>0.418</td>\n",
              "      <td>234.84</td>\n",
              "      <td>18.4</td>\n",
              "      <td>0.0</td>\n",
              "      <td>1.0</td>\n",
              "      <td>17.0</td>\n",
              "      <td>52.266670</td>\n",
              "      <td>Saturday</td>\n",
              "    </tr>\n",
              "    <tr>\n",
              "      <th>2006-12-16 17:25:00</th>\n",
              "      <td>5.360</td>\n",
              "      <td>0.436</td>\n",
              "      <td>233.63</td>\n",
              "      <td>23.0</td>\n",
              "      <td>0.0</td>\n",
              "      <td>1.0</td>\n",
              "      <td>16.0</td>\n",
              "      <td>72.333336</td>\n",
              "      <td>Saturday</td>\n",
              "    </tr>\n",
              "    <tr>\n",
              "      <th>2006-12-16 17:26:00</th>\n",
              "      <td>5.374</td>\n",
              "      <td>0.498</td>\n",
              "      <td>233.29</td>\n",
              "      <td>23.0</td>\n",
              "      <td>0.0</td>\n",
              "      <td>2.0</td>\n",
              "      <td>17.0</td>\n",
              "      <td>70.566666</td>\n",
              "      <td>Saturday</td>\n",
              "    </tr>\n",
              "    <tr>\n",
              "      <th>2006-12-16 17:27:00</th>\n",
              "      <td>5.388</td>\n",
              "      <td>0.502</td>\n",
              "      <td>233.74</td>\n",
              "      <td>23.0</td>\n",
              "      <td>0.0</td>\n",
              "      <td>1.0</td>\n",
              "      <td>17.0</td>\n",
              "      <td>71.800003</td>\n",
              "      <td>Saturday</td>\n",
              "    </tr>\n",
              "    <tr>\n",
              "      <th>2006-12-16 17:28:00</th>\n",
              "      <td>3.666</td>\n",
              "      <td>0.528</td>\n",
              "      <td>235.68</td>\n",
              "      <td>15.8</td>\n",
              "      <td>0.0</td>\n",
              "      <td>1.0</td>\n",
              "      <td>17.0</td>\n",
              "      <td>43.099998</td>\n",
              "      <td>Saturday</td>\n",
              "    </tr>\n",
              "  </tbody>\n",
              "</table>\n",
              "</div>"
            ],
            "text/plain": [
              "                     Global_active_power  ...  day_name\n",
              "dt                                        ...          \n",
              "2006-12-16 17:24:00                4.216  ...  Saturday\n",
              "2006-12-16 17:25:00                5.360  ...  Saturday\n",
              "2006-12-16 17:26:00                5.374  ...  Saturday\n",
              "2006-12-16 17:27:00                5.388  ...  Saturday\n",
              "2006-12-16 17:28:00                3.666  ...  Saturday\n",
              "\n",
              "[5 rows x 9 columns]"
            ]
          },
          "metadata": {},
          "execution_count": 7
        }
      ]
    },
    {
      "cell_type": "code",
      "metadata": {
        "colab": {
          "base_uri": "https://localhost:8080/"
        },
        "id": "USS0Zd9av3kj",
        "outputId": "1fa7c1d7-3dcb-48ab-b3dc-cc777ccf7f60"
      },
      "source": [
        "droping_list_all=[]\n",
        "for j in range(0,9):\n",
        "    if not df.iloc[:, j].notnull().all():\n",
        "        droping_list_all.append(j)        \n",
        "droping_list_all"
      ],
      "execution_count": null,
      "outputs": [
        {
          "output_type": "execute_result",
          "data": {
            "text/plain": [
              "[0, 1, 2, 3, 4, 5, 6, 7]"
            ]
          },
          "metadata": {},
          "execution_count": 8
        }
      ]
    },
    {
      "cell_type": "code",
      "metadata": {
        "id": "je6LJCQJv3sD"
      },
      "source": [
        "for j in range(0,8):        \n",
        "        df.iloc[:,j]=df.iloc[:,j].fillna(df.iloc[:,j].mean())"
      ],
      "execution_count": null,
      "outputs": []
    },
    {
      "cell_type": "code",
      "metadata": {
        "colab": {
          "base_uri": "https://localhost:8080/"
        },
        "id": "oPoZrZb5v78i",
        "outputId": "b1473439-4d85-404a-ccb1-a0906d6c5e5e"
      },
      "source": [
        "df.isnull().sum()"
      ],
      "execution_count": null,
      "outputs": [
        {
          "output_type": "execute_result",
          "data": {
            "text/plain": [
              "Global_active_power      0\n",
              "Global_reactive_power    0\n",
              "Voltage                  0\n",
              "Global_intensity         0\n",
              "Sub_metering_1           0\n",
              "Sub_metering_2           0\n",
              "Sub_metering_3           0\n",
              "sub_metering_4           0\n",
              "day_name                 0\n",
              "dtype: int64"
            ]
          },
          "metadata": {},
          "execution_count": 10
        }
      ]
    },
    {
      "cell_type": "code",
      "metadata": {
        "colab": {
          "base_uri": "https://localhost:8080/"
        },
        "id": "cxj8IFFjuxtz",
        "outputId": "8efc81bb-2513-417f-d4a3-d2b390084a26"
      },
      "source": [
        "df.count()"
      ],
      "execution_count": null,
      "outputs": [
        {
          "output_type": "execute_result",
          "data": {
            "text/plain": [
              "Global_active_power      2075259\n",
              "Global_reactive_power    2075259\n",
              "Voltage                  2075259\n",
              "Global_intensity         2075259\n",
              "Sub_metering_1           2075259\n",
              "Sub_metering_2           2075259\n",
              "Sub_metering_3           2075259\n",
              "sub_metering_4           2075259\n",
              "day_name                 2075259\n",
              "dtype: int64"
            ]
          },
          "metadata": {},
          "execution_count": 11
        }
      ]
    },
    {
      "cell_type": "markdown",
      "metadata": {
        "id": "gGsSerqHPfqE"
      },
      "source": [
        "# LSTM"
      ]
    },
    {
      "cell_type": "code",
      "metadata": {
        "id": "CjKWoiIpPjwP"
      },
      "source": [
        "def series_to_supervised(data, n_in=1, n_out=1, dropnan=True):\n",
        "\tn_vars = 1 if type(data) is list else data.shape[1]\n",
        "\tdff = pd.DataFrame(data)\n",
        "\tcols, names = list(), list()\n",
        "\t# input sequence (t-n, ... t-1)\n",
        "\tfor i in range(n_in, 0, -1):\n",
        "\t\tcols.append(dff.shift(i))\n",
        "\t\tnames += [('var%d(t-%d)' % (j+1, i)) for j in range(n_vars)]\n",
        "\t# forecast sequence (t, t+1, ... t+n)\n",
        "\tfor i in range(0, n_out):\n",
        "\t\tcols.append(dff.shift(-i))\n",
        "\t\tif i == 0:\n",
        "\t\t\tnames += [('var%d(t)' % (j+1)) for j in range(n_vars)]\n",
        "\t\telse:\n",
        "\t\t\tnames += [('var%d(t+%d)' % (j+1, i)) for j in range(n_vars)]\n",
        "\t# put it all together\n",
        "\tagg = pd.concat(cols, axis=1)\n",
        "\tagg.columns = names\n",
        "\t# drop rows with NaN values\n",
        "\tif dropnan:\n",
        "\t\tagg.dropna(inplace=True)\n",
        "\treturn agg"
      ],
      "execution_count": null,
      "outputs": []
    },
    {
      "cell_type": "code",
      "metadata": {
        "colab": {
          "base_uri": "https://localhost:8080/"
        },
        "id": "T-SFaqJ2Trqp",
        "outputId": "43b00281-266f-4e47-c30d-aeb19a813562"
      },
      "source": [
        "df_resample = df.resample('h').sum() \n",
        "df_resample.shape"
      ],
      "execution_count": null,
      "outputs": [
        {
          "output_type": "execute_result",
          "data": {
            "text/plain": [
              "(34589, 8)"
            ]
          },
          "metadata": {},
          "execution_count": 13
        }
      ]
    },
    {
      "cell_type": "code",
      "metadata": {
        "colab": {
          "base_uri": "https://localhost:8080/",
          "height": 236
        },
        "id": "c2MzIJsGT0u6",
        "outputId": "8369d567-4e49-4ac5-d234-03537651b0b0"
      },
      "source": [
        "df_resample.head()"
      ],
      "execution_count": null,
      "outputs": [
        {
          "output_type": "execute_result",
          "data": {
            "text/html": [
              "<div>\n",
              "<style scoped>\n",
              "    .dataframe tbody tr th:only-of-type {\n",
              "        vertical-align: middle;\n",
              "    }\n",
              "\n",
              "    .dataframe tbody tr th {\n",
              "        vertical-align: top;\n",
              "    }\n",
              "\n",
              "    .dataframe thead th {\n",
              "        text-align: right;\n",
              "    }\n",
              "</style>\n",
              "<table border=\"1\" class=\"dataframe\">\n",
              "  <thead>\n",
              "    <tr style=\"text-align: right;\">\n",
              "      <th></th>\n",
              "      <th>Global_active_power</th>\n",
              "      <th>Global_reactive_power</th>\n",
              "      <th>Voltage</th>\n",
              "      <th>Global_intensity</th>\n",
              "      <th>Sub_metering_1</th>\n",
              "      <th>Sub_metering_2</th>\n",
              "      <th>Sub_metering_3</th>\n",
              "      <th>sub_metering_4</th>\n",
              "    </tr>\n",
              "    <tr>\n",
              "      <th>dt</th>\n",
              "      <th></th>\n",
              "      <th></th>\n",
              "      <th></th>\n",
              "      <th></th>\n",
              "      <th></th>\n",
              "      <th></th>\n",
              "      <th></th>\n",
              "      <th></th>\n",
              "    </tr>\n",
              "  </thead>\n",
              "  <tbody>\n",
              "    <tr>\n",
              "      <th>2006-12-16 17:00:00</th>\n",
              "      <td>152.024</td>\n",
              "      <td>8.244</td>\n",
              "      <td>8447.18</td>\n",
              "      <td>651.6</td>\n",
              "      <td>0.0</td>\n",
              "      <td>19.0</td>\n",
              "      <td>607.0</td>\n",
              "      <td>1907.733398</td>\n",
              "    </tr>\n",
              "    <tr>\n",
              "      <th>2006-12-16 18:00:00</th>\n",
              "      <td>217.932</td>\n",
              "      <td>4.802</td>\n",
              "      <td>14074.81</td>\n",
              "      <td>936.0</td>\n",
              "      <td>0.0</td>\n",
              "      <td>403.0</td>\n",
              "      <td>1012.0</td>\n",
              "      <td>2217.199951</td>\n",
              "    </tr>\n",
              "    <tr>\n",
              "      <th>2006-12-16 19:00:00</th>\n",
              "      <td>204.014</td>\n",
              "      <td>5.114</td>\n",
              "      <td>13993.95</td>\n",
              "      <td>870.2</td>\n",
              "      <td>0.0</td>\n",
              "      <td>86.0</td>\n",
              "      <td>1001.0</td>\n",
              "      <td>2313.233398</td>\n",
              "    </tr>\n",
              "    <tr>\n",
              "      <th>2006-12-16 20:00:00</th>\n",
              "      <td>196.114</td>\n",
              "      <td>4.506</td>\n",
              "      <td>14044.29</td>\n",
              "      <td>835.0</td>\n",
              "      <td>0.0</td>\n",
              "      <td>0.0</td>\n",
              "      <td>1007.0</td>\n",
              "      <td>2261.566650</td>\n",
              "    </tr>\n",
              "    <tr>\n",
              "      <th>2006-12-16 21:00:00</th>\n",
              "      <td>183.388</td>\n",
              "      <td>4.600</td>\n",
              "      <td>14229.52</td>\n",
              "      <td>782.8</td>\n",
              "      <td>0.0</td>\n",
              "      <td>25.0</td>\n",
              "      <td>1033.0</td>\n",
              "      <td>1998.466675</td>\n",
              "    </tr>\n",
              "  </tbody>\n",
              "</table>\n",
              "</div>"
            ],
            "text/plain": [
              "                     Global_active_power  ...  sub_metering_4\n",
              "dt                                        ...                \n",
              "2006-12-16 17:00:00              152.024  ...     1907.733398\n",
              "2006-12-16 18:00:00              217.932  ...     2217.199951\n",
              "2006-12-16 19:00:00              204.014  ...     2313.233398\n",
              "2006-12-16 20:00:00              196.114  ...     2261.566650\n",
              "2006-12-16 21:00:00              183.388  ...     1998.466675\n",
              "\n",
              "[5 rows x 8 columns]"
            ]
          },
          "metadata": {},
          "execution_count": 14
        }
      ]
    },
    {
      "cell_type": "code",
      "metadata": {
        "colab": {
          "base_uri": "https://localhost:8080/",
          "height": 177
        },
        "id": "tqd0__V4I09c",
        "outputId": "7a74ead9-1169-4b72-c14c-4dfe28538bbc"
      },
      "source": [
        "df_resample[\"day_name\"]= df_resample.index.day_name()\n",
        "df_resample.head(2)"
      ],
      "execution_count": null,
      "outputs": [
        {
          "output_type": "execute_result",
          "data": {
            "text/html": [
              "<div>\n",
              "<style scoped>\n",
              "    .dataframe tbody tr th:only-of-type {\n",
              "        vertical-align: middle;\n",
              "    }\n",
              "\n",
              "    .dataframe tbody tr th {\n",
              "        vertical-align: top;\n",
              "    }\n",
              "\n",
              "    .dataframe thead th {\n",
              "        text-align: right;\n",
              "    }\n",
              "</style>\n",
              "<table border=\"1\" class=\"dataframe\">\n",
              "  <thead>\n",
              "    <tr style=\"text-align: right;\">\n",
              "      <th></th>\n",
              "      <th>Global_active_power</th>\n",
              "      <th>Global_reactive_power</th>\n",
              "      <th>Voltage</th>\n",
              "      <th>Global_intensity</th>\n",
              "      <th>Sub_metering_1</th>\n",
              "      <th>Sub_metering_2</th>\n",
              "      <th>Sub_metering_3</th>\n",
              "      <th>sub_metering_4</th>\n",
              "      <th>day_name</th>\n",
              "    </tr>\n",
              "    <tr>\n",
              "      <th>dt</th>\n",
              "      <th></th>\n",
              "      <th></th>\n",
              "      <th></th>\n",
              "      <th></th>\n",
              "      <th></th>\n",
              "      <th></th>\n",
              "      <th></th>\n",
              "      <th></th>\n",
              "      <th></th>\n",
              "    </tr>\n",
              "  </thead>\n",
              "  <tbody>\n",
              "    <tr>\n",
              "      <th>2006-12-16 17:00:00</th>\n",
              "      <td>152.024</td>\n",
              "      <td>8.244</td>\n",
              "      <td>8447.18</td>\n",
              "      <td>651.6</td>\n",
              "      <td>0.0</td>\n",
              "      <td>19.0</td>\n",
              "      <td>607.0</td>\n",
              "      <td>1907.733398</td>\n",
              "      <td>Saturday</td>\n",
              "    </tr>\n",
              "    <tr>\n",
              "      <th>2006-12-16 18:00:00</th>\n",
              "      <td>217.932</td>\n",
              "      <td>4.802</td>\n",
              "      <td>14074.81</td>\n",
              "      <td>936.0</td>\n",
              "      <td>0.0</td>\n",
              "      <td>403.0</td>\n",
              "      <td>1012.0</td>\n",
              "      <td>2217.199951</td>\n",
              "      <td>Saturday</td>\n",
              "    </tr>\n",
              "  </tbody>\n",
              "</table>\n",
              "</div>"
            ],
            "text/plain": [
              "                     Global_active_power  ...  day_name\n",
              "dt                                        ...          \n",
              "2006-12-16 17:00:00              152.024  ...  Saturday\n",
              "2006-12-16 18:00:00              217.932  ...  Saturday\n",
              "\n",
              "[2 rows x 9 columns]"
            ]
          },
          "metadata": {},
          "execution_count": 15
        }
      ]
    },
    {
      "cell_type": "code",
      "metadata": {
        "colab": {
          "base_uri": "https://localhost:8080/",
          "height": 205
        },
        "id": "JKk1CyPpUJ2W",
        "outputId": "5d1d7830-1dc6-42d7-c9f6-ab318c10760a"
      },
      "source": [
        "from sklearn.preprocessing import MinMaxScaler\n",
        "\n",
        "values = df_resample.values \n",
        "\n",
        "# frame as supervised learning\n",
        "reframed1 = series_to_supervised(df_resample, 1, 1)\n",
        "\n",
        "# drop columns we don't want to predict\n",
        "reframed2= reframed1.drop(reframed1.columns[[7,8,9,10,11,12,13,14,16,17]], axis=1)\n",
        "reframed2.head()\n",
        "scaler = MinMaxScaler(feature_range=(0, 1))\n",
        "scaled = scaler.fit_transform(reframed2.values)\n",
        "reframed = pd.DataFrame(scaled, columns=  [\"var1(t-1)\",\"var2(t-1)\",\"var3(t-1)\",\"var4(t-1)\",\"var5(t-1)\"\t,\"var6(t-1)\",\"var7(t-1)\",\"var7(t)\"])\n",
        "reframed.head()"
      ],
      "execution_count": null,
      "outputs": [
        {
          "output_type": "execute_result",
          "data": {
            "text/html": [
              "<div>\n",
              "<style scoped>\n",
              "    .dataframe tbody tr th:only-of-type {\n",
              "        vertical-align: middle;\n",
              "    }\n",
              "\n",
              "    .dataframe tbody tr th {\n",
              "        vertical-align: top;\n",
              "    }\n",
              "\n",
              "    .dataframe thead th {\n",
              "        text-align: right;\n",
              "    }\n",
              "</style>\n",
              "<table border=\"1\" class=\"dataframe\">\n",
              "  <thead>\n",
              "    <tr style=\"text-align: right;\">\n",
              "      <th></th>\n",
              "      <th>var1(t-1)</th>\n",
              "      <th>var2(t-1)</th>\n",
              "      <th>var3(t-1)</th>\n",
              "      <th>var4(t-1)</th>\n",
              "      <th>var5(t-1)</th>\n",
              "      <th>var6(t-1)</th>\n",
              "      <th>var7(t-1)</th>\n",
              "      <th>var7(t)</th>\n",
              "    </tr>\n",
              "  </thead>\n",
              "  <tbody>\n",
              "    <tr>\n",
              "      <th>0</th>\n",
              "      <td>0.374384</td>\n",
              "      <td>0.163471</td>\n",
              "      <td>0.000000</td>\n",
              "      <td>0.371473</td>\n",
              "      <td>0.0</td>\n",
              "      <td>0.006820</td>\n",
              "      <td>0.469451</td>\n",
              "      <td>0.782676</td>\n",
              "    </tr>\n",
              "    <tr>\n",
              "      <th>1</th>\n",
              "      <td>0.545045</td>\n",
              "      <td>0.088127</td>\n",
              "      <td>0.844110</td>\n",
              "      <td>0.541487</td>\n",
              "      <td>0.0</td>\n",
              "      <td>0.144652</td>\n",
              "      <td>0.782676</td>\n",
              "      <td>0.774169</td>\n",
              "    </tr>\n",
              "    <tr>\n",
              "      <th>2</th>\n",
              "      <td>0.509006</td>\n",
              "      <td>0.094957</td>\n",
              "      <td>0.831981</td>\n",
              "      <td>0.502152</td>\n",
              "      <td>0.0</td>\n",
              "      <td>0.030869</td>\n",
              "      <td>0.774169</td>\n",
              "      <td>0.778809</td>\n",
              "    </tr>\n",
              "    <tr>\n",
              "      <th>3</th>\n",
              "      <td>0.488550</td>\n",
              "      <td>0.081648</td>\n",
              "      <td>0.839532</td>\n",
              "      <td>0.481110</td>\n",
              "      <td>0.0</td>\n",
              "      <td>0.000000</td>\n",
              "      <td>0.778809</td>\n",
              "      <td>0.798917</td>\n",
              "    </tr>\n",
              "    <tr>\n",
              "      <th>4</th>\n",
              "      <td>0.455597</td>\n",
              "      <td>0.083705</td>\n",
              "      <td>0.867315</td>\n",
              "      <td>0.449904</td>\n",
              "      <td>0.0</td>\n",
              "      <td>0.008973</td>\n",
              "      <td>0.798917</td>\n",
              "      <td>0.205723</td>\n",
              "    </tr>\n",
              "  </tbody>\n",
              "</table>\n",
              "</div>"
            ],
            "text/plain": [
              "   var1(t-1)  var2(t-1)  var3(t-1)  ...  var6(t-1)  var7(t-1)   var7(t)\n",
              "0   0.374384   0.163471   0.000000  ...   0.006820   0.469451  0.782676\n",
              "1   0.545045   0.088127   0.844110  ...   0.144652   0.782676  0.774169\n",
              "2   0.509006   0.094957   0.831981  ...   0.030869   0.774169  0.778809\n",
              "3   0.488550   0.081648   0.839532  ...   0.000000   0.778809  0.798917\n",
              "4   0.455597   0.083705   0.867315  ...   0.008973   0.798917  0.205723\n",
              "\n",
              "[5 rows x 8 columns]"
            ]
          },
          "metadata": {},
          "execution_count": 16
        }
      ]
    },
    {
      "cell_type": "code",
      "metadata": {
        "colab": {
          "base_uri": "https://localhost:8080/"
        },
        "id": "0FHO09vhh9CC",
        "outputId": "770e640c-94b3-4248-d2f4-f658e3e811df"
      },
      "source": [
        "# split into train and test sets\n",
        "values = reframed.values\n",
        "\n",
        "n_train_time = 365*3*24\n",
        "train = values[:n_train_time, :]\n",
        "test = values[n_train_time:, :]\n",
        "\n",
        "train_X, train_y = train[:, :-1], train[:, -1]\n",
        "test_X, test_y = test[:, :-1], test[:, -1]\n",
        "\n",
        "# reshape input to be 3D [samples, timesteps, features]\n",
        "train_X = train_X.reshape((train_X.shape[0], 1, train_X.shape[1]))\n",
        "test_X = test_X.reshape((test_X.shape[0], 1, test_X.shape[1]))\n",
        "print(train_X.shape, train_y.shape, test_X.shape, test_y.shape) \n",
        "# We reshaped the input into the 3D format as expected by LSTMs, namely [samples, timesteps, features]."
      ],
      "execution_count": null,
      "outputs": [
        {
          "output_type": "stream",
          "name": "stdout",
          "text": [
            "(26280, 1, 7) (26280,) (8308, 1, 7) (8308,)\n"
          ]
        }
      ]
    },
    {
      "cell_type": "code",
      "metadata": {
        "colab": {
          "base_uri": "https://localhost:8080/"
        },
        "id": "24PsEQbgkfMj",
        "outputId": "0442ddef-34d0-451d-a099-021dc6731adf"
      },
      "source": [
        "import keras\n",
        "from keras.layers import Dense\n",
        "from keras.models import Sequential\n",
        "from tensorflow.keras.utils import to_categorical\n",
        "from tensorflow.keras.optimizers import SGD \n",
        "from keras.callbacks import EarlyStopping\n",
        "from keras.utils import np_utils\n",
        "import itertools\n",
        "from keras.layers import LSTM\n",
        "from keras.layers.convolutional import Conv1D\n",
        "from keras.layers.convolutional import MaxPooling1D\n",
        "from keras.layers import Dropout\n",
        "\n",
        "model = Sequential()\n",
        "model.add(LSTM(100, input_shape=(train_X.shape[1], train_X.shape[2])))\n",
        "model.add(Dropout(0.2))\n",
        "model.add(Dense(1))\n",
        "model.compile(loss='mean_squared_error', optimizer='adam')\n",
        "\n",
        "\n",
        "\n",
        "# fit network\n",
        "history = model.fit(train_X, train_y, epochs=20, batch_size=32, validation_data=(test_X, test_y), verbose=2, shuffle=False)\n"
      ],
      "execution_count": null,
      "outputs": [
        {
          "output_type": "stream",
          "name": "stdout",
          "text": [
            "Epoch 1/20\n",
            "822/822 - 4s - loss: 0.0708 - val_loss: 0.0667\n",
            "Epoch 2/20\n",
            "822/822 - 2s - loss: 0.0657 - val_loss: 0.0667\n",
            "Epoch 3/20\n",
            "822/822 - 2s - loss: 0.0654 - val_loss: 0.0666\n",
            "Epoch 4/20\n",
            "822/822 - 2s - loss: 0.0652 - val_loss: 0.0664\n",
            "Epoch 5/20\n",
            "822/822 - 2s - loss: 0.0649 - val_loss: 0.0663\n",
            "Epoch 6/20\n",
            "822/822 - 2s - loss: 0.0647 - val_loss: 0.0662\n",
            "Epoch 7/20\n",
            "822/822 - 2s - loss: 0.0645 - val_loss: 0.0660\n",
            "Epoch 8/20\n",
            "822/822 - 2s - loss: 0.0645 - val_loss: 0.0659\n",
            "Epoch 9/20\n",
            "822/822 - 2s - loss: 0.0642 - val_loss: 0.0658\n",
            "Epoch 10/20\n",
            "822/822 - 2s - loss: 0.0641 - val_loss: 0.0657\n",
            "Epoch 11/20\n",
            "822/822 - 2s - loss: 0.0638 - val_loss: 0.0655\n",
            "Epoch 12/20\n",
            "822/822 - 2s - loss: 0.0636 - val_loss: 0.0654\n",
            "Epoch 13/20\n",
            "822/822 - 2s - loss: 0.0635 - val_loss: 0.0653\n",
            "Epoch 14/20\n",
            "822/822 - 2s - loss: 0.0633 - val_loss: 0.0651\n",
            "Epoch 15/20\n",
            "822/822 - 2s - loss: 0.0632 - val_loss: 0.0650\n",
            "Epoch 16/20\n",
            "822/822 - 2s - loss: 0.0629 - val_loss: 0.0649\n",
            "Epoch 17/20\n",
            "822/822 - 2s - loss: 0.0629 - val_loss: 0.0648\n",
            "Epoch 18/20\n",
            "822/822 - 2s - loss: 0.0627 - val_loss: 0.0647\n",
            "Epoch 19/20\n",
            "822/822 - 2s - loss: 0.0625 - val_loss: 0.0646\n",
            "Epoch 20/20\n",
            "822/822 - 2s - loss: 0.0625 - val_loss: 0.0646\n"
          ]
        }
      ]
    },
    {
      "cell_type": "code",
      "metadata": {
        "colab": {
          "base_uri": "https://localhost:8080/",
          "height": 301
        },
        "id": "UwQSR_BPliFh",
        "outputId": "6affce94-6992-45ad-cc36-478c76c7f084"
      },
      "source": [
        "import matplotlib.pyplot as plt\n",
        "from matplotlib import rcParams\n",
        "\n",
        "rcParams['figure.figsize'] =[6.4, 4.4]\n",
        "\n",
        "# summarize history for loss\n",
        "plt.plot(history.history['loss'])\n",
        "plt.plot(history.history['val_loss'])\n",
        "plt.ylabel('loss')\n",
        "plt.xlabel('epoch')\n",
        "plt.legend(['train', 'test'], loc='upper right')\n",
        "\n",
        "plt.show()\n",
        "\n"
      ],
      "execution_count": null,
      "outputs": [
        {
          "output_type": "display_data",
          "data": {
            "image/png": "[encoded data removed]",
            "text/plain": [
              "<Figure size 460.8x316.8 with 1 Axes>"
            ]
          },
          "metadata": {
            "needs_background": "light"
          }
        }
      ]
    },
    {
      "cell_type": "code",
      "metadata": {
        "colab": {
          "base_uri": "https://localhost:8080/"
        },
        "id": "RBrL4LxvljRg",
        "outputId": "e9479e99-31e5-4e61-d677-f5efbdcd6310"
      },
      "source": [
        "import numpy as np\n",
        "from sklearn.metrics import mean_squared_error,r2_score\n",
        "from sklearn.metrics import mean_absolute_error\n",
        "\n",
        "# make a prediction\n",
        "yhat = model.predict(test_X)\n",
        "test_X = test_X.reshape((test_X.shape[0], 7))\n",
        "# invert scaling for forecast\n",
        "inv_yhat = np.concatenate((test_X[:, -7:],yhat), axis=1)\n",
        "inv_yhat = scaler.inverse_transform(inv_yhat)\n",
        "inv_yhat = inv_yhat[:,-1]\n",
        "# invert scaling for actual\n",
        "test_y = test_y.reshape((len(test_y), 1))\n",
        "inv_y = np.concatenate((test_X[:, -7:],test_y), axis=1)\n",
        "inv_y = scaler.inverse_transform(inv_y)\n",
        "inv_y = inv_y[:,-1]\n",
        "# calculate RMSE\n",
        "rmse = np.sqrt(mean_squared_error(inv_y, inv_yhat))\n",
        "mae = mean_absolute_error(inv_y, inv_yhat)\n",
        "print('Test RMSE: %.3f' % rmse)\n",
        "print('Test MAE: %.3f' % mae)"
      ],
      "execution_count": null,
      "outputs": [
        {
          "output_type": "stream",
          "name": "stdout",
          "text": [
            "Test RMSE: 328.554\n",
            "Test MAE: 257.729\n"
          ]
        }
      ]
    },
    {
      "cell_type": "code",
      "metadata": {
        "colab": {
          "base_uri": "https://localhost:8080/",
          "height": 326
        },
        "id": "BcMaXUFEmx8z",
        "outputId": "c7825d62-891a-4fdd-a5b7-3f8784e70bfd"
      },
      "source": [
        "\n",
        "aa=[x for x in range(20)]\n",
        "plt.plot(reframed1[n_train_time:n_train_time+20].index, inv_y[:20], marker='.', label=\"actual\")\n",
        "plt.plot(reframed1[n_train_time:n_train_time+20].index, inv_yhat[:20], 'r', label=\"prediction\")\n",
        "plt.ylabel('Global_active_power', size=15)\n",
        "plt.xlabel('Time step', size=15)\n",
        "plt.legend(fontsize=15)\n",
        "plt.show()"
      ],
      "execution_count": null,
      "outputs": [
        {
          "output_type": "display_data",
          "data": {
            "image/png": "[encoded data removed]",
            "text/plain": [
              "<Figure size 460.8x316.8 with 1 Axes>"
            ]
          },
          "metadata": {
            "needs_background": "light"
          }
        }
      ]
    },
    {
      "cell_type": "code",
      "metadata": {
        "id": "tjtD8cboV7-P",
        "colab": {
          "base_uri": "https://localhost:8080/",
          "height": 422
        },
        "outputId": "b3d87c91-540a-40b4-8351-1f6456d6f8b2"
      },
      "source": [
        "for_pred = reframed1[n_train_time:n_train_time+500][\"var9(t)\"].copy().reset_index()\n",
        "for_pred['Dates'] = pd.to_datetime(for_pred.dt).dt.date\n",
        "for_pred['Time'] = pd.to_datetime(for_pred.dt).dt.time\n",
        "\n",
        "for_pred['yhat']= inv_yhat[:500]\n",
        "for_pred"
      ],
      "execution_count": null,
      "outputs": [
        {
          "output_type": "execute_result",
          "data": {
            "text/html": [
              "<div>\n",
              "<style scoped>\n",
              "    .dataframe tbody tr th:only-of-type {\n",
              "        vertical-align: middle;\n",
              "    }\n",
              "\n",
              "    .dataframe tbody tr th {\n",
              "        vertical-align: top;\n",
              "    }\n",
              "\n",
              "    .dataframe thead th {\n",
              "        text-align: right;\n",
              "    }\n",
              "</style>\n",
              "<table border=\"1\" class=\"dataframe\">\n",
              "  <thead>\n",
              "    <tr style=\"text-align: right;\">\n",
              "      <th></th>\n",
              "      <th>dt</th>\n",
              "      <th>var9(t)</th>\n",
              "      <th>Dates</th>\n",
              "      <th>Time</th>\n",
              "      <th>yhat</th>\n",
              "    </tr>\n",
              "  </thead>\n",
              "  <tbody>\n",
              "    <tr>\n",
              "      <th>0</th>\n",
              "      <td>2009-12-15 18:00:00</td>\n",
              "      <td>Tuesday</td>\n",
              "      <td>2009-12-15</td>\n",
              "      <td>18:00:00</td>\n",
              "      <td>332.669735</td>\n",
              "    </tr>\n",
              "    <tr>\n",
              "      <th>1</th>\n",
              "      <td>2009-12-15 19:00:00</td>\n",
              "      <td>Tuesday</td>\n",
              "      <td>2009-12-15</td>\n",
              "      <td>19:00:00</td>\n",
              "      <td>357.745535</td>\n",
              "    </tr>\n",
              "    <tr>\n",
              "      <th>2</th>\n",
              "      <td>2009-12-15 20:00:00</td>\n",
              "      <td>Tuesday</td>\n",
              "      <td>2009-12-15</td>\n",
              "      <td>20:00:00</td>\n",
              "      <td>457.671022</td>\n",
              "    </tr>\n",
              "    <tr>\n",
              "      <th>3</th>\n",
              "      <td>2009-12-15 21:00:00</td>\n",
              "      <td>Tuesday</td>\n",
              "      <td>2009-12-15</td>\n",
              "      <td>21:00:00</td>\n",
              "      <td>433.711563</td>\n",
              "    </tr>\n",
              "    <tr>\n",
              "      <th>4</th>\n",
              "      <td>2009-12-15 22:00:00</td>\n",
              "      <td>Tuesday</td>\n",
              "      <td>2009-12-15</td>\n",
              "      <td>22:00:00</td>\n",
              "      <td>528.972422</td>\n",
              "    </tr>\n",
              "    <tr>\n",
              "      <th>...</th>\n",
              "      <td>...</td>\n",
              "      <td>...</td>\n",
              "      <td>...</td>\n",
              "      <td>...</td>\n",
              "      <td>...</td>\n",
              "    </tr>\n",
              "    <tr>\n",
              "      <th>495</th>\n",
              "      <td>2010-01-05 09:00:00</td>\n",
              "      <td>Tuesday</td>\n",
              "      <td>2010-01-05</td>\n",
              "      <td>09:00:00</td>\n",
              "      <td>920.070446</td>\n",
              "    </tr>\n",
              "    <tr>\n",
              "      <th>496</th>\n",
              "      <td>2010-01-05 10:00:00</td>\n",
              "      <td>Tuesday</td>\n",
              "      <td>2010-01-05</td>\n",
              "      <td>10:00:00</td>\n",
              "      <td>932.853618</td>\n",
              "    </tr>\n",
              "    <tr>\n",
              "      <th>497</th>\n",
              "      <td>2010-01-05 11:00:00</td>\n",
              "      <td>Tuesday</td>\n",
              "      <td>2010-01-05</td>\n",
              "      <td>11:00:00</td>\n",
              "      <td>882.593581</td>\n",
              "    </tr>\n",
              "    <tr>\n",
              "      <th>498</th>\n",
              "      <td>2010-01-05 12:00:00</td>\n",
              "      <td>Tuesday</td>\n",
              "      <td>2010-01-05</td>\n",
              "      <td>12:00:00</td>\n",
              "      <td>891.907501</td>\n",
              "    </tr>\n",
              "    <tr>\n",
              "      <th>499</th>\n",
              "      <td>2010-01-05 13:00:00</td>\n",
              "      <td>Tuesday</td>\n",
              "      <td>2010-01-05</td>\n",
              "      <td>13:00:00</td>\n",
              "      <td>880.874484</td>\n",
              "    </tr>\n",
              "  </tbody>\n",
              "</table>\n",
              "<p>500 rows × 5 columns</p>\n",
              "</div>"
            ],
            "text/plain": [
              "                     dt  var9(t)       Dates      Time        yhat\n",
              "0   2009-12-15 18:00:00  Tuesday  2009-12-15  18:00:00  332.669735\n",
              "1   2009-12-15 19:00:00  Tuesday  2009-12-15  19:00:00  357.745535\n",
              "2   2009-12-15 20:00:00  Tuesday  2009-12-15  20:00:00  457.671022\n",
              "3   2009-12-15 21:00:00  Tuesday  2009-12-15  21:00:00  433.711563\n",
              "4   2009-12-15 22:00:00  Tuesday  2009-12-15  22:00:00  528.972422\n",
              "..                  ...      ...         ...       ...         ...\n",
              "495 2010-01-05 09:00:00  Tuesday  2010-01-05  09:00:00  920.070446\n",
              "496 2010-01-05 10:00:00  Tuesday  2010-01-05  10:00:00  932.853618\n",
              "497 2010-01-05 11:00:00  Tuesday  2010-01-05  11:00:00  882.593581\n",
              "498 2010-01-05 12:00:00  Tuesday  2010-01-05  12:00:00  891.907501\n",
              "499 2010-01-05 13:00:00  Tuesday  2010-01-05  13:00:00  880.874484\n",
              "\n",
              "[500 rows x 5 columns]"
            ]
          },
          "metadata": {},
          "execution_count": 24
        }
      ]
    },
    {
      "cell_type": "code",
      "metadata": {
        "id": "G7eGSe6EeD6r",
        "colab": {
          "base_uri": "https://localhost:8080/",
          "height": 819
        },
        "outputId": "6d1db76b-0b6e-4c32-b6b9-6283af4c877d"
      },
      "source": [
        "df_resample['Dates'] = pd.to_datetime(df_resample.index).date\n",
        "df_resample['Time'] = pd.to_datetime(df_resample.index).time\n",
        "df_resample"
      ],
      "execution_count": null,
      "outputs": [
        {
          "output_type": "execute_result",
          "data": {
            "text/html": [
              "<div>\n",
              "<style scoped>\n",
              "    .dataframe tbody tr th:only-of-type {\n",
              "        vertical-align: middle;\n",
              "    }\n",
              "\n",
              "    .dataframe tbody tr th {\n",
              "        vertical-align: top;\n",
              "    }\n",
              "\n",
              "    .dataframe thead th {\n",
              "        text-align: right;\n",
              "    }\n",
              "</style>\n",
              "<table border=\"1\" class=\"dataframe\">\n",
              "  <thead>\n",
              "    <tr style=\"text-align: right;\">\n",
              "      <th></th>\n",
              "      <th>Global_active_power</th>\n",
              "      <th>Global_reactive_power</th>\n",
              "      <th>Voltage</th>\n",
              "      <th>Global_intensity</th>\n",
              "      <th>Sub_metering_1</th>\n",
              "      <th>Sub_metering_2</th>\n",
              "      <th>Sub_metering_3</th>\n",
              "      <th>sub_metering_4</th>\n",
              "      <th>day_name</th>\n",
              "      <th>Dates</th>\n",
              "      <th>Time</th>\n",
              "    </tr>\n",
              "    <tr>\n",
              "      <th>dt</th>\n",
              "      <th></th>\n",
              "      <th></th>\n",
              "      <th></th>\n",
              "      <th></th>\n",
              "      <th></th>\n",
              "      <th></th>\n",
              "      <th></th>\n",
              "      <th></th>\n",
              "      <th></th>\n",
              "      <th></th>\n",
              "      <th></th>\n",
              "    </tr>\n",
              "  </thead>\n",
              "  <tbody>\n",
              "    <tr>\n",
              "      <th>2006-12-16 17:00:00</th>\n",
              "      <td>152.024</td>\n",
              "      <td>8.244</td>\n",
              "      <td>8447.18</td>\n",
              "      <td>651.6</td>\n",
              "      <td>0.0</td>\n",
              "      <td>19.0</td>\n",
              "      <td>607.0</td>\n",
              "      <td>1907.733398</td>\n",
              "      <td>Saturday</td>\n",
              "      <td>2006-12-16</td>\n",
              "      <td>17:00:00</td>\n",
              "    </tr>\n",
              "    <tr>\n",
              "      <th>2006-12-16 18:00:00</th>\n",
              "      <td>217.932</td>\n",
              "      <td>4.802</td>\n",
              "      <td>14074.81</td>\n",
              "      <td>936.0</td>\n",
              "      <td>0.0</td>\n",
              "      <td>403.0</td>\n",
              "      <td>1012.0</td>\n",
              "      <td>2217.199951</td>\n",
              "      <td>Saturday</td>\n",
              "      <td>2006-12-16</td>\n",
              "      <td>18:00:00</td>\n",
              "    </tr>\n",
              "    <tr>\n",
              "      <th>2006-12-16 19:00:00</th>\n",
              "      <td>204.014</td>\n",
              "      <td>5.114</td>\n",
              "      <td>13993.95</td>\n",
              "      <td>870.2</td>\n",
              "      <td>0.0</td>\n",
              "      <td>86.0</td>\n",
              "      <td>1001.0</td>\n",
              "      <td>2313.233398</td>\n",
              "      <td>Saturday</td>\n",
              "      <td>2006-12-16</td>\n",
              "      <td>19:00:00</td>\n",
              "    </tr>\n",
              "    <tr>\n",
              "      <th>2006-12-16 20:00:00</th>\n",
              "      <td>196.114</td>\n",
              "      <td>4.506</td>\n",
              "      <td>14044.29</td>\n",
              "      <td>835.0</td>\n",
              "      <td>0.0</td>\n",
              "      <td>0.0</td>\n",
              "      <td>1007.0</td>\n",
              "      <td>2261.566650</td>\n",
              "      <td>Saturday</td>\n",
              "      <td>2006-12-16</td>\n",
              "      <td>20:00:00</td>\n",
              "    </tr>\n",
              "    <tr>\n",
              "      <th>2006-12-16 21:00:00</th>\n",
              "      <td>183.388</td>\n",
              "      <td>4.600</td>\n",
              "      <td>14229.52</td>\n",
              "      <td>782.8</td>\n",
              "      <td>0.0</td>\n",
              "      <td>25.0</td>\n",
              "      <td>1033.0</td>\n",
              "      <td>1998.466675</td>\n",
              "      <td>Saturday</td>\n",
              "      <td>2006-12-16</td>\n",
              "      <td>21:00:00</td>\n",
              "    </tr>\n",
              "    <tr>\n",
              "      <th>...</th>\n",
              "      <td>...</td>\n",
              "      <td>...</td>\n",
              "      <td>...</td>\n",
              "      <td>...</td>\n",
              "      <td>...</td>\n",
              "      <td>...</td>\n",
              "      <td>...</td>\n",
              "      <td>...</td>\n",
              "      <td>...</td>\n",
              "      <td>...</td>\n",
              "      <td>...</td>\n",
              "    </tr>\n",
              "    <tr>\n",
              "      <th>2010-11-26 17:00:00</th>\n",
              "      <td>103.554</td>\n",
              "      <td>3.684</td>\n",
              "      <td>14224.18</td>\n",
              "      <td>433.0</td>\n",
              "      <td>0.0</td>\n",
              "      <td>0.0</td>\n",
              "      <td>772.0</td>\n",
              "      <td>953.899963</td>\n",
              "      <td>Friday</td>\n",
              "      <td>2010-11-26</td>\n",
              "      <td>17:00:00</td>\n",
              "    </tr>\n",
              "    <tr>\n",
              "      <th>2010-11-26 18:00:00</th>\n",
              "      <td>94.408</td>\n",
              "      <td>3.222</td>\n",
              "      <td>14251.91</td>\n",
              "      <td>397.2</td>\n",
              "      <td>0.0</td>\n",
              "      <td>0.0</td>\n",
              "      <td>0.0</td>\n",
              "      <td>1573.466675</td>\n",
              "      <td>Friday</td>\n",
              "      <td>2010-11-26</td>\n",
              "      <td>18:00:00</td>\n",
              "    </tr>\n",
              "    <tr>\n",
              "      <th>2010-11-26 19:00:00</th>\n",
              "      <td>99.560</td>\n",
              "      <td>3.602</td>\n",
              "      <td>14204.46</td>\n",
              "      <td>423.4</td>\n",
              "      <td>0.0</td>\n",
              "      <td>4.0</td>\n",
              "      <td>0.0</td>\n",
              "      <td>1655.333374</td>\n",
              "      <td>Friday</td>\n",
              "      <td>2010-11-26</td>\n",
              "      <td>19:00:00</td>\n",
              "    </tr>\n",
              "    <tr>\n",
              "      <th>2010-11-26 20:00:00</th>\n",
              "      <td>69.822</td>\n",
              "      <td>3.670</td>\n",
              "      <td>14363.76</td>\n",
              "      <td>294.8</td>\n",
              "      <td>0.0</td>\n",
              "      <td>64.0</td>\n",
              "      <td>0.0</td>\n",
              "      <td>1099.699951</td>\n",
              "      <td>Friday</td>\n",
              "      <td>2010-11-26</td>\n",
              "      <td>20:00:00</td>\n",
              "    </tr>\n",
              "    <tr>\n",
              "      <th>2010-11-26 21:00:00</th>\n",
              "      <td>2.804</td>\n",
              "      <td>0.000</td>\n",
              "      <td>719.07</td>\n",
              "      <td>11.4</td>\n",
              "      <td>0.0</td>\n",
              "      <td>0.0</td>\n",
              "      <td>0.0</td>\n",
              "      <td>46.733334</td>\n",
              "      <td>Friday</td>\n",
              "      <td>2010-11-26</td>\n",
              "      <td>21:00:00</td>\n",
              "    </tr>\n",
              "  </tbody>\n",
              "</table>\n",
              "<p>34589 rows × 11 columns</p>\n",
              "</div>"
            ],
            "text/plain": [
              "                     Global_active_power  ...      Time\n",
              "dt                                        ...          \n",
              "2006-12-16 17:00:00              152.024  ...  17:00:00\n",
              "2006-12-16 18:00:00              217.932  ...  18:00:00\n",
              "2006-12-16 19:00:00              204.014  ...  19:00:00\n",
              "2006-12-16 20:00:00              196.114  ...  20:00:00\n",
              "2006-12-16 21:00:00              183.388  ...  21:00:00\n",
              "...                                  ...  ...       ...\n",
              "2010-11-26 17:00:00              103.554  ...  17:00:00\n",
              "2010-11-26 18:00:00               94.408  ...  18:00:00\n",
              "2010-11-26 19:00:00               99.560  ...  19:00:00\n",
              "2010-11-26 20:00:00               69.822  ...  20:00:00\n",
              "2010-11-26 21:00:00                2.804  ...  21:00:00\n",
              "\n",
              "[34589 rows x 11 columns]"
            ]
          },
          "metadata": {},
          "execution_count": 25
        }
      ]
    },
    {
      "cell_type": "code",
      "metadata": {
        "colab": {
          "base_uri": "https://localhost:8080/",
          "height": 422
        },
        "id": "yoxT6yMHXsFv",
        "outputId": "62f8f985-2ad0-47bd-fa8b-90576382b8d9"
      },
      "source": [
        "def fun(x):\n",
        "  return df_resample[(df_resample.index.hour == x[0].hour) & (df_resample.index.month == x[0].month) & (df_resample['day_name']==x[1])].Sub_metering_3.mean() #+ 33.006\n",
        "\n",
        "for_pred['hour_avg']=for_pred[['dt','var9(t)']].apply(fun,  axis=1)\n",
        "for_pred"
      ],
      "execution_count": null,
      "outputs": [
        {
          "output_type": "execute_result",
          "data": {
            "text/html": [
              "<div>\n",
              "<style scoped>\n",
              "    .dataframe tbody tr th:only-of-type {\n",
              "        vertical-align: middle;\n",
              "    }\n",
              "\n",
              "    .dataframe tbody tr th {\n",
              "        vertical-align: top;\n",
              "    }\n",
              "\n",
              "    .dataframe thead th {\n",
              "        text-align: right;\n",
              "    }\n",
              "</style>\n",
              "<table border=\"1\" class=\"dataframe\">\n",
              "  <thead>\n",
              "    <tr style=\"text-align: right;\">\n",
              "      <th></th>\n",
              "      <th>dt</th>\n",
              "      <th>var9(t)</th>\n",
              "      <th>Dates</th>\n",
              "      <th>Time</th>\n",
              "      <th>yhat</th>\n",
              "      <th>hour_avg</th>\n",
              "    </tr>\n",
              "  </thead>\n",
              "  <tbody>\n",
              "    <tr>\n",
              "      <th>0</th>\n",
              "      <td>2009-12-15 18:00:00</td>\n",
              "      <td>Tuesday</td>\n",
              "      <td>2009-12-15</td>\n",
              "      <td>18:00:00</td>\n",
              "      <td>332.669735</td>\n",
              "      <td>409.000000</td>\n",
              "    </tr>\n",
              "    <tr>\n",
              "      <th>1</th>\n",
              "      <td>2009-12-15 19:00:00</td>\n",
              "      <td>Tuesday</td>\n",
              "      <td>2009-12-15</td>\n",
              "      <td>19:00:00</td>\n",
              "      <td>357.745535</td>\n",
              "      <td>405.812500</td>\n",
              "    </tr>\n",
              "    <tr>\n",
              "      <th>2</th>\n",
              "      <td>2009-12-15 20:00:00</td>\n",
              "      <td>Tuesday</td>\n",
              "      <td>2009-12-15</td>\n",
              "      <td>20:00:00</td>\n",
              "      <td>457.671022</td>\n",
              "      <td>648.125000</td>\n",
              "    </tr>\n",
              "    <tr>\n",
              "      <th>3</th>\n",
              "      <td>2009-12-15 21:00:00</td>\n",
              "      <td>Tuesday</td>\n",
              "      <td>2009-12-15</td>\n",
              "      <td>21:00:00</td>\n",
              "      <td>433.711563</td>\n",
              "      <td>564.312500</td>\n",
              "    </tr>\n",
              "    <tr>\n",
              "      <th>4</th>\n",
              "      <td>2009-12-15 22:00:00</td>\n",
              "      <td>Tuesday</td>\n",
              "      <td>2009-12-15</td>\n",
              "      <td>22:00:00</td>\n",
              "      <td>528.972422</td>\n",
              "      <td>272.312500</td>\n",
              "    </tr>\n",
              "    <tr>\n",
              "      <th>...</th>\n",
              "      <td>...</td>\n",
              "      <td>...</td>\n",
              "      <td>...</td>\n",
              "      <td>...</td>\n",
              "      <td>...</td>\n",
              "      <td>...</td>\n",
              "    </tr>\n",
              "    <tr>\n",
              "      <th>495</th>\n",
              "      <td>2010-01-05 09:00:00</td>\n",
              "      <td>Tuesday</td>\n",
              "      <td>2010-01-05</td>\n",
              "      <td>09:00:00</td>\n",
              "      <td>920.070446</td>\n",
              "      <td>721.166667</td>\n",
              "    </tr>\n",
              "    <tr>\n",
              "      <th>496</th>\n",
              "      <td>2010-01-05 10:00:00</td>\n",
              "      <td>Tuesday</td>\n",
              "      <td>2010-01-05</td>\n",
              "      <td>10:00:00</td>\n",
              "      <td>932.853618</td>\n",
              "      <td>664.888889</td>\n",
              "    </tr>\n",
              "    <tr>\n",
              "      <th>497</th>\n",
              "      <td>2010-01-05 11:00:00</td>\n",
              "      <td>Tuesday</td>\n",
              "      <td>2010-01-05</td>\n",
              "      <td>11:00:00</td>\n",
              "      <td>882.593581</td>\n",
              "      <td>665.000000</td>\n",
              "    </tr>\n",
              "    <tr>\n",
              "      <th>498</th>\n",
              "      <td>2010-01-05 12:00:00</td>\n",
              "      <td>Tuesday</td>\n",
              "      <td>2010-01-05</td>\n",
              "      <td>12:00:00</td>\n",
              "      <td>891.907501</td>\n",
              "      <td>689.555556</td>\n",
              "    </tr>\n",
              "    <tr>\n",
              "      <th>499</th>\n",
              "      <td>2010-01-05 13:00:00</td>\n",
              "      <td>Tuesday</td>\n",
              "      <td>2010-01-05</td>\n",
              "      <td>13:00:00</td>\n",
              "      <td>880.874484</td>\n",
              "      <td>673.388889</td>\n",
              "    </tr>\n",
              "  </tbody>\n",
              "</table>\n",
              "<p>500 rows × 6 columns</p>\n",
              "</div>"
            ],
            "text/plain": [
              "                     dt  var9(t)       Dates      Time        yhat    hour_avg\n",
              "0   2009-12-15 18:00:00  Tuesday  2009-12-15  18:00:00  332.669735  409.000000\n",
              "1   2009-12-15 19:00:00  Tuesday  2009-12-15  19:00:00  357.745535  405.812500\n",
              "2   2009-12-15 20:00:00  Tuesday  2009-12-15  20:00:00  457.671022  648.125000\n",
              "3   2009-12-15 21:00:00  Tuesday  2009-12-15  21:00:00  433.711563  564.312500\n",
              "4   2009-12-15 22:00:00  Tuesday  2009-12-15  22:00:00  528.972422  272.312500\n",
              "..                  ...      ...         ...       ...         ...         ...\n",
              "495 2010-01-05 09:00:00  Tuesday  2010-01-05  09:00:00  920.070446  721.166667\n",
              "496 2010-01-05 10:00:00  Tuesday  2010-01-05  10:00:00  932.853618  664.888889\n",
              "497 2010-01-05 11:00:00  Tuesday  2010-01-05  11:00:00  882.593581  665.000000\n",
              "498 2010-01-05 12:00:00  Tuesday  2010-01-05  12:00:00  891.907501  689.555556\n",
              "499 2010-01-05 13:00:00  Tuesday  2010-01-05  13:00:00  880.874484  673.388889\n",
              "\n",
              "[500 rows x 6 columns]"
            ]
          },
          "metadata": {},
          "execution_count": 26
        }
      ]
    },
    {
      "cell_type": "code",
      "metadata": {
        "colab": {
          "base_uri": "https://localhost:8080/"
        },
        "id": "h5p1qw7pavBO",
        "outputId": "9e62ce4a-ac82-41fd-e710-7c8c21759395"
      },
      "source": [
        "for_pred[for_pred['yhat']>for_pred['hour_avg']].count()"
      ],
      "execution_count": null,
      "outputs": [
        {
          "output_type": "execute_result",
          "data": {
            "text/plain": [
              "dt          277\n",
              "var9(t)     277\n",
              "Dates       277\n",
              "Time        277\n",
              "yhat        277\n",
              "hour_avg    277\n",
              "dtype: int64"
            ]
          },
          "metadata": {},
          "execution_count": 27
        }
      ]
    },
    {
      "cell_type": "code",
      "metadata": {
        "colab": {
          "base_uri": "https://localhost:8080/",
          "height": 205
        },
        "id": "l0Ql2SnnUNgk",
        "outputId": "7d14ab14-8af8-43c3-9af1-d72c847b29a4"
      },
      "source": [
        "warning = for_pred[for_pred['yhat']>for_pred['hour_avg']].copy()\n",
        "warning['difference']= warning.yhat - warning.hour_avg\n",
        "warning.head()"
      ],
      "execution_count": null,
      "outputs": [
        {
          "output_type": "execute_result",
          "data": {
            "text/html": [
              "<div>\n",
              "<style scoped>\n",
              "    .dataframe tbody tr th:only-of-type {\n",
              "        vertical-align: middle;\n",
              "    }\n",
              "\n",
              "    .dataframe tbody tr th {\n",
              "        vertical-align: top;\n",
              "    }\n",
              "\n",
              "    .dataframe thead th {\n",
              "        text-align: right;\n",
              "    }\n",
              "</style>\n",
              "<table border=\"1\" class=\"dataframe\">\n",
              "  <thead>\n",
              "    <tr style=\"text-align: right;\">\n",
              "      <th></th>\n",
              "      <th>dt</th>\n",
              "      <th>var9(t)</th>\n",
              "      <th>Dates</th>\n",
              "      <th>Time</th>\n",
              "      <th>yhat</th>\n",
              "      <th>hour_avg</th>\n",
              "      <th>difference</th>\n",
              "    </tr>\n",
              "  </thead>\n",
              "  <tbody>\n",
              "    <tr>\n",
              "      <th>4</th>\n",
              "      <td>2009-12-15 22:00:00</td>\n",
              "      <td>Tuesday</td>\n",
              "      <td>2009-12-15</td>\n",
              "      <td>22:00:00</td>\n",
              "      <td>528.972422</td>\n",
              "      <td>272.3125</td>\n",
              "      <td>256.659922</td>\n",
              "    </tr>\n",
              "    <tr>\n",
              "      <th>5</th>\n",
              "      <td>2009-12-15 23:00:00</td>\n",
              "      <td>Tuesday</td>\n",
              "      <td>2009-12-15</td>\n",
              "      <td>23:00:00</td>\n",
              "      <td>495.992291</td>\n",
              "      <td>217.6250</td>\n",
              "      <td>278.367291</td>\n",
              "    </tr>\n",
              "    <tr>\n",
              "      <th>7</th>\n",
              "      <td>2009-12-16 01:00:00</td>\n",
              "      <td>Wednesday</td>\n",
              "      <td>2009-12-16</td>\n",
              "      <td>01:00:00</td>\n",
              "      <td>134.230758</td>\n",
              "      <td>101.6875</td>\n",
              "      <td>32.543258</td>\n",
              "    </tr>\n",
              "    <tr>\n",
              "      <th>9</th>\n",
              "      <td>2009-12-16 03:00:00</td>\n",
              "      <td>Wednesday</td>\n",
              "      <td>2009-12-16</td>\n",
              "      <td>03:00:00</td>\n",
              "      <td>159.603909</td>\n",
              "      <td>102.0000</td>\n",
              "      <td>57.603909</td>\n",
              "    </tr>\n",
              "    <tr>\n",
              "      <th>12</th>\n",
              "      <td>2009-12-16 06:00:00</td>\n",
              "      <td>Wednesday</td>\n",
              "      <td>2009-12-16</td>\n",
              "      <td>06:00:00</td>\n",
              "      <td>295.331883</td>\n",
              "      <td>254.6250</td>\n",
              "      <td>40.706883</td>\n",
              "    </tr>\n",
              "  </tbody>\n",
              "</table>\n",
              "</div>"
            ],
            "text/plain": [
              "                    dt    var9(t)       Dates  ...        yhat  hour_avg  difference\n",
              "4  2009-12-15 22:00:00    Tuesday  2009-12-15  ...  528.972422  272.3125  256.659922\n",
              "5  2009-12-15 23:00:00    Tuesday  2009-12-15  ...  495.992291  217.6250  278.367291\n",
              "7  2009-12-16 01:00:00  Wednesday  2009-12-16  ...  134.230758  101.6875   32.543258\n",
              "9  2009-12-16 03:00:00  Wednesday  2009-12-16  ...  159.603909  102.0000   57.603909\n",
              "12 2009-12-16 06:00:00  Wednesday  2009-12-16  ...  295.331883  254.6250   40.706883\n",
              "\n",
              "[5 rows x 7 columns]"
            ]
          },
          "metadata": {},
          "execution_count": 28
        }
      ]
    },
    {
      "cell_type": "code",
      "metadata": {
        "colab": {
          "base_uri": "https://localhost:8080/",
          "height": 369
        },
        "id": "z-nFjOl6wGmB",
        "outputId": "540a8896-b967-499c-e6f5-db9ae05e3640"
      },
      "source": [
        "from pylab import rcParams\n",
        "rcParams['figure.figsize'] =8, 5\n",
        "\n",
        "aa=[x for x in range(500)]\n",
        "#plt.plot(reframed1[n_train_time:n_train_time+200].index, inv_y[:500], marker='.',color='b', label=\"actual\")\n",
        "plt.plot(reframed1[n_train_time:n_train_time+500].index, inv_yhat[:500], color='darkgreen', label=\"Prediction\")\n",
        "plt.plot(warning.dt, warning.yhat,'s',color='red', label=\"Warning\")\n",
        "plt.plot(warning.dt, warning.hour_avg,'*',color='blue', label=\"avg\")\n",
        "\n",
        "plt.xticks(rotation=45)\n",
        "\n",
        "plt.legend(fontsize=11)\n",
        "\n",
        "plt.show()"
      ],
      "execution_count": null,
      "outputs": [
        {
          "output_type": "display_data",
          "data": {
            "image/png": "[encoded data removed]",
            "text/plain": [
              "<Figure size 576x360 with 1 Axes>"
            ]
          },
          "metadata": {
            "needs_background": "light"
          }
        }
      ]
    },
    {
      "cell_type": "code",
      "metadata": {
        "colab": {
          "base_uri": "https://localhost:8080/"
        },
        "id": "4A1bu6hkUoYJ",
        "outputId": "b89e5b39-c2ca-4dcb-f9d8-debe9c31fed8"
      },
      "source": [
        "warning.difference.sum()"
      ],
      "execution_count": null,
      "outputs": [
        {
          "output_type": "execute_result",
          "data": {
            "text/plain": [
              "61536.67609576529"
            ]
          },
          "metadata": {},
          "execution_count": 31
        }
      ]
    }
  ]
}